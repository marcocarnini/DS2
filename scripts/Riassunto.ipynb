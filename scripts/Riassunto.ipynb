{
 "cells": [
  {
   "cell_type": "markdown",
   "metadata": {
    "toc": true
   },
   "source": [
    "<h1>Table of Contents<span class=\"tocSkip\"></span></h1>\n",
    "<div class=\"toc\"><ul class=\"toc-item\"><li><span><a href=\"#L'obiettivo\" data-toc-modified-id=\"L'obiettivo-1\"><span class=\"toc-item-num\">1&nbsp;&nbsp;</span>L'obiettivo</a></span></li><li><span><a href=\"#Importare-i-dati\" data-toc-modified-id=\"Importare-i-dati-2\"><span class=\"toc-item-num\">2&nbsp;&nbsp;</span>Importare i dati</a></span></li><li><span><a href=\"#Preparazione-dei-dati\" data-toc-modified-id=\"Preparazione-dei-dati-3\"><span class=\"toc-item-num\">3&nbsp;&nbsp;</span>Preparazione dei dati</a></span><ul class=\"toc-item\"><li><span><a href=\"#Data-types\" data-toc-modified-id=\"Data-types-3.1\"><span class=\"toc-item-num\">3.1&nbsp;&nbsp;</span>Data types</a></span></li><li><span><a href=\"#Dati-mancanti\" data-toc-modified-id=\"Dati-mancanti-3.2\"><span class=\"toc-item-num\">3.2&nbsp;&nbsp;</span>Dati mancanti</a></span></li></ul></li><li><span><a href=\"#Separando-i-dati-per-la-validazione\" data-toc-modified-id=\"Separando-i-dati-per-la-validazione-4\"><span class=\"toc-item-num\">4&nbsp;&nbsp;</span>Separando i dati per la validazione</a></span><ul class=\"toc-item\"><li><span><a href=\"#Random-Forest\" data-toc-modified-id=\"Random-Forest-4.1\"><span class=\"toc-item-num\">4.1&nbsp;&nbsp;</span>Random Forest</a></span></li><li><span><a href=\"#Xgboost\" data-toc-modified-id=\"Xgboost-4.2\"><span class=\"toc-item-num\">4.2&nbsp;&nbsp;</span>Xgboost</a></span></li></ul></li><li><span><a href=\"#Interpretabilità\" data-toc-modified-id=\"Interpretabilità-5\"><span class=\"toc-item-num\">5&nbsp;&nbsp;</span>Interpretabilità</a></span><ul class=\"toc-item\"><li><span><a href=\"#Permutation-importance\" data-toc-modified-id=\"Permutation-importance-5.1\"><span class=\"toc-item-num\">5.1&nbsp;&nbsp;</span>Permutation importance</a></span></li><li><span><a href=\"#Partial-plots\" data-toc-modified-id=\"Partial-plots-5.2\"><span class=\"toc-item-num\">5.2&nbsp;&nbsp;</span>Partial plots</a></span></li><li><span><a href=\"#Shap-values\" data-toc-modified-id=\"Shap-values-5.3\"><span class=\"toc-item-num\">5.3&nbsp;&nbsp;</span>Shap values</a></span></li></ul></li></ul></div>"
   ]
  },
  {
   "cell_type": "markdown",
   "metadata": {},
   "source": [
    "# L'obiettivo\n",
    "\n",
    "Come primo passo, cerco di controllare se ci siano cambiamenti sostanziali fra i dati per il 2018 ed il 2019. Più precisamente, se possa costruire un modello di classificazione dove le classi sono \"Appartiene al 2018\" o \"Appartiene al 2019\" ([adversarial validation](http://manishbarnwal.com/blog/2017/02/15/introduction_to_adversarial_validation/)).\n",
    "\n",
    "Se riesco a costruire un *buon* modello predittivo, significa che ci sono variazioni significative fra i due anni. Normalmente, escluderei le variabili che sono rilevanti per distinguere il 2018 dal 2019 in un modello addestrato (trained) per prevedere il 2019. Lo posso fare senza conoscere la variabile che voglio stimare per il 2019. \n",
    "\n",
    "Ma in questo caso, voglio trovare quali variabili permettono di distinguere il 2018 dal 2019 come strumento per sinteticamente descrivere le differenze fra 2018 e 2019."
   ]
  },
  {
   "cell_type": "markdown",
   "metadata": {},
   "source": [
    "# Importare i dati\n",
    "\n",
    "Come primo passo, importo i dati per il 2018 ed il 2019 per gli acquisti ordini diretti MEPA (poiché è il dataset con più dati disponibili."
   ]
  },
  {
   "cell_type": "code",
   "execution_count": 1,
   "metadata": {
    "ExecuteTime": {
     "end_time": "2020-05-09T12:44:07.916366Z",
     "start_time": "2020-05-09T12:44:07.368375Z"
    }
   },
   "outputs": [
    {
     "name": "stdout",
     "output_type": "stream",
     "text": [
      "(136003, 14)\n"
     ]
    },
    {
     "data": {
      "text/html": [
       "<div>\n",
       "<style scoped>\n",
       "    .dataframe tbody tr th:only-of-type {\n",
       "        vertical-align: middle;\n",
       "    }\n",
       "\n",
       "    .dataframe tbody tr th {\n",
       "        vertical-align: top;\n",
       "    }\n",
       "\n",
       "    .dataframe thead th {\n",
       "        text-align: right;\n",
       "    }\n",
       "</style>\n",
       "<table border=\"1\" class=\"dataframe\">\n",
       "  <thead>\n",
       "    <tr style=\"text-align: right;\">\n",
       "      <th></th>\n",
       "      <th>#Anno_Riferimento</th>\n",
       "      <th>Tipologia_Amministrazione</th>\n",
       "      <th>Regione_PA</th>\n",
       "      <th>Regione_Fornitore</th>\n",
       "      <th>Bando_Mepa</th>\n",
       "      <th>Categoria_Abilitazione</th>\n",
       "      <th>bene_servizio</th>\n",
       "      <th>codice_CPV</th>\n",
       "      <th>descrizione_CPV</th>\n",
       "      <th>N_Ordini</th>\n",
       "      <th>Valore_economico_Ordini</th>\n",
       "      <th>N_PA</th>\n",
       "      <th>N_fornitori</th>\n",
       "      <th>N_PO</th>\n",
       "    </tr>\n",
       "  </thead>\n",
       "  <tbody>\n",
       "    <tr>\n",
       "      <th>0</th>\n",
       "      <td>2018</td>\n",
       "      <td>UNIVERSITA' E POLITECNICI</td>\n",
       "      <td>PIEMONTE</td>\n",
       "      <td>CAMPANIA</td>\n",
       "      <td>BENI</td>\n",
       "      <td>FORNITURE SPECIFICHE PER LA SANITÀ</td>\n",
       "      <td>PALLONI RESERVOIR PER ANESTESIA E RIANIMAZIONE</td>\n",
       "      <td>33171000-9</td>\n",
       "      <td>STRUMENTI PER ANESTESIA E RIANIMAZIONE</td>\n",
       "      <td>1</td>\n",
       "      <td>33.80</td>\n",
       "      <td>1</td>\n",
       "      <td>1</td>\n",
       "      <td>1</td>\n",
       "    </tr>\n",
       "    <tr>\n",
       "      <th>1</th>\n",
       "      <td>2018</td>\n",
       "      <td>UNIVERSITA' E POLITECNICI</td>\n",
       "      <td>PIEMONTE</td>\n",
       "      <td>CAMPANIA</td>\n",
       "      <td>BENI</td>\n",
       "      <td>FORNITURE SPECIFICHE PER LA SANITÀ</td>\n",
       "      <td>BENDAGGI</td>\n",
       "      <td>33141100-1</td>\n",
       "      <td>FASCIATURE, GRAPPETTE, SUTURE, LEGATURE</td>\n",
       "      <td>1</td>\n",
       "      <td>1.92</td>\n",
       "      <td>1</td>\n",
       "      <td>1</td>\n",
       "      <td>1</td>\n",
       "    </tr>\n",
       "    <tr>\n",
       "      <th>2</th>\n",
       "      <td>2018</td>\n",
       "      <td>UNIVERSITA' E POLITECNICI</td>\n",
       "      <td>PIEMONTE</td>\n",
       "      <td>CAMPANIA</td>\n",
       "      <td>BENI</td>\n",
       "      <td>TESSUTI, INDUMENTI (DPI E NON), EQUIPAGGIAMENT...</td>\n",
       "      <td>ATTREZZATURE DI PRIMO SOCCORSO</td>\n",
       "      <td>33141623-3</td>\n",
       "      <td>CASSETTE DI PRONTO SOCCORSO</td>\n",
       "      <td>3</td>\n",
       "      <td>1490.16</td>\n",
       "      <td>2</td>\n",
       "      <td>1</td>\n",
       "      <td>3</td>\n",
       "    </tr>\n",
       "    <tr>\n",
       "      <th>3</th>\n",
       "      <td>2018</td>\n",
       "      <td>UNIVERSITA' E POLITECNICI</td>\n",
       "      <td>PIEMONTE</td>\n",
       "      <td>CAMPANIA</td>\n",
       "      <td>BENI</td>\n",
       "      <td>TESSUTI, INDUMENTI (DPI E NON), EQUIPAGGIAMENT...</td>\n",
       "      <td>BORSE, ZAINI, VALIGIE E BUFFETTERIA</td>\n",
       "      <td>18900000-8</td>\n",
       "      <td>BAGAGLI, SELLERIA, SACCHI E BORSE</td>\n",
       "      <td>1</td>\n",
       "      <td>116.00</td>\n",
       "      <td>1</td>\n",
       "      <td>1</td>\n",
       "      <td>1</td>\n",
       "    </tr>\n",
       "    <tr>\n",
       "      <th>4</th>\n",
       "      <td>2018</td>\n",
       "      <td>UNIVERSITA' E POLITECNICI</td>\n",
       "      <td>PIEMONTE</td>\n",
       "      <td>CAMPANIA</td>\n",
       "      <td>BENI</td>\n",
       "      <td>TESSUTI, INDUMENTI (DPI E NON), EQUIPAGGIAMENT...</td>\n",
       "      <td>DIVISE E UNIFORMI</td>\n",
       "      <td>18110000-3</td>\n",
       "      <td>INDUMENTI PROFESSIONALI</td>\n",
       "      <td>1</td>\n",
       "      <td>19237.84</td>\n",
       "      <td>1</td>\n",
       "      <td>1</td>\n",
       "      <td>1</td>\n",
       "    </tr>\n",
       "  </tbody>\n",
       "</table>\n",
       "</div>"
      ],
      "text/plain": [
       "   #Anno_Riferimento  Tipologia_Amministrazione Regione_PA Regione_Fornitore  \\\n",
       "0               2018  UNIVERSITA' E POLITECNICI   PIEMONTE          CAMPANIA   \n",
       "1               2018  UNIVERSITA' E POLITECNICI   PIEMONTE          CAMPANIA   \n",
       "2               2018  UNIVERSITA' E POLITECNICI   PIEMONTE          CAMPANIA   \n",
       "3               2018  UNIVERSITA' E POLITECNICI   PIEMONTE          CAMPANIA   \n",
       "4               2018  UNIVERSITA' E POLITECNICI   PIEMONTE          CAMPANIA   \n",
       "\n",
       "  Bando_Mepa                             Categoria_Abilitazione  \\\n",
       "0       BENI                 FORNITURE SPECIFICHE PER LA SANITÀ   \n",
       "1       BENI                 FORNITURE SPECIFICHE PER LA SANITÀ   \n",
       "2       BENI  TESSUTI, INDUMENTI (DPI E NON), EQUIPAGGIAMENT...   \n",
       "3       BENI  TESSUTI, INDUMENTI (DPI E NON), EQUIPAGGIAMENT...   \n",
       "4       BENI  TESSUTI, INDUMENTI (DPI E NON), EQUIPAGGIAMENT...   \n",
       "\n",
       "                                    bene_servizio  codice_CPV  \\\n",
       "0  PALLONI RESERVOIR PER ANESTESIA E RIANIMAZIONE  33171000-9   \n",
       "1                                        BENDAGGI  33141100-1   \n",
       "2                  ATTREZZATURE DI PRIMO SOCCORSO  33141623-3   \n",
       "3             BORSE, ZAINI, VALIGIE E BUFFETTERIA  18900000-8   \n",
       "4                               DIVISE E UNIFORMI  18110000-3   \n",
       "\n",
       "                           descrizione_CPV  N_Ordini  Valore_economico_Ordini  \\\n",
       "0   STRUMENTI PER ANESTESIA E RIANIMAZIONE         1                    33.80   \n",
       "1  FASCIATURE, GRAPPETTE, SUTURE, LEGATURE         1                     1.92   \n",
       "2              CASSETTE DI PRONTO SOCCORSO         3                  1490.16   \n",
       "3        BAGAGLI, SELLERIA, SACCHI E BORSE         1                   116.00   \n",
       "4                  INDUMENTI PROFESSIONALI         1                 19237.84   \n",
       "\n",
       "   N_PA  N_fornitori  N_PO  \n",
       "0     1            1     1  \n",
       "1     1            1     1  \n",
       "2     2            1     3  \n",
       "3     1            1     1  \n",
       "4     1            1     1  "
      ]
     },
     "execution_count": 1,
     "metadata": {},
     "output_type": "execute_result"
    }
   ],
   "source": [
    "import pandas as pd\n",
    "\n",
    "\n",
    "a2018 = pd.read_csv(\n",
    "    \"../input/ordini-mepa-2018.csv\", skiprows=0, encoding=\"ISO-8859-1\", decimal=\",\"\n",
    ")\n",
    "print(a2018.shape)\n",
    "a2018.head()"
   ]
  },
  {
   "cell_type": "code",
   "execution_count": 2,
   "metadata": {
    "ExecuteTime": {
     "end_time": "2020-05-09T12:44:08.350081Z",
     "start_time": "2020-05-09T12:44:07.918096Z"
    }
   },
   "outputs": [
    {
     "name": "stdout",
     "output_type": "stream",
     "text": [
      "(201024, 16)\n"
     ]
    },
    {
     "data": {
      "text/html": [
       "<div>\n",
       "<style scoped>\n",
       "    .dataframe tbody tr th:only-of-type {\n",
       "        vertical-align: middle;\n",
       "    }\n",
       "\n",
       "    .dataframe tbody tr th {\n",
       "        vertical-align: top;\n",
       "    }\n",
       "\n",
       "    .dataframe thead th {\n",
       "        text-align: right;\n",
       "    }\n",
       "</style>\n",
       "<table border=\"1\" class=\"dataframe\">\n",
       "  <thead>\n",
       "    <tr style=\"text-align: right;\">\n",
       "      <th></th>\n",
       "      <th>#Anno_Riferimento</th>\n",
       "      <th>Tipologia_Amministrazione</th>\n",
       "      <th>Regione_PA</th>\n",
       "      <th>Provincia_PA</th>\n",
       "      <th>Sigla_provincia_PA</th>\n",
       "      <th>Regione_Fornitore</th>\n",
       "      <th>Bando_Mepa</th>\n",
       "      <th>Categoria_Abilitazione</th>\n",
       "      <th>bene_servizio</th>\n",
       "      <th>codice_CPV</th>\n",
       "      <th>descrizione_CPV</th>\n",
       "      <th>N_Ordini</th>\n",
       "      <th>Valore_economico_Ordini</th>\n",
       "      <th>N_PA</th>\n",
       "      <th>N_fornitori</th>\n",
       "      <th>N_PO</th>\n",
       "    </tr>\n",
       "  </thead>\n",
       "  <tbody>\n",
       "    <tr>\n",
       "      <th>0</th>\n",
       "      <td>2019</td>\n",
       "      <td>AZIENDE OSPEDALIERE, POLICLINICI, IRCCS e ISTI...</td>\n",
       "      <td>CAMPANIA</td>\n",
       "      <td>NAPOLI</td>\n",
       "      <td>NaN</td>\n",
       "      <td>LAZIO</td>\n",
       "      <td>BENI</td>\n",
       "      <td>FORNITURE SPECIFICHE PER LA SANITÀ</td>\n",
       "      <td>FIBROSCOPI FLESSIBILI PER ENDOSCOPIA</td>\n",
       "      <td>33168000-5</td>\n",
       "      <td>APPARECCHI PER ENDOSCOPIA E ENDOCHIRURGIA</td>\n",
       "      <td>1</td>\n",
       "      <td>13000.00</td>\n",
       "      <td>1</td>\n",
       "      <td>1</td>\n",
       "      <td>1</td>\n",
       "    </tr>\n",
       "    <tr>\n",
       "      <th>1</th>\n",
       "      <td>2019</td>\n",
       "      <td>AZIENDE OSPEDALIERE, POLICLINICI, IRCCS e ISTI...</td>\n",
       "      <td>CAMPANIA</td>\n",
       "      <td>NAPOLI</td>\n",
       "      <td>NaN</td>\n",
       "      <td>LAZIO</td>\n",
       "      <td>BENI</td>\n",
       "      <td>INFORMATICA, ELETTRONICA, TELECOMUNICAZIONI E ...</td>\n",
       "      <td>SCHEDE MADRI</td>\n",
       "      <td>30237140-2</td>\n",
       "      <td>SCHEDE MADRI</td>\n",
       "      <td>1</td>\n",
       "      <td>32.98</td>\n",
       "      <td>1</td>\n",
       "      <td>1</td>\n",
       "      <td>1</td>\n",
       "    </tr>\n",
       "    <tr>\n",
       "      <th>2</th>\n",
       "      <td>2019</td>\n",
       "      <td>AZIENDE OSPEDALIERE, POLICLINICI, IRCCS e ISTI...</td>\n",
       "      <td>CAMPANIA</td>\n",
       "      <td>NAPOLI</td>\n",
       "      <td>NaN</td>\n",
       "      <td>LAZIO</td>\n",
       "      <td>BENI</td>\n",
       "      <td>ATTREZZATURE E SEGNALETICA STRADALE</td>\n",
       "      <td>SEGNALI STRADALI ORIZZONTALI E VERTICALI E ATT...</td>\n",
       "      <td>34928470-3</td>\n",
       "      <td>SEGNALETICA</td>\n",
       "      <td>1</td>\n",
       "      <td>210.00</td>\n",
       "      <td>1</td>\n",
       "      <td>1</td>\n",
       "      <td>1</td>\n",
       "    </tr>\n",
       "    <tr>\n",
       "      <th>3</th>\n",
       "      <td>2019</td>\n",
       "      <td>AZIENDE OSPEDALIERE, POLICLINICI, IRCCS e ISTI...</td>\n",
       "      <td>CAMPANIA</td>\n",
       "      <td>NAPOLI</td>\n",
       "      <td>NaN</td>\n",
       "      <td>LAZIO</td>\n",
       "      <td>BENI</td>\n",
       "      <td>ATTREZZATURE E SEGNALETICA STRADALE</td>\n",
       "      <td>SEGNALI COMPLEMENTARI</td>\n",
       "      <td>34928470-3</td>\n",
       "      <td>SEGNALETICA</td>\n",
       "      <td>1</td>\n",
       "      <td>250.00</td>\n",
       "      <td>1</td>\n",
       "      <td>1</td>\n",
       "      <td>1</td>\n",
       "    </tr>\n",
       "    <tr>\n",
       "      <th>4</th>\n",
       "      <td>2019</td>\n",
       "      <td>AZIENDE OSPEDALIERE, POLICLINICI, IRCCS e ISTI...</td>\n",
       "      <td>CAMPANIA</td>\n",
       "      <td>NAPOLI</td>\n",
       "      <td>NaN</td>\n",
       "      <td>LAZIO</td>\n",
       "      <td>BENI</td>\n",
       "      <td>ARREDI</td>\n",
       "      <td>ELETTRODOMESTICI PER LA CASA E LA PERSONA</td>\n",
       "      <td>39710000-2</td>\n",
       "      <td>ELETTRODOMESTICI</td>\n",
       "      <td>2</td>\n",
       "      <td>1230.60</td>\n",
       "      <td>2</td>\n",
       "      <td>2</td>\n",
       "      <td>2</td>\n",
       "    </tr>\n",
       "  </tbody>\n",
       "</table>\n",
       "</div>"
      ],
      "text/plain": [
       "   #Anno_Riferimento                          Tipologia_Amministrazione  \\\n",
       "0               2019  AZIENDE OSPEDALIERE, POLICLINICI, IRCCS e ISTI...   \n",
       "1               2019  AZIENDE OSPEDALIERE, POLICLINICI, IRCCS e ISTI...   \n",
       "2               2019  AZIENDE OSPEDALIERE, POLICLINICI, IRCCS e ISTI...   \n",
       "3               2019  AZIENDE OSPEDALIERE, POLICLINICI, IRCCS e ISTI...   \n",
       "4               2019  AZIENDE OSPEDALIERE, POLICLINICI, IRCCS e ISTI...   \n",
       "\n",
       "  Regione_PA Provincia_PA Sigla_provincia_PA Regione_Fornitore Bando_Mepa  \\\n",
       "0   CAMPANIA       NAPOLI                NaN             LAZIO       BENI   \n",
       "1   CAMPANIA       NAPOLI                NaN             LAZIO       BENI   \n",
       "2   CAMPANIA       NAPOLI                NaN             LAZIO       BENI   \n",
       "3   CAMPANIA       NAPOLI                NaN             LAZIO       BENI   \n",
       "4   CAMPANIA       NAPOLI                NaN             LAZIO       BENI   \n",
       "\n",
       "                              Categoria_Abilitazione  \\\n",
       "0                 FORNITURE SPECIFICHE PER LA SANITÀ   \n",
       "1  INFORMATICA, ELETTRONICA, TELECOMUNICAZIONI E ...   \n",
       "2                ATTREZZATURE E SEGNALETICA STRADALE   \n",
       "3                ATTREZZATURE E SEGNALETICA STRADALE   \n",
       "4                                             ARREDI   \n",
       "\n",
       "                                       bene_servizio  codice_CPV  \\\n",
       "0               FIBROSCOPI FLESSIBILI PER ENDOSCOPIA  33168000-5   \n",
       "1                                       SCHEDE MADRI  30237140-2   \n",
       "2  SEGNALI STRADALI ORIZZONTALI E VERTICALI E ATT...  34928470-3   \n",
       "3                              SEGNALI COMPLEMENTARI  34928470-3   \n",
       "4          ELETTRODOMESTICI PER LA CASA E LA PERSONA  39710000-2   \n",
       "\n",
       "                             descrizione_CPV  N_Ordini  \\\n",
       "0  APPARECCHI PER ENDOSCOPIA E ENDOCHIRURGIA         1   \n",
       "1                               SCHEDE MADRI         1   \n",
       "2                                SEGNALETICA         1   \n",
       "3                                SEGNALETICA         1   \n",
       "4                           ELETTRODOMESTICI         2   \n",
       "\n",
       "   Valore_economico_Ordini  N_PA  N_fornitori  N_PO  \n",
       "0                 13000.00     1            1     1  \n",
       "1                    32.98     1            1     1  \n",
       "2                   210.00     1            1     1  \n",
       "3                   250.00     1            1     1  \n",
       "4                  1230.60     2            2     2  "
      ]
     },
     "execution_count": 2,
     "metadata": {},
     "output_type": "execute_result"
    }
   ],
   "source": [
    "a2019 = pd.read_csv(\n",
    "    \"../input/ordini-mepa-2019.csv\", skiprows=0, encoding=\"ISO-8859-1\", decimal=\",\"\n",
    ")\n",
    "print(a2019.shape)\n",
    "a2019.head()"
   ]
  },
  {
   "cell_type": "markdown",
   "metadata": {},
   "source": [
    "I dati per il 2019 sono più numerosi, quindi se usassi come criterio l'accuratezza nel prevedere l'appartenenza al 2018/2019. Di conseguenza, uso l'AUC. \n",
    "\n",
    "Ma prima, la preparazione dei dati.\n",
    "\n",
    "# Preparazione dei dati"
   ]
  },
  {
   "cell_type": "code",
   "execution_count": 3,
   "metadata": {
    "ExecuteTime": {
     "end_time": "2020-05-09T12:44:08.354741Z",
     "start_time": "2020-05-09T12:44:08.351553Z"
    }
   },
   "outputs": [
    {
     "data": {
      "text/plain": [
       "Index(['#Anno_Riferimento', 'Tipologia_Amministrazione', 'Regione_PA',\n",
       "       'Regione_Fornitore', 'Bando_Mepa', 'Categoria_Abilitazione',\n",
       "       'bene_servizio', 'codice_CPV', 'descrizione_CPV', 'N_Ordini',\n",
       "       'Valore_economico_Ordini', 'N_PA', 'N_fornitori', 'N_PO'],\n",
       "      dtype='object')"
      ]
     },
     "execution_count": 3,
     "metadata": {},
     "output_type": "execute_result"
    }
   ],
   "source": [
    "a2018.columns"
   ]
  },
  {
   "cell_type": "code",
   "execution_count": 4,
   "metadata": {
    "ExecuteTime": {
     "end_time": "2020-05-09T12:44:08.361338Z",
     "start_time": "2020-05-09T12:44:08.356448Z"
    }
   },
   "outputs": [
    {
     "data": {
      "text/plain": [
       "Index(['#Anno_Riferimento', 'Tipologia_Amministrazione', 'Regione_PA',\n",
       "       'Provincia_PA', 'Sigla_provincia_PA', 'Regione_Fornitore', 'Bando_Mepa',\n",
       "       'Categoria_Abilitazione', 'bene_servizio', 'codice_CPV',\n",
       "       'descrizione_CPV', 'N_Ordini', 'Valore_economico_Ordini', 'N_PA',\n",
       "       'N_fornitori', 'N_PO'],\n",
       "      dtype='object')"
      ]
     },
     "execution_count": 4,
     "metadata": {},
     "output_type": "execute_result"
    }
   ],
   "source": [
    "a2019.columns"
   ]
  },
  {
   "cell_type": "markdown",
   "metadata": {},
   "source": [
    "Considero solo le colonne in comune ai due data sets:"
   ]
  },
  {
   "cell_type": "code",
   "execution_count": 5,
   "metadata": {
    "ExecuteTime": {
     "end_time": "2020-05-09T12:44:08.366638Z",
     "start_time": "2020-05-09T12:44:08.362731Z"
    }
   },
   "outputs": [
    {
     "name": "stdout",
     "output_type": "stream",
     "text": [
      "{'bene_servizio', 'N_PO', 'Regione_PA', 'Regione_Fornitore', 'codice_CPV', 'Bando_Mepa', 'N_PA', 'Categoria_Abilitazione', 'Tipologia_Amministrazione', 'descrizione_CPV', 'N_Ordini', 'N_fornitori', '#Anno_Riferimento', 'Valore_economico_Ordini'}\n"
     ]
    }
   ],
   "source": [
    "common = set(a2018.columns).intersection(set(a2019.columns))\n",
    "print(common)"
   ]
  },
  {
   "cell_type": "markdown",
   "metadata": {},
   "source": [
    "Creo un unico dataset:"
   ]
  },
  {
   "cell_type": "code",
   "execution_count": 6,
   "metadata": {
    "ExecuteTime": {
     "end_time": "2020-05-09T12:44:08.473309Z",
     "start_time": "2020-05-09T12:44:08.368094Z"
    }
   },
   "outputs": [
    {
     "data": {
      "text/plain": [
       "(337027, 14)"
      ]
     },
     "execution_count": 6,
     "metadata": {},
     "output_type": "execute_result"
    }
   ],
   "source": [
    "df = pd.concat((a2018[common], a2019[common]), axis=0)\n",
    "df.shape"
   ]
  },
  {
   "cell_type": "markdown",
   "metadata": {},
   "source": [
    "## Data types\n",
    "\n",
    "Controllo il tipo delle colonne:"
   ]
  },
  {
   "cell_type": "code",
   "execution_count": 7,
   "metadata": {
    "ExecuteTime": {
     "end_time": "2020-05-09T12:44:08.480502Z",
     "start_time": "2020-05-09T12:44:08.475439Z"
    }
   },
   "outputs": [
    {
     "data": {
      "text/plain": [
       "bene_servizio                 object\n",
       "N_PO                           int64\n",
       "Regione_PA                    object\n",
       "Regione_Fornitore             object\n",
       "codice_CPV                    object\n",
       "Bando_Mepa                    object\n",
       "N_PA                           int64\n",
       "Categoria_Abilitazione        object\n",
       "Tipologia_Amministrazione     object\n",
       "descrizione_CPV               object\n",
       "N_Ordini                       int64\n",
       "N_fornitori                    int64\n",
       "#Anno_Riferimento              int64\n",
       "Valore_economico_Ordini      float64\n",
       "dtype: object"
      ]
     },
     "execution_count": 7,
     "metadata": {},
     "output_type": "execute_result"
    }
   ],
   "source": [
    "df.dtypes"
   ]
  },
  {
   "cell_type": "markdown",
   "metadata": {},
   "source": [
    "Le variabili di tipo ``object`` sono variabili categoriche. La versione che sto usando di ``pandas`` è la seguente:"
   ]
  },
  {
   "cell_type": "code",
   "execution_count": 8,
   "metadata": {
    "ExecuteTime": {
     "end_time": "2020-05-09T12:44:08.486530Z",
     "start_time": "2020-05-09T12:44:08.482346Z"
    }
   },
   "outputs": [
    {
     "data": {
      "text/plain": [
       "'1.0.3'"
      ]
     },
     "execution_count": 8,
     "metadata": {},
     "output_type": "execute_result"
    }
   ],
   "source": [
    "pd.__version__"
   ]
  },
  {
   "cell_type": "markdown",
   "metadata": {},
   "source": [
    "Quindi:"
   ]
  },
  {
   "cell_type": "code",
   "execution_count": 9,
   "metadata": {
    "ExecuteTime": {
     "end_time": "2020-05-09T12:44:08.640755Z",
     "start_time": "2020-05-09T12:44:08.488286Z"
    }
   },
   "outputs": [
    {
     "data": {
      "text/plain": [
       "bene_servizio                category\n",
       "N_PO                            int64\n",
       "Regione_PA                   category\n",
       "Regione_Fornitore            category\n",
       "codice_CPV                   category\n",
       "Bando_Mepa                   category\n",
       "N_PA                            int64\n",
       "Categoria_Abilitazione       category\n",
       "Tipologia_Amministrazione    category\n",
       "descrizione_CPV              category\n",
       "N_Ordini                        int64\n",
       "N_fornitori                     int64\n",
       "#Anno_Riferimento               int64\n",
       "Valore_economico_Ordini       float64\n",
       "dtype: object"
      ]
     },
     "execution_count": 9,
     "metadata": {},
     "output_type": "execute_result"
    }
   ],
   "source": [
    "categorical_columns = [\n",
    "    \"Categoria_Abilitazione\",\n",
    "    \"Tipologia_Amministrazione\",\n",
    "    \"codice_CPV\",\n",
    "    \"Regione_PA\",\n",
    "    \"Bando_Mepa\",\n",
    "    \"descrizione_CPV\",\n",
    "    \"bene_servizio\",\n",
    "    \"Regione_Fornitore\",\n",
    "]\n",
    "\n",
    "for i in categorical_columns:\n",
    "    df[i] = df[i].astype(\"category\")\n",
    "\n",
    "df.dtypes"
   ]
  },
  {
   "cell_type": "markdown",
   "metadata": {},
   "source": [
    "Quanti valori distinti ci sono per colonna?"
   ]
  },
  {
   "cell_type": "code",
   "execution_count": 10,
   "metadata": {
    "ExecuteTime": {
     "end_time": "2020-05-09T12:44:08.678581Z",
     "start_time": "2020-05-09T12:44:08.642226Z"
    }
   },
   "outputs": [
    {
     "data": {
      "text/plain": [
       "bene_servizio                  1404\n",
       "N_PO                            215\n",
       "Regione_PA                       20\n",
       "Regione_Fornitore                35\n",
       "codice_CPV                      635\n",
       "Bando_Mepa                        3\n",
       "N_PA                            164\n",
       "Categoria_Abilitazione           33\n",
       "Tipologia_Amministrazione        23\n",
       "descrizione_CPV                 634\n",
       "N_Ordini                        324\n",
       "N_fornitori                      92\n",
       "#Anno_Riferimento                 2\n",
       "Valore_economico_Ordini      126399\n",
       "dtype: int64"
      ]
     },
     "execution_count": 10,
     "metadata": {},
     "output_type": "execute_result"
    }
   ],
   "source": [
    "df.nunique()"
   ]
  },
  {
   "cell_type": "markdown",
   "metadata": {},
   "source": [
    "Dummy encoding delle variabili non sembra molto sensato (per esempio per ``bene_servizio`` con 1404 valori distinti). Un dato sorprendente è 35 distinti valori per ``Regione Fornitore`` (35 invece di 20?). Quali sono i valori distinti per ``Regione_Fornitore``?"
   ]
  },
  {
   "cell_type": "code",
   "execution_count": 11,
   "metadata": {
    "ExecuteTime": {
     "end_time": "2020-05-09T12:44:08.691268Z",
     "start_time": "2020-05-09T12:44:08.679784Z"
    }
   },
   "outputs": [
    {
     "data": {
      "text/plain": [
       "{'ABRUZZO',\n",
       " 'AUSTRIA',\n",
       " 'BASILICATA',\n",
       " 'BELGIO',\n",
       " 'CALABRIA',\n",
       " 'CAMPANIA',\n",
       " 'DANIMARCA',\n",
       " 'EMILIA ROMAGNA',\n",
       " 'FINLANDIA',\n",
       " 'FRANCIA',\n",
       " 'FRIULI VENEZIA GIULIA',\n",
       " 'GERMANIA',\n",
       " 'IRLANDA',\n",
       " 'ISRAELE',\n",
       " 'LAZIO',\n",
       " 'LIGURIA',\n",
       " 'LOMBARDIA',\n",
       " 'MARCHE',\n",
       " 'MOLISE',\n",
       " 'NORVEGIA',\n",
       " 'PAESI BASSI',\n",
       " 'PIEMONTE',\n",
       " 'PUGLIA',\n",
       " 'REGNO UNITO',\n",
       " 'SAN MARINO',\n",
       " 'SARDEGNA',\n",
       " 'SICILIA',\n",
       " 'SPAGNA',\n",
       " 'SVEZIA',\n",
       " 'SVIZZERA',\n",
       " 'TOSCANA',\n",
       " 'TRENTINO ALTO ADIGE',\n",
       " 'UMBRIA',\n",
       " \"VALLE D'AOSTA\",\n",
       " 'VENETO'}"
      ]
     },
     "execution_count": 11,
     "metadata": {},
     "output_type": "execute_result"
    }
   ],
   "source": [
    "set(df[\"Regione_Fornitore\"])"
   ]
  },
  {
   "cell_type": "markdown",
   "metadata": {
    "ExecuteTime": {
     "end_time": "2020-05-09T10:57:41.350385Z",
     "start_time": "2020-05-09T10:57:41.346853Z"
    }
   },
   "source": [
    "Ci sono anche nazioni straniere fra le \"regioni\". \n",
    "\n",
    "Voglio rappresentare le variabili categoriche in termini numerici. Per farlo, voglio usare la libreria [``category_encoders``](http://contrib.scikit-learn.org/category_encoders/), ed in particolare ``CatBoostEncoder``. \n",
    "\n",
    "Quest'ultimo è una versione più robusta contro l'overfitting del [``mean encoder``](http://contrib.scikit-learn.org/category_encoders/targetencoder.html), ma si basa sui valori delle righe precedenti del dataset. \n",
    "\n",
    "Questo significa per bisogna rimescolare (permutare) i dati iniziali prima di procedere:"
   ]
  },
  {
   "cell_type": "code",
   "execution_count": 12,
   "metadata": {
    "ExecuteTime": {
     "end_time": "2020-05-09T12:44:08.752702Z",
     "start_time": "2020-05-09T12:44:08.692305Z"
    }
   },
   "outputs": [],
   "source": [
    "df = df.sample(df.shape[0], random_state=2020)"
   ]
  },
  {
   "cell_type": "markdown",
   "metadata": {},
   "source": [
    "Ho fissato il random state per assicurare la riproducibilità dei calcoli (a parità di versione delle librerie usate)."
   ]
  },
  {
   "cell_type": "code",
   "execution_count": 13,
   "metadata": {
    "ExecuteTime": {
     "end_time": "2020-05-09T12:44:08.768749Z",
     "start_time": "2020-05-09T12:44:08.754062Z"
    }
   },
   "outputs": [
    {
     "data": {
      "text/html": [
       "<div>\n",
       "<style scoped>\n",
       "    .dataframe tbody tr th:only-of-type {\n",
       "        vertical-align: middle;\n",
       "    }\n",
       "\n",
       "    .dataframe tbody tr th {\n",
       "        vertical-align: top;\n",
       "    }\n",
       "\n",
       "    .dataframe thead th {\n",
       "        text-align: right;\n",
       "    }\n",
       "</style>\n",
       "<table border=\"1\" class=\"dataframe\">\n",
       "  <thead>\n",
       "    <tr style=\"text-align: right;\">\n",
       "      <th></th>\n",
       "      <th>bene_servizio</th>\n",
       "      <th>N_PO</th>\n",
       "      <th>Regione_PA</th>\n",
       "      <th>Regione_Fornitore</th>\n",
       "      <th>codice_CPV</th>\n",
       "      <th>Bando_Mepa</th>\n",
       "      <th>N_PA</th>\n",
       "      <th>Categoria_Abilitazione</th>\n",
       "      <th>Tipologia_Amministrazione</th>\n",
       "      <th>descrizione_CPV</th>\n",
       "      <th>N_Ordini</th>\n",
       "      <th>N_fornitori</th>\n",
       "      <th>#Anno_Riferimento</th>\n",
       "      <th>Valore_economico_Ordini</th>\n",
       "    </tr>\n",
       "  </thead>\n",
       "  <tbody>\n",
       "    <tr>\n",
       "      <th>40757</th>\n",
       "      <td>SCHEDE PER COMPUTER</td>\n",
       "      <td>1</td>\n",
       "      <td>CAMPANIA</td>\n",
       "      <td>LAZIO</td>\n",
       "      <td>30237130-9</td>\n",
       "      <td>BENI</td>\n",
       "      <td>1</td>\n",
       "      <td>INFORMATICA, ELETTRONICA, TELECOMUNICAZIONI E ...</td>\n",
       "      <td>MINISTERI E AGENZIE FISCALI</td>\n",
       "      <td>SCHEDE PER ELABORATORI</td>\n",
       "      <td>1</td>\n",
       "      <td>1</td>\n",
       "      <td>2018</td>\n",
       "      <td>2673.000</td>\n",
       "    </tr>\n",
       "    <tr>\n",
       "      <th>197153</th>\n",
       "      <td>ACCESSORI PER PRESENTAZIONI</td>\n",
       "      <td>2</td>\n",
       "      <td>EMILIA ROMAGNA</td>\n",
       "      <td>VENETO</td>\n",
       "      <td>30124000-4</td>\n",
       "      <td>BENI</td>\n",
       "      <td>2</td>\n",
       "      <td>INFORMATICA, ELETTRONICA, TELECOMUNICAZIONI E ...</td>\n",
       "      <td>AZIENDE OSPEDALIERE, POLICLINICI, IRCCS e ISTI...</td>\n",
       "      <td>PARTI E ACCESSORI DI MACCHINE PER UFFICIO</td>\n",
       "      <td>3</td>\n",
       "      <td>2</td>\n",
       "      <td>2019</td>\n",
       "      <td>875.750</td>\n",
       "    </tr>\n",
       "    <tr>\n",
       "      <th>73444</th>\n",
       "      <td>CAMERA PER ELETTROFORESI</td>\n",
       "      <td>1</td>\n",
       "      <td>LAZIO</td>\n",
       "      <td>LOMBARDIA</td>\n",
       "      <td>38430000-8</td>\n",
       "      <td>BENI</td>\n",
       "      <td>1</td>\n",
       "      <td>RICERCA, RILEVAZIONE SCIENTIFICA E DIAGNOSTICA</td>\n",
       "      <td>ENTI PUBBLICI NON ECONOMICI DELLO STATO ED AUT...</td>\n",
       "      <td>APPARECCHI PER ANALISI E RIVELAZIONE</td>\n",
       "      <td>1</td>\n",
       "      <td>1</td>\n",
       "      <td>2018</td>\n",
       "      <td>2970.000</td>\n",
       "    </tr>\n",
       "    <tr>\n",
       "      <th>26027</th>\n",
       "      <td>SEDIE PER COLLETTIVITÀ, SEDUTE SU BARRA, PANCH...</td>\n",
       "      <td>3</td>\n",
       "      <td>TOSCANA</td>\n",
       "      <td>LAZIO</td>\n",
       "      <td>39113000-7</td>\n",
       "      <td>BENI</td>\n",
       "      <td>2</td>\n",
       "      <td>ARREDI</td>\n",
       "      <td>UNIVERSITA' E POLITECNICI</td>\n",
       "      <td>SEDIE E SEDILI VARI</td>\n",
       "      <td>3</td>\n",
       "      <td>1</td>\n",
       "      <td>2018</td>\n",
       "      <td>3253.890</td>\n",
       "    </tr>\n",
       "    <tr>\n",
       "      <th>22372</th>\n",
       "      <td>LETTORI DI CODICI A BARRE</td>\n",
       "      <td>1</td>\n",
       "      <td>PUGLIA</td>\n",
       "      <td>BASILICATA</td>\n",
       "      <td>30216130-6</td>\n",
       "      <td>BENI</td>\n",
       "      <td>1</td>\n",
       "      <td>INFORMATICA, ELETTRONICA, TELECOMUNICAZIONI E ...</td>\n",
       "      <td>MINISTERI E AGENZIE FISCALI</td>\n",
       "      <td>LETTORI DI CODICI A BARRE</td>\n",
       "      <td>1</td>\n",
       "      <td>1</td>\n",
       "      <td>2019</td>\n",
       "      <td>149.400</td>\n",
       "    </tr>\n",
       "    <tr>\n",
       "      <th>159733</th>\n",
       "      <td>PENNARELLI IN FIBRA</td>\n",
       "      <td>1</td>\n",
       "      <td>MARCHE</td>\n",
       "      <td>PUGLIA</td>\n",
       "      <td>30192124-6</td>\n",
       "      <td>BENI</td>\n",
       "      <td>1</td>\n",
       "      <td>CANCELLERIA, CARTA, CONSUMABILI DA STAMPA E PR...</td>\n",
       "      <td>COMUNI</td>\n",
       "      <td>PENNARELLI</td>\n",
       "      <td>1</td>\n",
       "      <td>1</td>\n",
       "      <td>2019</td>\n",
       "      <td>263.408</td>\n",
       "    </tr>\n",
       "    <tr>\n",
       "      <th>184588</th>\n",
       "      <td>SECCHI</td>\n",
       "      <td>5</td>\n",
       "      <td>TOSCANA</td>\n",
       "      <td>TOSCANA</td>\n",
       "      <td>39224330-0</td>\n",
       "      <td>BENI</td>\n",
       "      <td>1</td>\n",
       "      <td>PRODOTTI MONOUSO, PER LE PULIZIE E PER LA RACC...</td>\n",
       "      <td>MINISTERI E AGENZIE FISCALI</td>\n",
       "      <td>SECCHI</td>\n",
       "      <td>7</td>\n",
       "      <td>5</td>\n",
       "      <td>2019</td>\n",
       "      <td>199.480</td>\n",
       "    </tr>\n",
       "    <tr>\n",
       "      <th>164492</th>\n",
       "      <td>ATTREZZATURE DI PRIMO SOCCORSO</td>\n",
       "      <td>1</td>\n",
       "      <td>SICILIA</td>\n",
       "      <td>PUGLIA</td>\n",
       "      <td>33141623-3</td>\n",
       "      <td>BENI</td>\n",
       "      <td>1</td>\n",
       "      <td>TESSUTI, INDUMENTI (DPI E NON), EQUIPAGGIAMENT...</td>\n",
       "      <td>MINISTERI E AGENZIE FISCALI</td>\n",
       "      <td>CASSETTE DI PRONTO SOCCORSO</td>\n",
       "      <td>1</td>\n",
       "      <td>1</td>\n",
       "      <td>2019</td>\n",
       "      <td>84.000</td>\n",
       "    </tr>\n",
       "    <tr>\n",
       "      <th>103810</th>\n",
       "      <td>LAMPADE FLUORESCENTI CIRCOLARI</td>\n",
       "      <td>1</td>\n",
       "      <td>LOMBARDIA</td>\n",
       "      <td>PUGLIA</td>\n",
       "      <td>31532900-3</td>\n",
       "      <td>BENI</td>\n",
       "      <td>1</td>\n",
       "      <td>MATERIALI ELETTRICI, DA COSTRUZIONE, FERRAMENTA</td>\n",
       "      <td>MINISTERI E AGENZIE FISCALI</td>\n",
       "      <td>LAMPADE FLUORESCENTI</td>\n",
       "      <td>1</td>\n",
       "      <td>1</td>\n",
       "      <td>2018</td>\n",
       "      <td>660.000</td>\n",
       "    </tr>\n",
       "    <tr>\n",
       "      <th>137743</th>\n",
       "      <td>SERVIZI DI OTTIMIZZAZIONE PC</td>\n",
       "      <td>1</td>\n",
       "      <td>LOMBARDIA</td>\n",
       "      <td>TOSCANA</td>\n",
       "      <td>72600000-6</td>\n",
       "      <td>SERVIZI</td>\n",
       "      <td>1</td>\n",
       "      <td>SERVIZI PER L'INFORMATION &amp; COMMUNICATION TECH...</td>\n",
       "      <td>COMUNI</td>\n",
       "      <td>SERVIZI DI CONSULENZA E ASSISTENZA INFORMATICA</td>\n",
       "      <td>1</td>\n",
       "      <td>1</td>\n",
       "      <td>2019</td>\n",
       "      <td>15.000</td>\n",
       "    </tr>\n",
       "  </tbody>\n",
       "</table>\n",
       "</div>"
      ],
      "text/plain": [
       "                                            bene_servizio  N_PO  \\\n",
       "40757                                 SCHEDE PER COMPUTER     1   \n",
       "197153                        ACCESSORI PER PRESENTAZIONI     2   \n",
       "73444                            CAMERA PER ELETTROFORESI     1   \n",
       "26027   SEDIE PER COLLETTIVITÀ, SEDUTE SU BARRA, PANCH...     3   \n",
       "22372                           LETTORI DI CODICI A BARRE     1   \n",
       "159733                                PENNARELLI IN FIBRA     1   \n",
       "184588                                             SECCHI     5   \n",
       "164492                     ATTREZZATURE DI PRIMO SOCCORSO     1   \n",
       "103810                     LAMPADE FLUORESCENTI CIRCOLARI     1   \n",
       "137743                       SERVIZI DI OTTIMIZZAZIONE PC     1   \n",
       "\n",
       "            Regione_PA Regione_Fornitore  codice_CPV Bando_Mepa  N_PA  \\\n",
       "40757         CAMPANIA             LAZIO  30237130-9       BENI     1   \n",
       "197153  EMILIA ROMAGNA            VENETO  30124000-4       BENI     2   \n",
       "73444            LAZIO         LOMBARDIA  38430000-8       BENI     1   \n",
       "26027          TOSCANA             LAZIO  39113000-7       BENI     2   \n",
       "22372           PUGLIA        BASILICATA  30216130-6       BENI     1   \n",
       "159733          MARCHE            PUGLIA  30192124-6       BENI     1   \n",
       "184588         TOSCANA           TOSCANA  39224330-0       BENI     1   \n",
       "164492         SICILIA            PUGLIA  33141623-3       BENI     1   \n",
       "103810       LOMBARDIA            PUGLIA  31532900-3       BENI     1   \n",
       "137743       LOMBARDIA           TOSCANA  72600000-6    SERVIZI     1   \n",
       "\n",
       "                                   Categoria_Abilitazione  \\\n",
       "40757   INFORMATICA, ELETTRONICA, TELECOMUNICAZIONI E ...   \n",
       "197153  INFORMATICA, ELETTRONICA, TELECOMUNICAZIONI E ...   \n",
       "73444      RICERCA, RILEVAZIONE SCIENTIFICA E DIAGNOSTICA   \n",
       "26027                                              ARREDI   \n",
       "22372   INFORMATICA, ELETTRONICA, TELECOMUNICAZIONI E ...   \n",
       "159733  CANCELLERIA, CARTA, CONSUMABILI DA STAMPA E PR...   \n",
       "184588  PRODOTTI MONOUSO, PER LE PULIZIE E PER LA RACC...   \n",
       "164492  TESSUTI, INDUMENTI (DPI E NON), EQUIPAGGIAMENT...   \n",
       "103810    MATERIALI ELETTRICI, DA COSTRUZIONE, FERRAMENTA   \n",
       "137743  SERVIZI PER L'INFORMATION & COMMUNICATION TECH...   \n",
       "\n",
       "                                Tipologia_Amministrazione  \\\n",
       "40757                         MINISTERI E AGENZIE FISCALI   \n",
       "197153  AZIENDE OSPEDALIERE, POLICLINICI, IRCCS e ISTI...   \n",
       "73444   ENTI PUBBLICI NON ECONOMICI DELLO STATO ED AUT...   \n",
       "26027                           UNIVERSITA' E POLITECNICI   \n",
       "22372                         MINISTERI E AGENZIE FISCALI   \n",
       "159733                                             COMUNI   \n",
       "184588                        MINISTERI E AGENZIE FISCALI   \n",
       "164492                        MINISTERI E AGENZIE FISCALI   \n",
       "103810                        MINISTERI E AGENZIE FISCALI   \n",
       "137743                                             COMUNI   \n",
       "\n",
       "                                       descrizione_CPV  N_Ordini  N_fornitori  \\\n",
       "40757                           SCHEDE PER ELABORATORI         1            1   \n",
       "197153       PARTI E ACCESSORI DI MACCHINE PER UFFICIO         3            2   \n",
       "73444             APPARECCHI PER ANALISI E RIVELAZIONE         1            1   \n",
       "26027                              SEDIE E SEDILI VARI         3            1   \n",
       "22372                        LETTORI DI CODICI A BARRE         1            1   \n",
       "159733                                      PENNARELLI         1            1   \n",
       "184588                                          SECCHI         7            5   \n",
       "164492                     CASSETTE DI PRONTO SOCCORSO         1            1   \n",
       "103810                            LAMPADE FLUORESCENTI         1            1   \n",
       "137743  SERVIZI DI CONSULENZA E ASSISTENZA INFORMATICA         1            1   \n",
       "\n",
       "        #Anno_Riferimento  Valore_economico_Ordini  \n",
       "40757                2018                 2673.000  \n",
       "197153               2019                  875.750  \n",
       "73444                2018                 2970.000  \n",
       "26027                2018                 3253.890  \n",
       "22372                2019                  149.400  \n",
       "159733               2019                  263.408  \n",
       "184588               2019                  199.480  \n",
       "164492               2019                   84.000  \n",
       "103810               2018                  660.000  \n",
       "137743               2019                   15.000  "
      ]
     },
     "execution_count": 13,
     "metadata": {},
     "output_type": "execute_result"
    }
   ],
   "source": [
    "df.head(n=10)"
   ]
  },
  {
   "cell_type": "markdown",
   "metadata": {},
   "source": [
    "## Dati mancanti\n",
    "\n",
    "Ci sono dati mancanti?"
   ]
  },
  {
   "cell_type": "code",
   "execution_count": 14,
   "metadata": {
    "ExecuteTime": {
     "end_time": "2020-05-09T12:44:08.787844Z",
     "start_time": "2020-05-09T12:44:08.770319Z"
    }
   },
   "outputs": [
    {
     "data": {
      "text/plain": [
       "bene_servizio                0.000000\n",
       "N_PO                         0.000000\n",
       "Regione_PA                   0.000000\n",
       "Regione_Fornitore            0.000000\n",
       "codice_CPV                   0.000000\n",
       "Bando_Mepa                   0.000000\n",
       "N_PA                         0.000000\n",
       "Categoria_Abilitazione       0.000000\n",
       "Tipologia_Amministrazione    0.000000\n",
       "descrizione_CPV              0.000000\n",
       "N_Ordini                     0.000000\n",
       "N_fornitori                  0.000000\n",
       "#Anno_Riferimento            0.000000\n",
       "Valore_economico_Ordini      0.000042\n",
       "dtype: float64"
      ]
     },
     "execution_count": 14,
     "metadata": {},
     "output_type": "execute_result"
    }
   ],
   "source": [
    "df.isnull().mean()"
   ]
  },
  {
   "cell_type": "code",
   "execution_count": 15,
   "metadata": {
    "ExecuteTime": {
     "end_time": "2020-05-09T12:44:08.805464Z",
     "start_time": "2020-05-09T12:44:08.789173Z"
    }
   },
   "outputs": [
    {
     "data": {
      "text/html": [
       "<div>\n",
       "<style scoped>\n",
       "    .dataframe tbody tr th:only-of-type {\n",
       "        vertical-align: middle;\n",
       "    }\n",
       "\n",
       "    .dataframe tbody tr th {\n",
       "        vertical-align: top;\n",
       "    }\n",
       "\n",
       "    .dataframe thead th {\n",
       "        text-align: right;\n",
       "    }\n",
       "</style>\n",
       "<table border=\"1\" class=\"dataframe\">\n",
       "  <thead>\n",
       "    <tr style=\"text-align: right;\">\n",
       "      <th></th>\n",
       "      <th>bene_servizio</th>\n",
       "      <th>N_PO</th>\n",
       "      <th>Regione_PA</th>\n",
       "      <th>Regione_Fornitore</th>\n",
       "      <th>codice_CPV</th>\n",
       "      <th>Bando_Mepa</th>\n",
       "      <th>N_PA</th>\n",
       "      <th>Categoria_Abilitazione</th>\n",
       "      <th>Tipologia_Amministrazione</th>\n",
       "      <th>descrizione_CPV</th>\n",
       "      <th>N_Ordini</th>\n",
       "      <th>N_fornitori</th>\n",
       "      <th>#Anno_Riferimento</th>\n",
       "      <th>Valore_economico_Ordini</th>\n",
       "    </tr>\n",
       "  </thead>\n",
       "  <tbody>\n",
       "    <tr>\n",
       "      <th>110946</th>\n",
       "      <td>SERVIZI DI PULIZIA DEGLI IMMOBILI</td>\n",
       "      <td>1</td>\n",
       "      <td>TOSCANA</td>\n",
       "      <td>TOSCANA</td>\n",
       "      <td>90910000-9</td>\n",
       "      <td>SERVIZI</td>\n",
       "      <td>1</td>\n",
       "      <td>PULIZIA DEGLI IMMOBILI, DISINFESTAZIONE E SANI...</td>\n",
       "      <td>ORGANI COSTITUZIONALI E ORGANI DELLO STATO</td>\n",
       "      <td>SERVIZI DI PULIZIA</td>\n",
       "      <td>1</td>\n",
       "      <td>1</td>\n",
       "      <td>2018</td>\n",
       "      <td>NaN</td>\n",
       "    </tr>\n",
       "    <tr>\n",
       "      <th>99295</th>\n",
       "      <td>SERVIZI DI PULIZIA DEGLI IMMOBILI</td>\n",
       "      <td>1</td>\n",
       "      <td>PIEMONTE</td>\n",
       "      <td>PIEMONTE</td>\n",
       "      <td>90910000-9</td>\n",
       "      <td>SERVIZI</td>\n",
       "      <td>1</td>\n",
       "      <td>PULIZIA DEGLI IMMOBILI, DISINFESTAZIONE E SANI...</td>\n",
       "      <td>AZIENDE ED ENTI TERRITORIALI DI SERVIZI PUBBLICI</td>\n",
       "      <td>SERVIZI DI PULIZIA</td>\n",
       "      <td>1</td>\n",
       "      <td>1</td>\n",
       "      <td>2019</td>\n",
       "      <td>NaN</td>\n",
       "    </tr>\n",
       "    <tr>\n",
       "      <th>107638</th>\n",
       "      <td>SERVIZI DI PULIZIA DEGLI IMMOBILI</td>\n",
       "      <td>2</td>\n",
       "      <td>VENETO</td>\n",
       "      <td>VENETO</td>\n",
       "      <td>90910000-9</td>\n",
       "      <td>SERVIZI</td>\n",
       "      <td>2</td>\n",
       "      <td>PULIZIA DEGLI IMMOBILI, DISINFESTAZIONE E SANI...</td>\n",
       "      <td>COMUNI</td>\n",
       "      <td>SERVIZI DI PULIZIA</td>\n",
       "      <td>5</td>\n",
       "      <td>2</td>\n",
       "      <td>2018</td>\n",
       "      <td>NaN</td>\n",
       "    </tr>\n",
       "    <tr>\n",
       "      <th>97919</th>\n",
       "      <td>SERVIZI DI PULIZIA DEGLI IMMOBILI</td>\n",
       "      <td>1</td>\n",
       "      <td>CAMPANIA</td>\n",
       "      <td>SICILIA</td>\n",
       "      <td>90910000-9</td>\n",
       "      <td>SERVIZI</td>\n",
       "      <td>1</td>\n",
       "      <td>PULIZIA DEGLI IMMOBILI, DISINFESTAZIONE E SANI...</td>\n",
       "      <td>MINISTERI E AGENZIE FISCALI</td>\n",
       "      <td>SERVIZI DI PULIZIA</td>\n",
       "      <td>1</td>\n",
       "      <td>1</td>\n",
       "      <td>2018</td>\n",
       "      <td>NaN</td>\n",
       "    </tr>\n",
       "    <tr>\n",
       "      <th>175979</th>\n",
       "      <td>SERVIZI DI PULIZIA DEGLI IMMOBILI</td>\n",
       "      <td>1</td>\n",
       "      <td>VENETO</td>\n",
       "      <td>VENETO</td>\n",
       "      <td>90910000-9</td>\n",
       "      <td>SERVIZI</td>\n",
       "      <td>1</td>\n",
       "      <td>PULIZIA DEGLI IMMOBILI, DISINFESTAZIONE E SANI...</td>\n",
       "      <td>COMUNI</td>\n",
       "      <td>SERVIZI DI PULIZIA</td>\n",
       "      <td>1</td>\n",
       "      <td>1</td>\n",
       "      <td>2019</td>\n",
       "      <td>NaN</td>\n",
       "    </tr>\n",
       "    <tr>\n",
       "      <th>95677</th>\n",
       "      <td>SERVIZI DI PULIZIA DEGLI IMMOBILI</td>\n",
       "      <td>1</td>\n",
       "      <td>LAZIO</td>\n",
       "      <td>SICILIA</td>\n",
       "      <td>90910000-9</td>\n",
       "      <td>SERVIZI</td>\n",
       "      <td>1</td>\n",
       "      <td>PULIZIA DEGLI IMMOBILI, DISINFESTAZIONE E SANI...</td>\n",
       "      <td>MINISTERI E AGENZIE FISCALI</td>\n",
       "      <td>SERVIZI DI PULIZIA</td>\n",
       "      <td>1</td>\n",
       "      <td>1</td>\n",
       "      <td>2018</td>\n",
       "      <td>NaN</td>\n",
       "    </tr>\n",
       "    <tr>\n",
       "      <th>38270</th>\n",
       "      <td>SERVIZI DI PULIZIA DEGLI IMMOBILI</td>\n",
       "      <td>1</td>\n",
       "      <td>PIEMONTE</td>\n",
       "      <td>EMILIA ROMAGNA</td>\n",
       "      <td>90910000-9</td>\n",
       "      <td>SERVIZI</td>\n",
       "      <td>1</td>\n",
       "      <td>PULIZIA DEGLI IMMOBILI, DISINFESTAZIONE E SANI...</td>\n",
       "      <td>COMUNI</td>\n",
       "      <td>SERVIZI DI PULIZIA</td>\n",
       "      <td>1</td>\n",
       "      <td>1</td>\n",
       "      <td>2018</td>\n",
       "      <td>NaN</td>\n",
       "    </tr>\n",
       "    <tr>\n",
       "      <th>46575</th>\n",
       "      <td>SERVIZI DI PULIZIA DEGLI IMMOBILI</td>\n",
       "      <td>1</td>\n",
       "      <td>LAZIO</td>\n",
       "      <td>LAZIO</td>\n",
       "      <td>90910000-9</td>\n",
       "      <td>SERVIZI</td>\n",
       "      <td>1</td>\n",
       "      <td>PULIZIA DEGLI IMMOBILI, DISINFESTAZIONE E SANI...</td>\n",
       "      <td>COMUNI</td>\n",
       "      <td>SERVIZI DI PULIZIA</td>\n",
       "      <td>1</td>\n",
       "      <td>1</td>\n",
       "      <td>2018</td>\n",
       "      <td>NaN</td>\n",
       "    </tr>\n",
       "    <tr>\n",
       "      <th>4429</th>\n",
       "      <td>SERVIZI DI PULIZIA DEGLI IMMOBILI</td>\n",
       "      <td>2</td>\n",
       "      <td>PIEMONTE</td>\n",
       "      <td>CAMPANIA</td>\n",
       "      <td>90910000-9</td>\n",
       "      <td>SERVIZI</td>\n",
       "      <td>2</td>\n",
       "      <td>PULIZIA DEGLI IMMOBILI, DISINFESTAZIONE E SANI...</td>\n",
       "      <td>COMUNI</td>\n",
       "      <td>SERVIZI DI PULIZIA</td>\n",
       "      <td>2</td>\n",
       "      <td>1</td>\n",
       "      <td>2018</td>\n",
       "      <td>NaN</td>\n",
       "    </tr>\n",
       "    <tr>\n",
       "      <th>17466</th>\n",
       "      <td>SERVIZI DI PULIZIA DEGLI IMMOBILI</td>\n",
       "      <td>1</td>\n",
       "      <td>LAZIO</td>\n",
       "      <td>BASILICATA</td>\n",
       "      <td>90910000-9</td>\n",
       "      <td>SERVIZI</td>\n",
       "      <td>1</td>\n",
       "      <td>PULIZIA DEGLI IMMOBILI, DISINFESTAZIONE E SANI...</td>\n",
       "      <td>ORGANI COSTITUZIONALI E ORGANI DELLO STATO</td>\n",
       "      <td>SERVIZI DI PULIZIA</td>\n",
       "      <td>1</td>\n",
       "      <td>1</td>\n",
       "      <td>2019</td>\n",
       "      <td>NaN</td>\n",
       "    </tr>\n",
       "    <tr>\n",
       "      <th>175980</th>\n",
       "      <td>SERVIZI DI PULIZIA DEGLI IMMOBILI</td>\n",
       "      <td>1</td>\n",
       "      <td>VENETO</td>\n",
       "      <td>VENETO</td>\n",
       "      <td>90910000-9</td>\n",
       "      <td>SERVIZI</td>\n",
       "      <td>1</td>\n",
       "      <td>PULIZIA DEGLI IMMOBILI, DISINFESTAZIONE E SANI...</td>\n",
       "      <td>COMUNI</td>\n",
       "      <td>SERVIZI DI PULIZIA</td>\n",
       "      <td>1</td>\n",
       "      <td>1</td>\n",
       "      <td>2019</td>\n",
       "      <td>NaN</td>\n",
       "    </tr>\n",
       "    <tr>\n",
       "      <th>97689</th>\n",
       "      <td>SERVIZI DI PULIZIA DEGLI IMMOBILI</td>\n",
       "      <td>1</td>\n",
       "      <td>SICILIA</td>\n",
       "      <td>SICILIA</td>\n",
       "      <td>90910000-9</td>\n",
       "      <td>SERVIZI</td>\n",
       "      <td>1</td>\n",
       "      <td>PULIZIA DEGLI IMMOBILI, DISINFESTAZIONE E SANI...</td>\n",
       "      <td>UNIVERSITA' E POLITECNICI</td>\n",
       "      <td>SERVIZI DI PULIZIA</td>\n",
       "      <td>1</td>\n",
       "      <td>1</td>\n",
       "      <td>2018</td>\n",
       "      <td>NaN</td>\n",
       "    </tr>\n",
       "    <tr>\n",
       "      <th>93015</th>\n",
       "      <td>SERVIZI DI PULIZIA DEGLI IMMOBILI</td>\n",
       "      <td>1</td>\n",
       "      <td>SICILIA</td>\n",
       "      <td>SICILIA</td>\n",
       "      <td>90910000-9</td>\n",
       "      <td>SERVIZI</td>\n",
       "      <td>1</td>\n",
       "      <td>PULIZIA DEGLI IMMOBILI, DISINFESTAZIONE E SANI...</td>\n",
       "      <td>MINISTERI E AGENZIE FISCALI</td>\n",
       "      <td>SERVIZI DI PULIZIA</td>\n",
       "      <td>1</td>\n",
       "      <td>1</td>\n",
       "      <td>2018</td>\n",
       "      <td>NaN</td>\n",
       "    </tr>\n",
       "    <tr>\n",
       "      <th>149787</th>\n",
       "      <td>SERVIZI DI PULIZIA DEGLI IMMOBILI</td>\n",
       "      <td>1</td>\n",
       "      <td>SICILIA</td>\n",
       "      <td>SICILIA</td>\n",
       "      <td>90910000-9</td>\n",
       "      <td>SERVIZI</td>\n",
       "      <td>1</td>\n",
       "      <td>PULIZIA DEGLI IMMOBILI, DISINFESTAZIONE E SANI...</td>\n",
       "      <td>COMUNI</td>\n",
       "      <td>SERVIZI DI PULIZIA</td>\n",
       "      <td>1</td>\n",
       "      <td>1</td>\n",
       "      <td>2019</td>\n",
       "      <td>NaN</td>\n",
       "    </tr>\n",
       "  </tbody>\n",
       "</table>\n",
       "</div>"
      ],
      "text/plain": [
       "                            bene_servizio  N_PO Regione_PA Regione_Fornitore  \\\n",
       "110946  SERVIZI DI PULIZIA DEGLI IMMOBILI     1    TOSCANA           TOSCANA   \n",
       "99295   SERVIZI DI PULIZIA DEGLI IMMOBILI     1   PIEMONTE          PIEMONTE   \n",
       "107638  SERVIZI DI PULIZIA DEGLI IMMOBILI     2     VENETO            VENETO   \n",
       "97919   SERVIZI DI PULIZIA DEGLI IMMOBILI     1   CAMPANIA           SICILIA   \n",
       "175979  SERVIZI DI PULIZIA DEGLI IMMOBILI     1     VENETO            VENETO   \n",
       "95677   SERVIZI DI PULIZIA DEGLI IMMOBILI     1      LAZIO           SICILIA   \n",
       "38270   SERVIZI DI PULIZIA DEGLI IMMOBILI     1   PIEMONTE    EMILIA ROMAGNA   \n",
       "46575   SERVIZI DI PULIZIA DEGLI IMMOBILI     1      LAZIO             LAZIO   \n",
       "4429    SERVIZI DI PULIZIA DEGLI IMMOBILI     2   PIEMONTE          CAMPANIA   \n",
       "17466   SERVIZI DI PULIZIA DEGLI IMMOBILI     1      LAZIO        BASILICATA   \n",
       "175980  SERVIZI DI PULIZIA DEGLI IMMOBILI     1     VENETO            VENETO   \n",
       "97689   SERVIZI DI PULIZIA DEGLI IMMOBILI     1    SICILIA           SICILIA   \n",
       "93015   SERVIZI DI PULIZIA DEGLI IMMOBILI     1    SICILIA           SICILIA   \n",
       "149787  SERVIZI DI PULIZIA DEGLI IMMOBILI     1    SICILIA           SICILIA   \n",
       "\n",
       "        codice_CPV Bando_Mepa  N_PA  \\\n",
       "110946  90910000-9    SERVIZI     1   \n",
       "99295   90910000-9    SERVIZI     1   \n",
       "107638  90910000-9    SERVIZI     2   \n",
       "97919   90910000-9    SERVIZI     1   \n",
       "175979  90910000-9    SERVIZI     1   \n",
       "95677   90910000-9    SERVIZI     1   \n",
       "38270   90910000-9    SERVIZI     1   \n",
       "46575   90910000-9    SERVIZI     1   \n",
       "4429    90910000-9    SERVIZI     2   \n",
       "17466   90910000-9    SERVIZI     1   \n",
       "175980  90910000-9    SERVIZI     1   \n",
       "97689   90910000-9    SERVIZI     1   \n",
       "93015   90910000-9    SERVIZI     1   \n",
       "149787  90910000-9    SERVIZI     1   \n",
       "\n",
       "                                   Categoria_Abilitazione  \\\n",
       "110946  PULIZIA DEGLI IMMOBILI, DISINFESTAZIONE E SANI...   \n",
       "99295   PULIZIA DEGLI IMMOBILI, DISINFESTAZIONE E SANI...   \n",
       "107638  PULIZIA DEGLI IMMOBILI, DISINFESTAZIONE E SANI...   \n",
       "97919   PULIZIA DEGLI IMMOBILI, DISINFESTAZIONE E SANI...   \n",
       "175979  PULIZIA DEGLI IMMOBILI, DISINFESTAZIONE E SANI...   \n",
       "95677   PULIZIA DEGLI IMMOBILI, DISINFESTAZIONE E SANI...   \n",
       "38270   PULIZIA DEGLI IMMOBILI, DISINFESTAZIONE E SANI...   \n",
       "46575   PULIZIA DEGLI IMMOBILI, DISINFESTAZIONE E SANI...   \n",
       "4429    PULIZIA DEGLI IMMOBILI, DISINFESTAZIONE E SANI...   \n",
       "17466   PULIZIA DEGLI IMMOBILI, DISINFESTAZIONE E SANI...   \n",
       "175980  PULIZIA DEGLI IMMOBILI, DISINFESTAZIONE E SANI...   \n",
       "97689   PULIZIA DEGLI IMMOBILI, DISINFESTAZIONE E SANI...   \n",
       "93015   PULIZIA DEGLI IMMOBILI, DISINFESTAZIONE E SANI...   \n",
       "149787  PULIZIA DEGLI IMMOBILI, DISINFESTAZIONE E SANI...   \n",
       "\n",
       "                               Tipologia_Amministrazione     descrizione_CPV  \\\n",
       "110946        ORGANI COSTITUZIONALI E ORGANI DELLO STATO  SERVIZI DI PULIZIA   \n",
       "99295   AZIENDE ED ENTI TERRITORIALI DI SERVIZI PUBBLICI  SERVIZI DI PULIZIA   \n",
       "107638                                            COMUNI  SERVIZI DI PULIZIA   \n",
       "97919                        MINISTERI E AGENZIE FISCALI  SERVIZI DI PULIZIA   \n",
       "175979                                            COMUNI  SERVIZI DI PULIZIA   \n",
       "95677                        MINISTERI E AGENZIE FISCALI  SERVIZI DI PULIZIA   \n",
       "38270                                             COMUNI  SERVIZI DI PULIZIA   \n",
       "46575                                             COMUNI  SERVIZI DI PULIZIA   \n",
       "4429                                              COMUNI  SERVIZI DI PULIZIA   \n",
       "17466         ORGANI COSTITUZIONALI E ORGANI DELLO STATO  SERVIZI DI PULIZIA   \n",
       "175980                                            COMUNI  SERVIZI DI PULIZIA   \n",
       "97689                          UNIVERSITA' E POLITECNICI  SERVIZI DI PULIZIA   \n",
       "93015                        MINISTERI E AGENZIE FISCALI  SERVIZI DI PULIZIA   \n",
       "149787                                            COMUNI  SERVIZI DI PULIZIA   \n",
       "\n",
       "        N_Ordini  N_fornitori  #Anno_Riferimento  Valore_economico_Ordini  \n",
       "110946         1            1               2018                      NaN  \n",
       "99295          1            1               2019                      NaN  \n",
       "107638         5            2               2018                      NaN  \n",
       "97919          1            1               2018                      NaN  \n",
       "175979         1            1               2019                      NaN  \n",
       "95677          1            1               2018                      NaN  \n",
       "38270          1            1               2018                      NaN  \n",
       "46575          1            1               2018                      NaN  \n",
       "4429           2            1               2018                      NaN  \n",
       "17466          1            1               2019                      NaN  \n",
       "175980         1            1               2019                      NaN  \n",
       "97689          1            1               2018                      NaN  \n",
       "93015          1            1               2018                      NaN  \n",
       "149787         1            1               2019                      NaN  "
      ]
     },
     "execution_count": 15,
     "metadata": {},
     "output_type": "execute_result"
    }
   ],
   "source": [
    "df.loc[df[\"Valore_economico_Ordini\"].isnull(),]"
   ]
  },
  {
   "cell_type": "markdown",
   "metadata": {},
   "source": [
    "I dati mancanti nella colonna rappresentano solo lo 0.0042% del totale delle osservazioni. Possono essere semplicemente omessi, ma il fatto che manchino solo su un servizio non sembra casuale:"
   ]
  },
  {
   "cell_type": "code",
   "execution_count": 16,
   "metadata": {
    "ExecuteTime": {
     "end_time": "2020-05-09T12:44:08.810852Z",
     "start_time": "2020-05-09T12:44:08.806519Z"
    }
   },
   "outputs": [
    {
     "data": {
      "text/plain": [
       "{'SERVIZI DI PULIZIA DEGLI IMMOBILI'}"
      ]
     },
     "execution_count": 16,
     "metadata": {},
     "output_type": "execute_result"
    }
   ],
   "source": [
    "set(df.loc[df[\"Valore_economico_Ordini\"].isnull(), \"bene_servizio\"])"
   ]
  },
  {
   "cell_type": "code",
   "execution_count": 17,
   "metadata": {
    "ExecuteTime": {
     "end_time": "2020-05-09T12:44:08.818588Z",
     "start_time": "2020-05-09T12:44:08.812108Z"
    }
   },
   "outputs": [
    {
     "data": {
      "text/plain": [
       "(14, 14)"
      ]
     },
     "execution_count": 17,
     "metadata": {},
     "output_type": "execute_result"
    }
   ],
   "source": [
    "df.loc[df[\"Valore_economico_Ordini\"].isnull(),].shape"
   ]
  },
  {
   "cell_type": "markdown",
   "metadata": {},
   "source": [
    "Le osservazioni non mancanti per la stessa colonna sono le seguenti:"
   ]
  },
  {
   "cell_type": "code",
   "execution_count": 18,
   "metadata": {
    "ExecuteTime": {
     "end_time": "2020-05-09T12:44:08.835061Z",
     "start_time": "2020-05-09T12:44:08.820106Z"
    }
   },
   "outputs": [
    {
     "data": {
      "text/html": [
       "<div>\n",
       "<style scoped>\n",
       "    .dataframe tbody tr th:only-of-type {\n",
       "        vertical-align: middle;\n",
       "    }\n",
       "\n",
       "    .dataframe tbody tr th {\n",
       "        vertical-align: top;\n",
       "    }\n",
       "\n",
       "    .dataframe thead th {\n",
       "        text-align: right;\n",
       "    }\n",
       "</style>\n",
       "<table border=\"1\" class=\"dataframe\">\n",
       "  <thead>\n",
       "    <tr style=\"text-align: right;\">\n",
       "      <th></th>\n",
       "      <th>bene_servizio</th>\n",
       "      <th>N_PO</th>\n",
       "      <th>Regione_PA</th>\n",
       "      <th>Regione_Fornitore</th>\n",
       "      <th>codice_CPV</th>\n",
       "      <th>Bando_Mepa</th>\n",
       "      <th>N_PA</th>\n",
       "      <th>Categoria_Abilitazione</th>\n",
       "      <th>Tipologia_Amministrazione</th>\n",
       "      <th>descrizione_CPV</th>\n",
       "      <th>N_Ordini</th>\n",
       "      <th>N_fornitori</th>\n",
       "      <th>#Anno_Riferimento</th>\n",
       "      <th>Valore_economico_Ordini</th>\n",
       "    </tr>\n",
       "  </thead>\n",
       "  <tbody>\n",
       "    <tr>\n",
       "      <th>10407</th>\n",
       "      <td>SERVIZI DI PULIZIA DEGLI IMMOBILI</td>\n",
       "      <td>1</td>\n",
       "      <td>CAMPANIA</td>\n",
       "      <td>CAMPANIA</td>\n",
       "      <td>90910000-9</td>\n",
       "      <td>SERVIZI</td>\n",
       "      <td>1</td>\n",
       "      <td>PULIZIA DEGLI IMMOBILI, DISINFESTAZIONE E SANI...</td>\n",
       "      <td>AZIENDE ED ENTI TERRITORIALI DI SERVIZI PUBBLICI</td>\n",
       "      <td>SERVIZI DI PULIZIA</td>\n",
       "      <td>9</td>\n",
       "      <td>1</td>\n",
       "      <td>2018</td>\n",
       "      <td>278112.1104</td>\n",
       "    </tr>\n",
       "    <tr>\n",
       "      <th>102512</th>\n",
       "      <td>SERVIZI DI PULIZIA DEGLI IMMOBILI</td>\n",
       "      <td>1</td>\n",
       "      <td>LAZIO</td>\n",
       "      <td>PUGLIA</td>\n",
       "      <td>90910000-9</td>\n",
       "      <td>SERVIZI</td>\n",
       "      <td>1</td>\n",
       "      <td>PULIZIA DEGLI IMMOBILI, DISINFESTAZIONE E SANI...</td>\n",
       "      <td>MINISTERI E AGENZIE FISCALI</td>\n",
       "      <td>SERVIZI DI PULIZIA</td>\n",
       "      <td>1</td>\n",
       "      <td>1</td>\n",
       "      <td>2018</td>\n",
       "      <td>2922.3900</td>\n",
       "    </tr>\n",
       "    <tr>\n",
       "      <th>164311</th>\n",
       "      <td>SERVIZI DI PULIZIA DEGLI IMMOBILI</td>\n",
       "      <td>1</td>\n",
       "      <td>PUGLIA</td>\n",
       "      <td>PUGLIA</td>\n",
       "      <td>90910000-9</td>\n",
       "      <td>SERVIZI</td>\n",
       "      <td>1</td>\n",
       "      <td>PULIZIA DEGLI IMMOBILI, DISINFESTAZIONE E SANI...</td>\n",
       "      <td>MINISTERI E AGENZIE FISCALI</td>\n",
       "      <td>SERVIZI DI PULIZIA</td>\n",
       "      <td>1</td>\n",
       "      <td>1</td>\n",
       "      <td>2019</td>\n",
       "      <td>0.5000</td>\n",
       "    </tr>\n",
       "  </tbody>\n",
       "</table>\n",
       "</div>"
      ],
      "text/plain": [
       "                            bene_servizio  N_PO Regione_PA Regione_Fornitore  \\\n",
       "10407   SERVIZI DI PULIZIA DEGLI IMMOBILI     1   CAMPANIA          CAMPANIA   \n",
       "102512  SERVIZI DI PULIZIA DEGLI IMMOBILI     1      LAZIO            PUGLIA   \n",
       "164311  SERVIZI DI PULIZIA DEGLI IMMOBILI     1     PUGLIA            PUGLIA   \n",
       "\n",
       "        codice_CPV Bando_Mepa  N_PA  \\\n",
       "10407   90910000-9    SERVIZI     1   \n",
       "102512  90910000-9    SERVIZI     1   \n",
       "164311  90910000-9    SERVIZI     1   \n",
       "\n",
       "                                   Categoria_Abilitazione  \\\n",
       "10407   PULIZIA DEGLI IMMOBILI, DISINFESTAZIONE E SANI...   \n",
       "102512  PULIZIA DEGLI IMMOBILI, DISINFESTAZIONE E SANI...   \n",
       "164311  PULIZIA DEGLI IMMOBILI, DISINFESTAZIONE E SANI...   \n",
       "\n",
       "                               Tipologia_Amministrazione     descrizione_CPV  \\\n",
       "10407   AZIENDE ED ENTI TERRITORIALI DI SERVIZI PUBBLICI  SERVIZI DI PULIZIA   \n",
       "102512                       MINISTERI E AGENZIE FISCALI  SERVIZI DI PULIZIA   \n",
       "164311                       MINISTERI E AGENZIE FISCALI  SERVIZI DI PULIZIA   \n",
       "\n",
       "        N_Ordini  N_fornitori  #Anno_Riferimento  Valore_economico_Ordini  \n",
       "10407          9            1               2018              278112.1104  \n",
       "102512         1            1               2018                2922.3900  \n",
       "164311         1            1               2019                   0.5000  "
      ]
     },
     "execution_count": 18,
     "metadata": {},
     "output_type": "execute_result"
    }
   ],
   "source": [
    "df.loc[\n",
    "    (~df[\"Valore_economico_Ordini\"].isnull())\n",
    "    & (df[\"bene_servizio\"] == \"SERVIZI DI PULIZIA DEGLI IMMOBILI\"),\n",
    "]"
   ]
  },
  {
   "cell_type": "markdown",
   "metadata": {
    "ExecuteTime": {
     "end_time": "2020-05-09T12:31:39.790080Z",
     "start_time": "2020-05-09T12:31:39.786348Z"
    }
   },
   "source": [
    "Con soli tre valori così diversi fra loro prendere la media per imputare i dati mancanti non sembra giustificabile. "
   ]
  },
  {
   "cell_type": "code",
   "execution_count": 19,
   "metadata": {
    "ExecuteTime": {
     "end_time": "2020-05-09T12:44:08.842383Z",
     "start_time": "2020-05-09T12:44:08.836894Z"
    }
   },
   "outputs": [
    {
     "data": {
      "text/plain": [
       "110946    2018\n",
       "99295     2019\n",
       "107638    2018\n",
       "97919     2018\n",
       "175979    2019\n",
       "95677     2018\n",
       "38270     2018\n",
       "46575     2018\n",
       "4429      2018\n",
       "17466     2019\n",
       "175980    2019\n",
       "97689     2018\n",
       "93015     2018\n",
       "149787    2019\n",
       "Name: #Anno_Riferimento, dtype: int64"
      ]
     },
     "execution_count": 19,
     "metadata": {},
     "output_type": "execute_result"
    }
   ],
   "source": [
    "df.loc[df[\"Valore_economico_Ordini\"].isnull(), \"#Anno_Riferimento\"]"
   ]
  },
  {
   "cell_type": "markdown",
   "metadata": {},
   "source": [
    "Non sono concentrati solo su un anno, quindi omettendoli non dovrebbe cambiare i risultati considerevolmente."
   ]
  },
  {
   "cell_type": "code",
   "execution_count": 20,
   "metadata": {
    "ExecuteTime": {
     "end_time": "2020-05-09T12:44:08.876573Z",
     "start_time": "2020-05-09T12:44:08.843623Z"
    }
   },
   "outputs": [
    {
     "data": {
      "text/plain": [
       "(337013, 14)"
      ]
     },
     "execution_count": 20,
     "metadata": {},
     "output_type": "execute_result"
    }
   ],
   "source": [
    "df.dropna(inplace=True)\n",
    "df.shape"
   ]
  },
  {
   "cell_type": "markdown",
   "metadata": {},
   "source": [
    "# Separando i dati per la validazione\n",
    "\n",
    "Utilizzo una cross validation con $k=10$ sottoinsiemi."
   ]
  },
  {
   "cell_type": "code",
   "execution_count": 21,
   "metadata": {
    "ExecuteTime": {
     "end_time": "2020-05-09T12:44:09.139892Z",
     "start_time": "2020-05-09T12:44:08.877574Z"
    }
   },
   "outputs": [
    {
     "name": "stdout",
     "output_type": "stream",
     "text": [
      "0.22.2.post1\n",
      "2.1.0\n"
     ]
    }
   ],
   "source": [
    "import sklearn\n",
    "import category_encoders\n",
    "\n",
    "print(sklearn.__version__)\n",
    "print(category_encoders.__version__)"
   ]
  },
  {
   "cell_type": "markdown",
   "metadata": {},
   "source": [
    "Voglio prevedere a quale anno i dati fanno riferimento. Separo ``#Anno_Riferiemnto`` dai dati:"
   ]
  },
  {
   "cell_type": "code",
   "execution_count": 22,
   "metadata": {
    "ExecuteTime": {
     "end_time": "2020-05-09T12:44:09.157460Z",
     "start_time": "2020-05-09T12:44:09.141412Z"
    }
   },
   "outputs": [],
   "source": [
    "Y = df[\"#Anno_Riferimento\"]\n",
    "X = df.drop([\"#Anno_Riferimento\"], axis=1)"
   ]
  },
  {
   "cell_type": "markdown",
   "metadata": {},
   "source": [
    "Converto $Y$ a 0/1:"
   ]
  },
  {
   "cell_type": "code",
   "execution_count": 23,
   "metadata": {
    "ExecuteTime": {
     "end_time": "2020-05-09T12:44:09.171728Z",
     "start_time": "2020-05-09T12:44:09.158761Z"
    }
   },
   "outputs": [],
   "source": [
    "Y = Y.map({2018: \"0\", 2019: \"1\"})"
   ]
  },
  {
   "cell_type": "markdown",
   "metadata": {
    "ExecuteTime": {
     "end_time": "2020-05-09T11:31:40.089700Z",
     "start_time": "2020-05-09T11:31:40.084215Z"
    }
   },
   "source": [
    "## Random Forest\n",
    "\n",
    "Iterando sul numero di fold:"
   ]
  },
  {
   "cell_type": "code",
   "execution_count": 24,
   "metadata": {
    "ExecuteTime": {
     "end_time": "2020-05-09T12:52:17.226652Z",
     "start_time": "2020-05-09T12:44:09.173020Z"
    }
   },
   "outputs": [],
   "source": [
    "from category_encoders import CatBoostEncoder\n",
    "from sklearn.ensemble import RandomForestClassifier\n",
    "from sklearn.model_selection import KFold\n",
    "from sklearn.metrics import roc_auc_score\n",
    "\n",
    "\n",
    "\n",
    "kf = KFold(n_splits=10, random_state=2020, shuffle=True)\n",
    "auc_score = []\n",
    "\n",
    "for train_index, test_index in kf.split(X):\n",
    "    X_train, X_test = X.iloc[train_index, :], X.iloc[test_index, :]\n",
    "    Y_train, Y_test = Y.iloc[train_index], Y.iloc[test_index]\n",
    "\n",
    "    encoder = CatBoostEncoder(cols=categorical_columns)\n",
    "    encoder.fit(X_train, Y_train)\n",
    "    X_train = encoder.transform(X_train)\n",
    "    X_test = encoder.transform(X_test)\n",
    "\n",
    "    model = RandomForestClassifier(random_state=2020).fit(X_train, Y_train)\n",
    "    auc_score += [roc_auc_score(Y_test, model.predict_proba(X_test)[:, 1])]"
   ]
  },
  {
   "cell_type": "code",
   "execution_count": 25,
   "metadata": {
    "ExecuteTime": {
     "end_time": "2020-05-09T12:52:17.232785Z",
     "start_time": "2020-05-09T12:52:17.230084Z"
    }
   },
   "outputs": [
    {
     "name": "stdout",
     "output_type": "stream",
     "text": [
      "0.6687510287097853 +/- 0.003299045037577614\n"
     ]
    }
   ],
   "source": [
    "import numpy as np\n",
    "\n",
    "\n",
    "print(np.mean(auc_score), \"+/-\", np.std(auc_score))"
   ]
  },
  {
   "cell_type": "markdown",
   "metadata": {},
   "source": [
    "## Xgboost"
   ]
  },
  {
   "cell_type": "code",
   "execution_count": 26,
   "metadata": {
    "ExecuteTime": {
     "end_time": "2020-05-09T13:39:51.951543Z",
     "start_time": "2020-05-09T13:37:45.972596Z"
    }
   },
   "outputs": [
    {
     "name": "stdout",
     "output_type": "stream",
     "text": [
      "0.7289390452669204 +/- 0.00277647998501701\n"
     ]
    }
   ],
   "source": [
    "from xgboost import XGBClassifier\n",
    "\n",
    "\n",
    "auc_score = []\n",
    "for train_index, test_index in kf.split(X):\n",
    "    X_train, X_test = X.iloc[train_index, :], X.iloc[test_index, :]\n",
    "    Y_train, Y_test = Y.iloc[train_index], Y.iloc[test_index]\n",
    "\n",
    "    encoder = CatBoostEncoder(cols=categorical_columns)\n",
    "    encoder.fit(X_train, Y_train)\n",
    "    X_train = encoder.transform(X_train)\n",
    "    X_test = encoder.transform(X_test)\n",
    "\n",
    "    model = XGBClassifier(random_state=2020).fit(X_train, Y_train)\n",
    "    auc_score += [roc_auc_score(Y_test, model.predict_proba(X_test)[:, 1])]\n",
    "    \n",
    "print(np.mean(auc_score), \"+/-\", np.std(auc_score))"
   ]
  },
  {
   "cell_type": "markdown",
   "metadata": {},
   "source": [
    "Questo senza ottimizzare gli iper-parametri. Significa che conoscere i dati per il 2018 non aiuta molto a prevedere i dati per il 2019."
   ]
  },
  {
   "cell_type": "markdown",
   "metadata": {},
   "source": [
    "# Interpretabilità\n",
    "\n",
    "Faccio un trading su tutti i dati:"
   ]
  },
  {
   "cell_type": "code",
   "execution_count": 28,
   "metadata": {
    "ExecuteTime": {
     "end_time": "2020-05-09T13:52:43.053461Z",
     "start_time": "2020-05-09T13:52:32.291411Z"
    }
   },
   "outputs": [],
   "source": [
    "encoder = CatBoostEncoder(cols=categorical_columns)\n",
    "encoder.fit(X, Y)\n",
    "X = encoder.transform(X)\n",
    "\n",
    "\n",
    "model = XGBClassifier(random_state=2020).fit(X, Y)"
   ]
  },
  {
   "cell_type": "markdown",
   "metadata": {},
   "source": [
    "## Permutation importance"
   ]
  },
  {
   "cell_type": "markdown",
   "metadata": {},
   "source": [
    "## Partial plots"
   ]
  },
  {
   "cell_type": "markdown",
   "metadata": {},
   "source": [
    "## Shap values"
   ]
  },
  {
   "cell_type": "code",
   "execution_count": null,
   "metadata": {},
   "outputs": [],
   "source": []
  }
 ],
 "metadata": {
  "kernelspec": {
   "display_name": "Python 3",
   "language": "python",
   "name": "python3"
  },
  "language_info": {
   "codemirror_mode": {
    "name": "ipython",
    "version": 3
   },
   "file_extension": ".py",
   "mimetype": "text/x-python",
   "name": "python",
   "nbconvert_exporter": "python",
   "pygments_lexer": "ipython3",
   "version": "3.6.9"
  },
  "toc": {
   "base_numbering": 1,
   "nav_menu": {},
   "number_sections": true,
   "sideBar": true,
   "skip_h1_title": false,
   "title_cell": "Table of Contents",
   "title_sidebar": "Contents",
   "toc_cell": true,
   "toc_position": {},
   "toc_section_display": true,
   "toc_window_display": false
  }
 },
 "nbformat": 4,
 "nbformat_minor": 4
}
