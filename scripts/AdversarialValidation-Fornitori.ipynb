{
 "cells": [
  {
   "cell_type": "markdown",
   "metadata": {
    "toc": true
   },
   "source": [
    "<h1>Table of Contents<span class=\"tocSkip\"></span></h1>\n",
    "<div class=\"toc\"><ul class=\"toc-item\"><li><span><a href=\"#L'obiettivo\" data-toc-modified-id=\"L'obiettivo-1\"><span class=\"toc-item-num\">1&nbsp;&nbsp;</span>L'obiettivo</a></span></li><li><span><a href=\"#Importare-i-dati\" data-toc-modified-id=\"Importare-i-dati-2\"><span class=\"toc-item-num\">2&nbsp;&nbsp;</span>Importare i dati</a></span></li><li><span><a href=\"#Preparazione-dei-dati\" data-toc-modified-id=\"Preparazione-dei-dati-3\"><span class=\"toc-item-num\">3&nbsp;&nbsp;</span>Preparazione dei dati</a></span><ul class=\"toc-item\"><li><span><a href=\"#Missing-values\" data-toc-modified-id=\"Missing-values-3.1\"><span class=\"toc-item-num\">3.1&nbsp;&nbsp;</span>Missing values</a></span></li><li><span><a href=\"#Data-types\" data-toc-modified-id=\"Data-types-3.2\"><span class=\"toc-item-num\">3.2&nbsp;&nbsp;</span>Data types</a></span></li></ul></li><li><span><a href=\"#Separando-i-dati-per-la-validazione\" data-toc-modified-id=\"Separando-i-dati-per-la-validazione-4\"><span class=\"toc-item-num\">4&nbsp;&nbsp;</span>Separando i dati per la validazione</a></span><ul class=\"toc-item\"><li><span><a href=\"#Random-Forest\" data-toc-modified-id=\"Random-Forest-4.1\"><span class=\"toc-item-num\">4.1&nbsp;&nbsp;</span>Random Forest</a></span></li><li><span><a href=\"#Xgboost\" data-toc-modified-id=\"Xgboost-4.2\"><span class=\"toc-item-num\">4.2&nbsp;&nbsp;</span>Xgboost</a></span></li></ul></li><li><span><a href=\"#Interpretabilità\" data-toc-modified-id=\"Interpretabilità-5\"><span class=\"toc-item-num\">5&nbsp;&nbsp;</span>Interpretabilità</a></span><ul class=\"toc-item\"><li><span><a href=\"#Permutation-importance\" data-toc-modified-id=\"Permutation-importance-5.1\"><span class=\"toc-item-num\">5.1&nbsp;&nbsp;</span>Permutation importance</a></span></li><li><span><a href=\"#Partial-plots\" data-toc-modified-id=\"Partial-plots-5.2\"><span class=\"toc-item-num\">5.2&nbsp;&nbsp;</span>Partial plots</a></span></li><li><span><a href=\"#Shap-values\" data-toc-modified-id=\"Shap-values-5.3\"><span class=\"toc-item-num\">5.3&nbsp;&nbsp;</span>Shap values</a></span></li></ul></li></ul></div>"
   ]
  },
  {
   "cell_type": "markdown",
   "metadata": {},
   "source": [
    "# L'obiettivo\n",
    "\n",
    "Come primo passo, cerco di controllare se ci siano cambiamenti sostanziali fra i dati per il 2018 ed il 2019. Più precisamente, se possa costruire un modello di classificazione dove le classi sono \"Appartiene al 2018\" o \"Appartiene al 2019\" ([adversarial validation](http://manishbarnwal.com/blog/2017/02/15/introduction_to_adversarial_validation/)).\n",
    "\n",
    "Se riesco a costruire un *buon* modello predittivo, significa che ci sono variazioni significative fra i due anni. Normalmente, escluderei le variabili che sono rilevanti per distinguere il 2018 dal 2019 in un modello addestrato (trained) per prevedere il 2019. Lo posso fare senza conoscere la variabile che voglio stimare per il 2019. \n",
    "\n",
    "Ma in questo caso, voglio trovare quali variabili permettono di distinguere il 2018 dal 2019 come strumento per sinteticamente descrivere le differenze fra 2018 e 2019."
   ]
  },
  {
   "cell_type": "markdown",
   "metadata": {},
   "source": [
    "# Importare i dati\n",
    "\n",
    "Come primo passo, importo i dati per il 2018 ed il 2019 per i fornitori. "
   ]
  },
  {
   "cell_type": "code",
   "execution_count": 1,
   "metadata": {
    "ExecuteTime": {
     "end_time": "2020-05-10T15:39:53.237948Z",
     "start_time": "2020-05-10T15:39:52.626536Z"
    }
   },
   "outputs": [
    {
     "name": "stdout",
     "output_type": "stream",
     "text": [
      "(110876, 12)\n"
     ]
    },
    {
     "data": {
      "text/html": [
       "<div>\n",
       "<style scoped>\n",
       "    .dataframe tbody tr th:only-of-type {\n",
       "        vertical-align: middle;\n",
       "    }\n",
       "\n",
       "    .dataframe tbody tr th {\n",
       "        vertical-align: top;\n",
       "    }\n",
       "\n",
       "    .dataframe thead th {\n",
       "        text-align: right;\n",
       "    }\n",
       "</style>\n",
       "<table border=\"1\" class=\"dataframe\">\n",
       "  <thead>\n",
       "    <tr style=\"text-align: right;\">\n",
       "      <th></th>\n",
       "      <th>#Partita_Iva</th>\n",
       "      <th>Ragione_Sociale</th>\n",
       "      <th>Forma_Societaria</th>\n",
       "      <th>Nazione_Sede_legale</th>\n",
       "      <th>Regione_Sede_legale</th>\n",
       "      <th>Provincia_Sede_legale</th>\n",
       "      <th>Comune_Sede_legale</th>\n",
       "      <th>Indirizzo_Sede_legale</th>\n",
       "      <th>Numero_Aggiudicazioni</th>\n",
       "      <th>Numero_Abilitazioni</th>\n",
       "      <th>Numero_Transazioni</th>\n",
       "      <th>Numero_Contratti_attivi</th>\n",
       "    </tr>\n",
       "  </thead>\n",
       "  <tbody>\n",
       "    <tr>\n",
       "      <th>0</th>\n",
       "      <td>02455120226</td>\n",
       "      <td>\\tSEA CONSULENZE E SERVIZI</td>\n",
       "      <td>Società a Responsabilità Limitata</td>\n",
       "      <td>ITALIA</td>\n",
       "      <td>TRENTINO ALTO ADIGE</td>\n",
       "      <td>TRENTO</td>\n",
       "      <td>TRENTO</td>\n",
       "      <td>VIA UNTERVEGER 52  - TRENTO</td>\n",
       "      <td>0</td>\n",
       "      <td>6</td>\n",
       "      <td>3</td>\n",
       "      <td>3</td>\n",
       "    </tr>\n",
       "    <tr>\n",
       "      <th>1</th>\n",
       "      <td>03475830711</td>\n",
       "      <td>ARPATEK SRL</td>\n",
       "      <td>Società a Responsabilità Limitata</td>\n",
       "      <td>ITALIA</td>\n",
       "      <td>PUGLIA</td>\n",
       "      <td>FOGGIA</td>\n",
       "      <td>FOGGIA</td>\n",
       "      <td>VIA MANFREDONIA KM 2.200</td>\n",
       "      <td>0</td>\n",
       "      <td>1</td>\n",
       "      <td>0</td>\n",
       "      <td>0</td>\n",
       "    </tr>\n",
       "    <tr>\n",
       "      <th>2</th>\n",
       "      <td>00688650217</td>\n",
       "      <td>CAPONE PIETRO S.R.L.</td>\n",
       "      <td>Società a Responsabilità Limitata</td>\n",
       "      <td>ITALIA</td>\n",
       "      <td>TRENTINO ALTO ADIGE</td>\n",
       "      <td>BOLZANO/BOZEN</td>\n",
       "      <td>BOLZANO/BOZEN</td>\n",
       "      <td>VIA COPERNICO, 7</td>\n",
       "      <td>0</td>\n",
       "      <td>1</td>\n",
       "      <td>0</td>\n",
       "      <td>0</td>\n",
       "    </tr>\n",
       "    <tr>\n",
       "      <th>3</th>\n",
       "      <td>02903790802</td>\n",
       "      <td>F.LLI SACCO S.R.L.S.</td>\n",
       "      <td>Società a Responsabilità Limitata</td>\n",
       "      <td>ITALIA</td>\n",
       "      <td>CALABRIA</td>\n",
       "      <td>REGGIO DI CALABRIA</td>\n",
       "      <td>BENESTARE</td>\n",
       "      <td>BENESTARE (RC) , C/DA  BRUCA, 68</td>\n",
       "      <td>0</td>\n",
       "      <td>1</td>\n",
       "      <td>0</td>\n",
       "      <td>0</td>\n",
       "    </tr>\n",
       "    <tr>\n",
       "      <th>4</th>\n",
       "      <td>02303790808</td>\n",
       "      <td>SEGECO S.R.L.</td>\n",
       "      <td>Società a Responsabilità Limitata</td>\n",
       "      <td>ITALIA</td>\n",
       "      <td>CALABRIA</td>\n",
       "      <td>REGGIO DI CALABRIA</td>\n",
       "      <td>CAMPO CALABRO</td>\n",
       "      <td>VIA SACERDOTE SCOPELLITI, 53</td>\n",
       "      <td>0</td>\n",
       "      <td>3</td>\n",
       "      <td>0</td>\n",
       "      <td>0</td>\n",
       "    </tr>\n",
       "  </tbody>\n",
       "</table>\n",
       "</div>"
      ],
      "text/plain": [
       "  #Partita_Iva              Ragione_Sociale  \\\n",
       "0  02455120226   \\tSEA CONSULENZE E SERVIZI   \n",
       "1  03475830711                 ARPATEK SRL    \n",
       "2  00688650217        CAPONE PIETRO S.R.L.    \n",
       "3  02903790802       F.LLI SACCO S.R.L.S.     \n",
       "4  02303790808               SEGECO S.R.L.    \n",
       "\n",
       "                    Forma_Societaria Nazione_Sede_legale  Regione_Sede_legale  \\\n",
       "0  Società a Responsabilità Limitata              ITALIA  TRENTINO ALTO ADIGE   \n",
       "1  Società a Responsabilità Limitata              ITALIA               PUGLIA   \n",
       "2  Società a Responsabilità Limitata              ITALIA  TRENTINO ALTO ADIGE   \n",
       "3  Società a Responsabilità Limitata              ITALIA             CALABRIA   \n",
       "4  Società a Responsabilità Limitata              ITALIA             CALABRIA   \n",
       "\n",
       "  Provincia_Sede_legale Comune_Sede_legale              Indirizzo_Sede_legale  \\\n",
       "0                TRENTO             TRENTO        VIA UNTERVEGER 52  - TRENTO   \n",
       "1                FOGGIA             FOGGIA          VIA MANFREDONIA KM 2.200    \n",
       "2         BOLZANO/BOZEN      BOLZANO/BOZEN                   VIA COPERNICO, 7   \n",
       "3    REGGIO DI CALABRIA          BENESTARE  BENESTARE (RC) , C/DA  BRUCA, 68    \n",
       "4    REGGIO DI CALABRIA      CAMPO CALABRO      VIA SACERDOTE SCOPELLITI, 53    \n",
       "\n",
       "   Numero_Aggiudicazioni  Numero_Abilitazioni  Numero_Transazioni  \\\n",
       "0                      0                    6                   3   \n",
       "1                      0                    1                   0   \n",
       "2                      0                    1                   0   \n",
       "3                      0                    1                   0   \n",
       "4                      0                    3                   0   \n",
       "\n",
       "   Numero_Contratti_attivi  \n",
       "0                        3  \n",
       "1                        0  \n",
       "2                        0  \n",
       "3                        0  \n",
       "4                        0  "
      ]
     },
     "execution_count": 1,
     "metadata": {},
     "output_type": "execute_result"
    }
   ],
   "source": [
    "import pandas as pd\n",
    "\n",
    "\n",
    "a2018 = pd.read_csv(\n",
    "    \"../input/fornitori2018.csv\", skiprows=0, encoding=\"ISO-8859-1\", decimal=\",\"\n",
    ")\n",
    "print(a2018.shape)\n",
    "a2018.head()"
   ]
  },
  {
   "cell_type": "code",
   "execution_count": 2,
   "metadata": {
    "ExecuteTime": {
     "end_time": "2020-05-10T15:39:53.735371Z",
     "start_time": "2020-05-10T15:39:53.239555Z"
    }
   },
   "outputs": [
    {
     "name": "stdout",
     "output_type": "stream",
     "text": [
      "(137551, 14)\n"
     ]
    },
    {
     "data": {
      "text/html": [
       "<div>\n",
       "<style scoped>\n",
       "    .dataframe tbody tr th:only-of-type {\n",
       "        vertical-align: middle;\n",
       "    }\n",
       "\n",
       "    .dataframe tbody tr th {\n",
       "        vertical-align: top;\n",
       "    }\n",
       "\n",
       "    .dataframe thead th {\n",
       "        text-align: right;\n",
       "    }\n",
       "</style>\n",
       "<table border=\"1\" class=\"dataframe\">\n",
       "  <thead>\n",
       "    <tr style=\"text-align: right;\">\n",
       "      <th></th>\n",
       "      <th>#Partita_Iva</th>\n",
       "      <th>Ragione_Sociale</th>\n",
       "      <th>Forma_Societaria</th>\n",
       "      <th>Nazione_Sede_legale</th>\n",
       "      <th>Regione_Sede_legale</th>\n",
       "      <th>Provincia_Sede_legale</th>\n",
       "      <th>Comune_Sede_legale</th>\n",
       "      <th>Indirizzo_Sede_legale</th>\n",
       "      <th>Latitudine_Sede_legale</th>\n",
       "      <th>Longitudine_Sede_legale</th>\n",
       "      <th>Numero_Aggiudicazioni</th>\n",
       "      <th>Numero_Abilitazioni</th>\n",
       "      <th>Numero_Transazioni</th>\n",
       "      <th>Numero_Contratti_attivi</th>\n",
       "    </tr>\n",
       "  </thead>\n",
       "  <tbody>\n",
       "    <tr>\n",
       "      <th>0</th>\n",
       "      <td>00688650217</td>\n",
       "      <td>CAPONE PIETRO S.R.L.</td>\n",
       "      <td>Società a Responsabilità Limitata</td>\n",
       "      <td>ITALIA</td>\n",
       "      <td>TRENTINO ALTO ADIGE</td>\n",
       "      <td>BOLZANO/BOZEN</td>\n",
       "      <td>BOLZANO/BOZEN</td>\n",
       "      <td>VIA COPERNICO, 7</td>\n",
       "      <td>46.47142</td>\n",
       "      <td>11.32011</td>\n",
       "      <td>0</td>\n",
       "      <td>1</td>\n",
       "      <td>0</td>\n",
       "      <td>0</td>\n",
       "    </tr>\n",
       "    <tr>\n",
       "      <th>1</th>\n",
       "      <td>03024340808</td>\n",
       "      <td>ECO. GROUP S.R.L.</td>\n",
       "      <td>Società a Responsabilità Limitata</td>\n",
       "      <td>ITALIA</td>\n",
       "      <td>CALABRIA</td>\n",
       "      <td>REGGIO DI CALABRIA</td>\n",
       "      <td>ARDORE</td>\n",
       "      <td>C/DA  SERRA, SNC   FRAZ. MARINA</td>\n",
       "      <td>38.17991</td>\n",
       "      <td>16.20984</td>\n",
       "      <td>0</td>\n",
       "      <td>9</td>\n",
       "      <td>0</td>\n",
       "      <td>0</td>\n",
       "    </tr>\n",
       "    <tr>\n",
       "      <th>2</th>\n",
       "      <td>02903790802</td>\n",
       "      <td>F.LLI SACCO S.R.L.S.</td>\n",
       "      <td>Società a Responsabilità Limitata</td>\n",
       "      <td>ITALIA</td>\n",
       "      <td>CALABRIA</td>\n",
       "      <td>REGGIO DI CALABRIA</td>\n",
       "      <td>BENESTARE</td>\n",
       "      <td>BENESTARE (RC) , C/DA  BRUCA, 68</td>\n",
       "      <td>38.18399</td>\n",
       "      <td>16.13998</td>\n",
       "      <td>0</td>\n",
       "      <td>1</td>\n",
       "      <td>3</td>\n",
       "      <td>3</td>\n",
       "    </tr>\n",
       "    <tr>\n",
       "      <th>3</th>\n",
       "      <td>02303790808</td>\n",
       "      <td>SEGECO S.R.L.</td>\n",
       "      <td>Società a Responsabilità Limitata</td>\n",
       "      <td>ITALIA</td>\n",
       "      <td>CALABRIA</td>\n",
       "      <td>REGGIO DI CALABRIA</td>\n",
       "      <td>CAMPO CALABRO</td>\n",
       "      <td>VIA SACERDOTE SCOPELLITI, 53</td>\n",
       "      <td>38.21941</td>\n",
       "      <td>15.65679</td>\n",
       "      <td>0</td>\n",
       "      <td>3</td>\n",
       "      <td>0</td>\n",
       "      <td>0</td>\n",
       "    </tr>\n",
       "    <tr>\n",
       "      <th>4</th>\n",
       "      <td>02972900803</td>\n",
       "      <td>SOPHIA S.R.L.</td>\n",
       "      <td>Società a Responsabilità Limitata</td>\n",
       "      <td>ITALIA</td>\n",
       "      <td>CALABRIA</td>\n",
       "      <td>REGGIO DI CALABRIA</td>\n",
       "      <td>SANT'AGATA DEL BIANCO</td>\n",
       "      <td>VIA MAZZINI, 27</td>\n",
       "      <td>38.09197</td>\n",
       "      <td>16.08343</td>\n",
       "      <td>0</td>\n",
       "      <td>3</td>\n",
       "      <td>0</td>\n",
       "      <td>0</td>\n",
       "    </tr>\n",
       "  </tbody>\n",
       "</table>\n",
       "</div>"
      ],
      "text/plain": [
       "  #Partita_Iva          Ragione_Sociale                   Forma_Societaria  \\\n",
       "0  00688650217    CAPONE PIETRO S.R.L.   Società a Responsabilità Limitata   \n",
       "1  03024340808       ECO. GROUP S.R.L.   Società a Responsabilità Limitata   \n",
       "2  02903790802   F.LLI SACCO S.R.L.S.    Società a Responsabilità Limitata   \n",
       "3  02303790808           SEGECO S.R.L.   Società a Responsabilità Limitata   \n",
       "4  02972900803           SOPHIA S.R.L.   Società a Responsabilità Limitata   \n",
       "\n",
       "  Nazione_Sede_legale  Regione_Sede_legale Provincia_Sede_legale  \\\n",
       "0              ITALIA  TRENTINO ALTO ADIGE         BOLZANO/BOZEN   \n",
       "1              ITALIA             CALABRIA    REGGIO DI CALABRIA   \n",
       "2              ITALIA             CALABRIA    REGGIO DI CALABRIA   \n",
       "3              ITALIA             CALABRIA    REGGIO DI CALABRIA   \n",
       "4              ITALIA             CALABRIA    REGGIO DI CALABRIA   \n",
       "\n",
       "      Comune_Sede_legale              Indirizzo_Sede_legale  \\\n",
       "0          BOLZANO/BOZEN                   VIA COPERNICO, 7   \n",
       "1                 ARDORE   C/DA  SERRA, SNC   FRAZ. MARINA    \n",
       "2              BENESTARE  BENESTARE (RC) , C/DA  BRUCA, 68    \n",
       "3          CAMPO CALABRO      VIA SACERDOTE SCOPELLITI, 53    \n",
       "4  SANT'AGATA DEL BIANCO                    VIA MAZZINI, 27   \n",
       "\n",
       "  Latitudine_Sede_legale Longitudine_Sede_legale  Numero_Aggiudicazioni  \\\n",
       "0               46.47142                11.32011                      0   \n",
       "1               38.17991                16.20984                      0   \n",
       "2               38.18399                16.13998                      0   \n",
       "3               38.21941                15.65679                      0   \n",
       "4               38.09197                16.08343                      0   \n",
       "\n",
       "   Numero_Abilitazioni  Numero_Transazioni  Numero_Contratti_attivi  \n",
       "0                    1                   0                        0  \n",
       "1                    9                   0                        0  \n",
       "2                    1                   3                        3  \n",
       "3                    3                   0                        0  \n",
       "4                    3                   0                        0  "
      ]
     },
     "execution_count": 2,
     "metadata": {},
     "output_type": "execute_result"
    }
   ],
   "source": [
    "a2019 = pd.read_csv(\n",
    "    \"../input/fornitori2019.csv\", skiprows=0, encoding=\"ISO-8859-1\", decimal=\",\"\n",
    ")\n",
    "print(a2019.shape)\n",
    "a2019.head()"
   ]
  },
  {
   "cell_type": "markdown",
   "metadata": {},
   "source": [
    "I dati per il 2019 sono più numerosi, quindi se usassi come criterio l'accuratezza nel prevedere l'appartenenza al 2018/2019. Di conseguenza, uso l'AUC. \n",
    "\n",
    "Ma prima, la preparazione dei dati.\n",
    "\n",
    "# Preparazione dei dati"
   ]
  },
  {
   "cell_type": "code",
   "execution_count": 3,
   "metadata": {
    "ExecuteTime": {
     "end_time": "2020-05-10T15:39:53.740652Z",
     "start_time": "2020-05-10T15:39:53.736771Z"
    }
   },
   "outputs": [
    {
     "data": {
      "text/plain": [
       "Index(['#Partita_Iva', 'Ragione_Sociale', 'Forma_Societaria',\n",
       "       'Nazione_Sede_legale', 'Regione_Sede_legale', 'Provincia_Sede_legale',\n",
       "       'Comune_Sede_legale', 'Indirizzo_Sede_legale', 'Numero_Aggiudicazioni',\n",
       "       'Numero_Abilitazioni', 'Numero_Transazioni', 'Numero_Contratti_attivi',\n",
       "       'year'],\n",
       "      dtype='object')"
      ]
     },
     "execution_count": 3,
     "metadata": {},
     "output_type": "execute_result"
    }
   ],
   "source": [
    "a2018[\"year\"] = 2018\n",
    "a2018.columns"
   ]
  },
  {
   "cell_type": "code",
   "execution_count": 4,
   "metadata": {
    "ExecuteTime": {
     "end_time": "2020-05-10T15:39:53.751593Z",
     "start_time": "2020-05-10T15:39:53.742063Z"
    }
   },
   "outputs": [
    {
     "data": {
      "text/plain": [
       "Index(['#Partita_Iva', 'Ragione_Sociale', 'Forma_Societaria',\n",
       "       'Nazione_Sede_legale', 'Regione_Sede_legale', 'Provincia_Sede_legale',\n",
       "       'Comune_Sede_legale', 'Indirizzo_Sede_legale', 'Latitudine_Sede_legale',\n",
       "       'Longitudine_Sede_legale', 'Numero_Aggiudicazioni',\n",
       "       'Numero_Abilitazioni', 'Numero_Transazioni', 'Numero_Contratti_attivi',\n",
       "       'year'],\n",
       "      dtype='object')"
      ]
     },
     "execution_count": 4,
     "metadata": {},
     "output_type": "execute_result"
    }
   ],
   "source": [
    "a2019[\"year\"] = 2019\n",
    "a2019.columns"
   ]
  },
  {
   "cell_type": "markdown",
   "metadata": {},
   "source": [
    "Considero solo le colonne in comune ai due data sets:"
   ]
  },
  {
   "cell_type": "code",
   "execution_count": 5,
   "metadata": {
    "ExecuteTime": {
     "end_time": "2020-05-10T15:39:53.761581Z",
     "start_time": "2020-05-10T15:39:53.752790Z"
    }
   },
   "outputs": [
    {
     "name": "stdout",
     "output_type": "stream",
     "text": [
      "{'Numero_Transazioni', 'Indirizzo_Sede_legale', 'Forma_Societaria', 'Comune_Sede_legale', 'Ragione_Sociale', 'Numero_Aggiudicazioni', '#Partita_Iva', 'Provincia_Sede_legale', 'Numero_Abilitazioni', 'year', 'Nazione_Sede_legale', 'Regione_Sede_legale', 'Numero_Contratti_attivi'}\n"
     ]
    }
   ],
   "source": [
    "common = set(a2018.columns).intersection(set(a2019.columns))\n",
    "print(common)"
   ]
  },
  {
   "cell_type": "markdown",
   "metadata": {},
   "source": [
    "Creo un unico dataset:"
   ]
  },
  {
   "cell_type": "code",
   "execution_count": 6,
   "metadata": {
    "ExecuteTime": {
     "end_time": "2020-05-10T15:39:53.878305Z",
     "start_time": "2020-05-10T15:39:53.762742Z"
    }
   },
   "outputs": [
    {
     "data": {
      "text/plain": [
       "(248427, 13)"
      ]
     },
     "execution_count": 6,
     "metadata": {},
     "output_type": "execute_result"
    }
   ],
   "source": [
    "df = pd.concat((a2018[common], a2019[common]), axis=0)\n",
    "df.shape"
   ]
  },
  {
   "cell_type": "code",
   "execution_count": 7,
   "metadata": {
    "ExecuteTime": {
     "end_time": "2020-05-10T15:39:53.896598Z",
     "start_time": "2020-05-10T15:39:53.879746Z"
    }
   },
   "outputs": [
    {
     "data": {
      "text/plain": [
       "{'ASSOCIAZIONI/ENTI NON ONLUS',\n",
       " \"AZIENDA CON PARTECIPAZIONE DI CAPITALE PUBBLICO e UNIVERSITA'\",\n",
       " 'Altro (Cooperativa Sociale, Fondazione, ...)',\n",
       " 'Altro (Cooperativa Sociale, Fondazione, Associazioni, ...)',\n",
       " 'Consorzio fra società cooperative di produzione e lavoro/Consorzio fra imprese artigiane',\n",
       " 'Consorzio stabile',\n",
       " 'Impresa Individuale',\n",
       " 'ONLUS',\n",
       " 'Professione non organizzata in ordini o collegi (cfr. L. 4/2013)',\n",
       " 'Professione organizzata (cfr. Art. 2229 cc)',\n",
       " 'Rete di imprese',\n",
       " 'Società Cooperativa',\n",
       " 'Società a Responsabilità Limitata',\n",
       " 'Società costituita in altro Stato Membro UE',\n",
       " 'Società costituita in altro Stato extra UE',\n",
       " 'Società in Accomandita Semplice',\n",
       " 'Società in Accomandita per azioni',\n",
       " 'Società in Nome Collettivo',\n",
       " 'Società per Azioni',\n",
       " 'Società semplice',\n",
       " nan}"
      ]
     },
     "execution_count": 7,
     "metadata": {},
     "output_type": "execute_result"
    }
   ],
   "source": [
    "set(df[\"Forma_Societaria\"])"
   ]
  },
  {
   "cell_type": "markdown",
   "metadata": {},
   "source": [
    "## Missing values"
   ]
  },
  {
   "cell_type": "code",
   "execution_count": 8,
   "metadata": {
    "ExecuteTime": {
     "end_time": "2020-05-10T15:39:54.029331Z",
     "start_time": "2020-05-10T15:39:53.898739Z"
    }
   },
   "outputs": [
    {
     "data": {
      "text/plain": [
       "Numero_Transazioni         0.000000\n",
       "Indirizzo_Sede_legale      0.000040\n",
       "Forma_Societaria           0.000338\n",
       "Comune_Sede_legale         0.000064\n",
       "Ragione_Sociale            0.000000\n",
       "Numero_Aggiudicazioni      0.000000\n",
       "#Partita_Iva               0.000105\n",
       "Provincia_Sede_legale      0.000064\n",
       "Numero_Abilitazioni        0.000000\n",
       "year                       0.000000\n",
       "Nazione_Sede_legale        0.000032\n",
       "Regione_Sede_legale        0.000064\n",
       "Numero_Contratti_attivi    0.000000\n",
       "dtype: float64"
      ]
     },
     "execution_count": 8,
     "metadata": {},
     "output_type": "execute_result"
    }
   ],
   "source": [
    "df.isnull().mean()"
   ]
  },
  {
   "cell_type": "markdown",
   "metadata": {},
   "source": [
    "I dati mancanti sono per variabili categoriche. Rimpiazzo con un valore \"Missing\":"
   ]
  },
  {
   "cell_type": "code",
   "execution_count": 9,
   "metadata": {
    "ExecuteTime": {
     "end_time": "2020-05-10T15:39:54.121927Z",
     "start_time": "2020-05-10T15:39:54.030998Z"
    }
   },
   "outputs": [],
   "source": [
    "d = {\n",
    "    \"Provincia_Sede_legale\": \"Missing\",\n",
    "    \"Nazione_Sede_legale\": \"Missing\",\n",
    "    \"Comune_Sede_legale\": \"Missing\",\n",
    "    \"Forma_Societaria\": \"Missing\",\n",
    "    \"Regione_Sede_legale\": \"Missing\",\n",
    "    \"#Partita_Iva\": \"Missing\",\n",
    "}\n",
    "df.fillna(\"Missing\", inplace=True)"
   ]
  },
  {
   "cell_type": "code",
   "execution_count": 10,
   "metadata": {
    "ExecuteTime": {
     "end_time": "2020-05-10T15:39:54.226171Z",
     "start_time": "2020-05-10T15:39:54.123128Z"
    }
   },
   "outputs": [
    {
     "data": {
      "text/plain": [
       "Numero_Transazioni         0\n",
       "Indirizzo_Sede_legale      0\n",
       "Forma_Societaria           0\n",
       "Comune_Sede_legale         0\n",
       "Ragione_Sociale            0\n",
       "Numero_Aggiudicazioni      0\n",
       "#Partita_Iva               0\n",
       "Provincia_Sede_legale      0\n",
       "Numero_Abilitazioni        0\n",
       "year                       0\n",
       "Nazione_Sede_legale        0\n",
       "Regione_Sede_legale        0\n",
       "Numero_Contratti_attivi    0\n",
       "dtype: int64"
      ]
     },
     "execution_count": 10,
     "metadata": {},
     "output_type": "execute_result"
    }
   ],
   "source": [
    "df.isnull().sum()"
   ]
  },
  {
   "cell_type": "markdown",
   "metadata": {},
   "source": [
    "## Data types\n",
    "\n",
    "Controllo il tipo delle colonne:"
   ]
  },
  {
   "cell_type": "code",
   "execution_count": 11,
   "metadata": {
    "ExecuteTime": {
     "end_time": "2020-05-10T15:39:54.232032Z",
     "start_time": "2020-05-10T15:39:54.227562Z"
    }
   },
   "outputs": [
    {
     "data": {
      "text/plain": [
       "Numero_Transazioni          int64\n",
       "Indirizzo_Sede_legale      object\n",
       "Forma_Societaria           object\n",
       "Comune_Sede_legale         object\n",
       "Ragione_Sociale            object\n",
       "Numero_Aggiudicazioni       int64\n",
       "#Partita_Iva               object\n",
       "Provincia_Sede_legale      object\n",
       "Numero_Abilitazioni         int64\n",
       "year                        int64\n",
       "Nazione_Sede_legale        object\n",
       "Regione_Sede_legale        object\n",
       "Numero_Contratti_attivi     int64\n",
       "dtype: object"
      ]
     },
     "execution_count": 11,
     "metadata": {},
     "output_type": "execute_result"
    }
   ],
   "source": [
    "df.dtypes"
   ]
  },
  {
   "cell_type": "markdown",
   "metadata": {},
   "source": [
    "Le variabili di tipo ``object`` sono variabili categoriche. La versione che sto usando di ``pandas`` è la seguente:"
   ]
  },
  {
   "cell_type": "code",
   "execution_count": 12,
   "metadata": {
    "ExecuteTime": {
     "end_time": "2020-05-10T15:39:54.243597Z",
     "start_time": "2020-05-10T15:39:54.233583Z"
    }
   },
   "outputs": [
    {
     "data": {
      "text/plain": [
       "'1.0.3'"
      ]
     },
     "execution_count": 12,
     "metadata": {},
     "output_type": "execute_result"
    }
   ],
   "source": [
    "pd.__version__"
   ]
  },
  {
   "cell_type": "markdown",
   "metadata": {},
   "source": [
    "Quindi:"
   ]
  },
  {
   "cell_type": "code",
   "execution_count": 13,
   "metadata": {
    "ExecuteTime": {
     "end_time": "2020-05-10T15:39:55.046174Z",
     "start_time": "2020-05-10T15:39:54.244792Z"
    }
   },
   "outputs": [
    {
     "data": {
      "text/plain": [
       "Numero_Transazioni            int64\n",
       "Indirizzo_Sede_legale      category\n",
       "Forma_Societaria           category\n",
       "Comune_Sede_legale         category\n",
       "Ragione_Sociale            category\n",
       "Numero_Aggiudicazioni         int64\n",
       "#Partita_Iva               category\n",
       "Provincia_Sede_legale      category\n",
       "Numero_Abilitazioni           int64\n",
       "year                          int64\n",
       "Nazione_Sede_legale        category\n",
       "Regione_Sede_legale        category\n",
       "Numero_Contratti_attivi       int64\n",
       "dtype: object"
      ]
     },
     "execution_count": 13,
     "metadata": {},
     "output_type": "execute_result"
    }
   ],
   "source": [
    "categorical_columns = [\n",
    "    \"#Partita_Iva\",\n",
    "    \"Provincia_Sede_legale\",\n",
    "    \"Regione_Sede_legale\",\n",
    "    \"Ragione_Sociale\",\n",
    "    \"Forma_Societaria\",\n",
    "    \"Comune_Sede_legale\",\n",
    "    \"Nazione_Sede_legale\",\n",
    "    \"Indirizzo_Sede_legale\"\n",
    "]\n",
    "\n",
    "for i in categorical_columns:\n",
    "    df[i] = df[i].astype(\"category\")\n",
    "\n",
    "df.dtypes"
   ]
  },
  {
   "cell_type": "markdown",
   "metadata": {},
   "source": [
    "Quanti valori distinti ci sono per colonna?"
   ]
  },
  {
   "cell_type": "code",
   "execution_count": 14,
   "metadata": {
    "ExecuteTime": {
     "end_time": "2020-05-10T15:39:55.253015Z",
     "start_time": "2020-05-10T15:39:55.047677Z"
    }
   },
   "outputs": [
    {
     "data": {
      "text/plain": [
       "Numero_Transazioni            653\n",
       "Indirizzo_Sede_legale      141287\n",
       "Forma_Societaria               21\n",
       "Comune_Sede_legale           6900\n",
       "Ragione_Sociale            148200\n",
       "Numero_Aggiudicazioni          13\n",
       "#Partita_Iva               149213\n",
       "Provincia_Sede_legale         112\n",
       "Numero_Abilitazioni            72\n",
       "year                            2\n",
       "Nazione_Sede_legale            32\n",
       "Regione_Sede_legale            22\n",
       "Numero_Contratti_attivi       746\n",
       "dtype: int64"
      ]
     },
     "execution_count": 14,
     "metadata": {},
     "output_type": "execute_result"
    }
   ],
   "source": [
    "df.nunique()"
   ]
  },
  {
   "cell_type": "code",
   "execution_count": 15,
   "metadata": {
    "ExecuteTime": {
     "end_time": "2020-05-10T15:39:55.281724Z",
     "start_time": "2020-05-10T15:39:55.254787Z"
    }
   },
   "outputs": [],
   "source": [
    "df = df.sample(df.shape[0], random_state=2020)"
   ]
  },
  {
   "cell_type": "markdown",
   "metadata": {},
   "source": [
    "Ho fissato il random state per assicurare la riproducibilità dei calcoli (a parità di versione delle librerie usate)."
   ]
  },
  {
   "cell_type": "code",
   "execution_count": 16,
   "metadata": {
    "ExecuteTime": {
     "end_time": "2020-05-10T15:39:55.300270Z",
     "start_time": "2020-05-10T15:39:55.283714Z"
    }
   },
   "outputs": [
    {
     "data": {
      "text/html": [
       "<div>\n",
       "<style scoped>\n",
       "    .dataframe tbody tr th:only-of-type {\n",
       "        vertical-align: middle;\n",
       "    }\n",
       "\n",
       "    .dataframe tbody tr th {\n",
       "        vertical-align: top;\n",
       "    }\n",
       "\n",
       "    .dataframe thead th {\n",
       "        text-align: right;\n",
       "    }\n",
       "</style>\n",
       "<table border=\"1\" class=\"dataframe\">\n",
       "  <thead>\n",
       "    <tr style=\"text-align: right;\">\n",
       "      <th></th>\n",
       "      <th>Numero_Transazioni</th>\n",
       "      <th>Indirizzo_Sede_legale</th>\n",
       "      <th>Forma_Societaria</th>\n",
       "      <th>Comune_Sede_legale</th>\n",
       "      <th>Ragione_Sociale</th>\n",
       "      <th>Numero_Aggiudicazioni</th>\n",
       "      <th>#Partita_Iva</th>\n",
       "      <th>Provincia_Sede_legale</th>\n",
       "      <th>Numero_Abilitazioni</th>\n",
       "      <th>year</th>\n",
       "      <th>Nazione_Sede_legale</th>\n",
       "      <th>Regione_Sede_legale</th>\n",
       "      <th>Numero_Contratti_attivi</th>\n",
       "    </tr>\n",
       "  </thead>\n",
       "  <tbody>\n",
       "    <tr>\n",
       "      <th>135713</th>\n",
       "      <td>0</td>\n",
       "      <td>PIAZZA IV MARTIRI, 33</td>\n",
       "      <td>Società a Responsabilità Limitata</td>\n",
       "      <td>CARMAGNOLA</td>\n",
       "      <td>VM SERVICE S.R.L.</td>\n",
       "      <td>0</td>\n",
       "      <td>10169750014</td>\n",
       "      <td>TORINO</td>\n",
       "      <td>3</td>\n",
       "      <td>2019</td>\n",
       "      <td>ITALIA</td>\n",
       "      <td>PIEMONTE</td>\n",
       "      <td>0</td>\n",
       "    </tr>\n",
       "    <tr>\n",
       "      <th>108481</th>\n",
       "      <td>3</td>\n",
       "      <td>VIA DI CASTEL ROMANO 100</td>\n",
       "      <td>Società per Azioni</td>\n",
       "      <td>ROMA</td>\n",
       "      <td>RINA CONSULTING - CENTRO SVILUPPO MATERIALI SPA</td>\n",
       "      <td>0</td>\n",
       "      <td>00903541001</td>\n",
       "      <td>ROMA</td>\n",
       "      <td>2</td>\n",
       "      <td>2019</td>\n",
       "      <td>ITALIA</td>\n",
       "      <td>LAZIO</td>\n",
       "      <td>3</td>\n",
       "    </tr>\n",
       "    <tr>\n",
       "      <th>3993</th>\n",
       "      <td>2</td>\n",
       "      <td>VIA VITTORIO EMANUELE II, 51</td>\n",
       "      <td>Società a Responsabilità Limitata</td>\n",
       "      <td>CONSELVE</td>\n",
       "      <td>ALBA</td>\n",
       "      <td>0</td>\n",
       "      <td>04563110289</td>\n",
       "      <td>PADOVA</td>\n",
       "      <td>6</td>\n",
       "      <td>2019</td>\n",
       "      <td>ITALIA</td>\n",
       "      <td>VENETO</td>\n",
       "      <td>2</td>\n",
       "    </tr>\n",
       "    <tr>\n",
       "      <th>76277</th>\n",
       "      <td>13</td>\n",
       "      <td>VIALE WALTER GHELFI 24</td>\n",
       "      <td>Società a Responsabilità Limitata</td>\n",
       "      <td>RIMINI</td>\n",
       "      <td>NOVADYS ITALIA</td>\n",
       "      <td>0</td>\n",
       "      <td>02441440407</td>\n",
       "      <td>RIMINI</td>\n",
       "      <td>1</td>\n",
       "      <td>2018</td>\n",
       "      <td>ITALIA</td>\n",
       "      <td>EMILIA ROMAGNA</td>\n",
       "      <td>13</td>\n",
       "    </tr>\n",
       "    <tr>\n",
       "      <th>77420</th>\n",
       "      <td>3</td>\n",
       "      <td>VIA UMBERTO GIORDANO 7</td>\n",
       "      <td>Società in Accomandita Semplice</td>\n",
       "      <td>CITTA' DI CASTELLO</td>\n",
       "      <td>OFFICINA DEL TRATTORE SAS DI TIRIMBELLI ROBERT...</td>\n",
       "      <td>0</td>\n",
       "      <td>00176050540</td>\n",
       "      <td>PERUGIA</td>\n",
       "      <td>4</td>\n",
       "      <td>2018</td>\n",
       "      <td>ITALIA</td>\n",
       "      <td>UMBRIA</td>\n",
       "      <td>3</td>\n",
       "    </tr>\n",
       "    <tr>\n",
       "      <th>43796</th>\n",
       "      <td>0</td>\n",
       "      <td>VIA PROVINCIALE VECCHIA N° 11</td>\n",
       "      <td>Società in Nome Collettivo</td>\n",
       "      <td>SESTOLA</td>\n",
       "      <td>EDILTER DI MAMMI MARIO &amp; C. S.N.C.</td>\n",
       "      <td>0</td>\n",
       "      <td>01367780366</td>\n",
       "      <td>MODENA</td>\n",
       "      <td>5</td>\n",
       "      <td>2019</td>\n",
       "      <td>ITALIA</td>\n",
       "      <td>EMILIA ROMAGNA</td>\n",
       "      <td>0</td>\n",
       "    </tr>\n",
       "    <tr>\n",
       "      <th>95360</th>\n",
       "      <td>0</td>\n",
       "      <td>VIA MAESTRI DEL LAVORO, 24/B</td>\n",
       "      <td>Società a Responsabilità Limitata</td>\n",
       "      <td>TERNI</td>\n",
       "      <td>NOVEDIL S.R.L.</td>\n",
       "      <td>0</td>\n",
       "      <td>00387050552</td>\n",
       "      <td>TERNI</td>\n",
       "      <td>4</td>\n",
       "      <td>2019</td>\n",
       "      <td>ITALIA</td>\n",
       "      <td>UMBRIA</td>\n",
       "      <td>1</td>\n",
       "    </tr>\n",
       "    <tr>\n",
       "      <th>8049</th>\n",
       "      <td>4</td>\n",
       "      <td>VIA TREVISO 51</td>\n",
       "      <td>Società in Accomandita Semplice</td>\n",
       "      <td>SILEA</td>\n",
       "      <td>ARTUFFICIO</td>\n",
       "      <td>0</td>\n",
       "      <td>04056590260</td>\n",
       "      <td>TREVISO</td>\n",
       "      <td>1</td>\n",
       "      <td>2018</td>\n",
       "      <td>ITALIA</td>\n",
       "      <td>VENETO</td>\n",
       "      <td>4</td>\n",
       "    </tr>\n",
       "    <tr>\n",
       "      <th>69926</th>\n",
       "      <td>2</td>\n",
       "      <td>STRADELLA LOBBIA, 2</td>\n",
       "      <td>Impresa Individuale</td>\n",
       "      <td>VERONA</td>\n",
       "      <td>MAZZAI ADRIANO</td>\n",
       "      <td>0</td>\n",
       "      <td>02182910238</td>\n",
       "      <td>VERONA</td>\n",
       "      <td>1</td>\n",
       "      <td>2018</td>\n",
       "      <td>ITALIA</td>\n",
       "      <td>VENETO</td>\n",
       "      <td>2</td>\n",
       "    </tr>\n",
       "    <tr>\n",
       "      <th>101764</th>\n",
       "      <td>0</td>\n",
       "      <td>VIA ESTRAMURALE A LEVANTE, 86</td>\n",
       "      <td>Impresa Individuale</td>\n",
       "      <td>PUTIGNANO</td>\n",
       "      <td>TECNO GARDEN DI PATRUNO DONATO</td>\n",
       "      <td>0</td>\n",
       "      <td>07299500723</td>\n",
       "      <td>BARI</td>\n",
       "      <td>6</td>\n",
       "      <td>2018</td>\n",
       "      <td>ITALIA</td>\n",
       "      <td>PUGLIA</td>\n",
       "      <td>0</td>\n",
       "    </tr>\n",
       "  </tbody>\n",
       "</table>\n",
       "</div>"
      ],
      "text/plain": [
       "        Numero_Transazioni          Indirizzo_Sede_legale  \\\n",
       "135713                   0          PIAZZA IV MARTIRI, 33   \n",
       "108481                   3       VIA DI CASTEL ROMANO 100   \n",
       "3993                     2   VIA VITTORIO EMANUELE II, 51   \n",
       "76277                   13         VIALE WALTER GHELFI 24   \n",
       "77420                    3         VIA UMBERTO GIORDANO 7   \n",
       "43796                    0  VIA PROVINCIALE VECCHIA N° 11   \n",
       "95360                    0   VIA MAESTRI DEL LAVORO, 24/B   \n",
       "8049                     4                 VIA TREVISO 51   \n",
       "69926                    2            STRADELLA LOBBIA, 2   \n",
       "101764                   0  VIA ESTRAMURALE A LEVANTE, 86   \n",
       "\n",
       "                         Forma_Societaria  Comune_Sede_legale  \\\n",
       "135713  Società a Responsabilità Limitata          CARMAGNOLA   \n",
       "108481                 Società per Azioni                ROMA   \n",
       "3993    Società a Responsabilità Limitata            CONSELVE   \n",
       "76277   Società a Responsabilità Limitata              RIMINI   \n",
       "77420     Società in Accomandita Semplice  CITTA' DI CASTELLO   \n",
       "43796          Società in Nome Collettivo             SESTOLA   \n",
       "95360   Società a Responsabilità Limitata               TERNI   \n",
       "8049      Società in Accomandita Semplice               SILEA   \n",
       "69926                 Impresa Individuale              VERONA   \n",
       "101764                Impresa Individuale           PUTIGNANO   \n",
       "\n",
       "                                          Ragione_Sociale  \\\n",
       "135713                                  VM SERVICE S.R.L.   \n",
       "108481    RINA CONSULTING - CENTRO SVILUPPO MATERIALI SPA   \n",
       "3993                                                 ALBA   \n",
       "76277                                      NOVADYS ITALIA   \n",
       "77420   OFFICINA DEL TRATTORE SAS DI TIRIMBELLI ROBERT...   \n",
       "43796                  EDILTER DI MAMMI MARIO & C. S.N.C.   \n",
       "95360                                      NOVEDIL S.R.L.   \n",
       "8049                                           ARTUFFICIO   \n",
       "69926                                      MAZZAI ADRIANO   \n",
       "101764                     TECNO GARDEN DI PATRUNO DONATO   \n",
       "\n",
       "        Numero_Aggiudicazioni #Partita_Iva Provincia_Sede_legale  \\\n",
       "135713                      0  10169750014                TORINO   \n",
       "108481                      0  00903541001                  ROMA   \n",
       "3993                        0  04563110289                PADOVA   \n",
       "76277                       0  02441440407                RIMINI   \n",
       "77420                       0  00176050540               PERUGIA   \n",
       "43796                       0  01367780366                MODENA   \n",
       "95360                       0  00387050552                 TERNI   \n",
       "8049                        0  04056590260               TREVISO   \n",
       "69926                       0  02182910238                VERONA   \n",
       "101764                      0  07299500723                  BARI   \n",
       "\n",
       "        Numero_Abilitazioni  year Nazione_Sede_legale Regione_Sede_legale  \\\n",
       "135713                    3  2019              ITALIA            PIEMONTE   \n",
       "108481                    2  2019              ITALIA               LAZIO   \n",
       "3993                      6  2019              ITALIA              VENETO   \n",
       "76277                     1  2018              ITALIA      EMILIA ROMAGNA   \n",
       "77420                     4  2018              ITALIA              UMBRIA   \n",
       "43796                     5  2019              ITALIA      EMILIA ROMAGNA   \n",
       "95360                     4  2019              ITALIA              UMBRIA   \n",
       "8049                      1  2018              ITALIA              VENETO   \n",
       "69926                     1  2018              ITALIA              VENETO   \n",
       "101764                    6  2018              ITALIA              PUGLIA   \n",
       "\n",
       "        Numero_Contratti_attivi  \n",
       "135713                        0  \n",
       "108481                        3  \n",
       "3993                          2  \n",
       "76277                        13  \n",
       "77420                         3  \n",
       "43796                         0  \n",
       "95360                         1  \n",
       "8049                          4  \n",
       "69926                         2  \n",
       "101764                        0  "
      ]
     },
     "execution_count": 16,
     "metadata": {},
     "output_type": "execute_result"
    }
   ],
   "source": [
    "df.head(n=10)"
   ]
  },
  {
   "cell_type": "markdown",
   "metadata": {},
   "source": [
    "# Separando i dati per la validazione\n",
    "\n",
    "Utilizzo una cross validation con $k=10$ sottoinsiemi."
   ]
  },
  {
   "cell_type": "code",
   "execution_count": 17,
   "metadata": {
    "ExecuteTime": {
     "end_time": "2020-05-10T15:39:55.564965Z",
     "start_time": "2020-05-10T15:39:55.303520Z"
    }
   },
   "outputs": [
    {
     "name": "stdout",
     "output_type": "stream",
     "text": [
      "0.22.2.post1\n",
      "2.1.0\n"
     ]
    }
   ],
   "source": [
    "import sklearn\n",
    "import category_encoders\n",
    "\n",
    "print(sklearn.__version__)\n",
    "print(category_encoders.__version__)"
   ]
  },
  {
   "cell_type": "markdown",
   "metadata": {},
   "source": [
    "Voglio prevedere a quale anno i dati fanno riferimento. Separo ``#Anno_Riferiemnto`` dai dati:"
   ]
  },
  {
   "cell_type": "code",
   "execution_count": 18,
   "metadata": {
    "ExecuteTime": {
     "end_time": "2020-05-10T15:39:55.578667Z",
     "start_time": "2020-05-10T15:39:55.566611Z"
    }
   },
   "outputs": [],
   "source": [
    "Y = df[\"year\"]\n",
    "X = df.drop([\"year\"], axis=1)"
   ]
  },
  {
   "cell_type": "markdown",
   "metadata": {},
   "source": [
    "Converto $Y$ a 0/1:"
   ]
  },
  {
   "cell_type": "code",
   "execution_count": 19,
   "metadata": {
    "ExecuteTime": {
     "end_time": "2020-05-10T15:39:55.592423Z",
     "start_time": "2020-05-10T15:39:55.580023Z"
    }
   },
   "outputs": [],
   "source": [
    "Y = Y.map({2018: \"0\", 2019: \"1\"})"
   ]
  },
  {
   "cell_type": "markdown",
   "metadata": {
    "ExecuteTime": {
     "end_time": "2020-05-09T11:31:40.089700Z",
     "start_time": "2020-05-09T11:31:40.084215Z"
    }
   },
   "source": [
    "## Random Forest\n",
    "\n",
    "Iterando sul numero di fold:"
   ]
  },
  {
   "cell_type": "code",
   "execution_count": 20,
   "metadata": {
    "ExecuteTime": {
     "end_time": "2020-05-10T15:45:55.495421Z",
     "start_time": "2020-05-10T15:39:55.593827Z"
    }
   },
   "outputs": [],
   "source": [
    "from category_encoders import CatBoostEncoder\n",
    "from sklearn.ensemble import RandomForestClassifier\n",
    "from sklearn.model_selection import KFold\n",
    "from sklearn.metrics import roc_auc_score\n",
    "\n",
    "\n",
    "\n",
    "kf = KFold(n_splits=10, random_state=2020, shuffle=True)\n",
    "auc_score = []\n",
    "\n",
    "for train_index, test_index in kf.split(X):\n",
    "    X_train, X_test = X.iloc[train_index, :], X.iloc[test_index, :]\n",
    "    Y_train, Y_test = Y.iloc[train_index], Y.iloc[test_index]\n",
    "\n",
    "    encoder = CatBoostEncoder(cols=categorical_columns)\n",
    "    encoder.fit(X_train, Y_train)\n",
    "    X_train = encoder.transform(X_train)\n",
    "    X_test = encoder.transform(X_test)\n",
    "\n",
    "    model = RandomForestClassifier(random_state=2020).fit(X_train, Y_train)\n",
    "    auc_score += [roc_auc_score(Y_test, model.predict_proba(X_test)[:, 1])]"
   ]
  },
  {
   "cell_type": "code",
   "execution_count": 21,
   "metadata": {
    "ExecuteTime": {
     "end_time": "2020-05-10T15:45:55.500642Z",
     "start_time": "2020-05-10T15:45:55.497443Z"
    }
   },
   "outputs": [
    {
     "name": "stdout",
     "output_type": "stream",
     "text": [
      "0.3352418099660221 +/- 0.002449607855333874\n"
     ]
    }
   ],
   "source": [
    "import numpy as np\n",
    "\n",
    "\n",
    "print(np.mean(auc_score), \"+/-\", np.std(auc_score))"
   ]
  },
  {
   "cell_type": "markdown",
   "metadata": {},
   "source": [
    "## Xgboost"
   ]
  },
  {
   "cell_type": "code",
   "execution_count": 22,
   "metadata": {
    "ExecuteTime": {
     "end_time": "2020-05-10T15:48:14.844700Z",
     "start_time": "2020-05-10T15:45:55.502047Z"
    }
   },
   "outputs": [
    {
     "name": "stdout",
     "output_type": "stream",
     "text": [
      "0.4267767115213418 +/- 0.0030103837832385063\n"
     ]
    }
   ],
   "source": [
    "from xgboost import XGBClassifier\n",
    "\n",
    "\n",
    "auc_score = []\n",
    "for train_index, test_index in kf.split(X):\n",
    "    X_train, X_test = X.iloc[train_index, :], X.iloc[test_index, :]\n",
    "    Y_train, Y_test = Y.iloc[train_index], Y.iloc[test_index]\n",
    "\n",
    "    encoder = CatBoostEncoder(cols=categorical_columns)\n",
    "    encoder.fit(X_train, Y_train)\n",
    "    X_train = encoder.transform(X_train)\n",
    "    X_test = encoder.transform(X_test)\n",
    "\n",
    "    model = XGBClassifier(random_state=2020).fit(X_train, Y_train)\n",
    "    auc_score += [roc_auc_score(Y_test, model.predict_proba(X_test)[:, 1])]\n",
    "    \n",
    "print(np.mean(auc_score), \"+/-\", np.std(auc_score))"
   ]
  },
  {
   "cell_type": "markdown",
   "metadata": {},
   "source": [
    "Questo senza ottimizzare gli iper-parametri. Significa che conoscere i dati per il 2018 non aiuta molto a prevedere i dati per il 2019."
   ]
  },
  {
   "cell_type": "markdown",
   "metadata": {},
   "source": [
    "# Interpretabilità\n",
    "\n",
    "Faccio un trading su tutti i dati:"
   ]
  },
  {
   "cell_type": "code",
   "execution_count": 23,
   "metadata": {
    "ExecuteTime": {
     "end_time": "2020-05-10T15:48:28.976172Z",
     "start_time": "2020-05-10T15:48:14.847212Z"
    }
   },
   "outputs": [],
   "source": [
    "encoder = CatBoostEncoder(cols=categorical_columns)\n",
    "encoder.fit(X, Y)\n",
    "X = encoder.transform(X)\n",
    "\n",
    "\n",
    "model = XGBClassifier(random_state=2020).fit(X, Y)"
   ]
  },
  {
   "cell_type": "markdown",
   "metadata": {},
   "source": [
    "## Permutation importance\n",
    "\n",
    "Come riferimento per l'explainability del modello (per una spiegazione dettagliata) considero il [corso di Kaggle](https://www.kaggle.com/dansbecker/permutation-importance).\n",
    "\n",
    "Per valutare límportanza delle singole variabili si può testare quanto migliori siano le variabili originalu rispetto a delle permutazioni casuali. Se permutare le variabili non danneggia significativamente le performance del modello (o addirittura le migliora) le variabili non sono rilevanti. Nella prossima tabella viene riportata la differenza in performance dovuta alla permutazione casuale delle variabili:"
   ]
  },
  {
   "cell_type": "code",
   "execution_count": 24,
   "metadata": {
    "ExecuteTime": {
     "end_time": "2020-05-10T15:48:40.329606Z",
     "start_time": "2020-05-10T15:48:28.977502Z"
    }
   },
   "outputs": [
    {
     "name": "stderr",
     "output_type": "stream",
     "text": [
      "/home/marco/.local/lib/python3.6/site-packages/sklearn/utils/deprecation.py:144: FutureWarning: The sklearn.metrics.scorer module is  deprecated in version 0.22 and will be removed in version 0.24. The corresponding classes / functions should instead be imported from sklearn.metrics. Anything that cannot be imported from sklearn.metrics is now part of the private API.\n",
      "  warnings.warn(message, FutureWarning)\n",
      "/home/marco/.local/lib/python3.6/site-packages/sklearn/utils/deprecation.py:144: FutureWarning: The sklearn.feature_selection.base module is  deprecated in version 0.22 and will be removed in version 0.24. The corresponding classes / functions should instead be imported from sklearn.feature_selection. Anything that cannot be imported from sklearn.feature_selection is now part of the private API.\n",
      "  warnings.warn(message, FutureWarning)\n",
      "Using TensorFlow backend.\n",
      "/home/marco/.local/lib/python3.6/site-packages/tensorflow/python/framework/dtypes.py:516: FutureWarning: Passing (type, 1) or '1type' as a synonym of type is deprecated; in a future version of numpy, it will be understood as (type, (1,)) / '(1,)type'.\n",
      "  _np_qint8 = np.dtype([(\"qint8\", np.int8, 1)])\n",
      "/home/marco/.local/lib/python3.6/site-packages/tensorflow/python/framework/dtypes.py:517: FutureWarning: Passing (type, 1) or '1type' as a synonym of type is deprecated; in a future version of numpy, it will be understood as (type, (1,)) / '(1,)type'.\n",
      "  _np_quint8 = np.dtype([(\"quint8\", np.uint8, 1)])\n",
      "/home/marco/.local/lib/python3.6/site-packages/tensorflow/python/framework/dtypes.py:518: FutureWarning: Passing (type, 1) or '1type' as a synonym of type is deprecated; in a future version of numpy, it will be understood as (type, (1,)) / '(1,)type'.\n",
      "  _np_qint16 = np.dtype([(\"qint16\", np.int16, 1)])\n",
      "/home/marco/.local/lib/python3.6/site-packages/tensorflow/python/framework/dtypes.py:519: FutureWarning: Passing (type, 1) or '1type' as a synonym of type is deprecated; in a future version of numpy, it will be understood as (type, (1,)) / '(1,)type'.\n",
      "  _np_quint16 = np.dtype([(\"quint16\", np.uint16, 1)])\n",
      "/home/marco/.local/lib/python3.6/site-packages/tensorflow/python/framework/dtypes.py:520: FutureWarning: Passing (type, 1) or '1type' as a synonym of type is deprecated; in a future version of numpy, it will be understood as (type, (1,)) / '(1,)type'.\n",
      "  _np_qint32 = np.dtype([(\"qint32\", np.int32, 1)])\n",
      "/home/marco/.local/lib/python3.6/site-packages/tensorflow/python/framework/dtypes.py:525: FutureWarning: Passing (type, 1) or '1type' as a synonym of type is deprecated; in a future version of numpy, it will be understood as (type, (1,)) / '(1,)type'.\n",
      "  np_resource = np.dtype([(\"resource\", np.ubyte, 1)])\n",
      "/home/marco/.local/lib/python3.6/site-packages/tensorboard/compat/tensorflow_stub/dtypes.py:541: FutureWarning: Passing (type, 1) or '1type' as a synonym of type is deprecated; in a future version of numpy, it will be understood as (type, (1,)) / '(1,)type'.\n",
      "  _np_qint8 = np.dtype([(\"qint8\", np.int8, 1)])\n",
      "/home/marco/.local/lib/python3.6/site-packages/tensorboard/compat/tensorflow_stub/dtypes.py:542: FutureWarning: Passing (type, 1) or '1type' as a synonym of type is deprecated; in a future version of numpy, it will be understood as (type, (1,)) / '(1,)type'.\n",
      "  _np_quint8 = np.dtype([(\"quint8\", np.uint8, 1)])\n",
      "/home/marco/.local/lib/python3.6/site-packages/tensorboard/compat/tensorflow_stub/dtypes.py:543: FutureWarning: Passing (type, 1) or '1type' as a synonym of type is deprecated; in a future version of numpy, it will be understood as (type, (1,)) / '(1,)type'.\n",
      "  _np_qint16 = np.dtype([(\"qint16\", np.int16, 1)])\n",
      "/home/marco/.local/lib/python3.6/site-packages/tensorboard/compat/tensorflow_stub/dtypes.py:544: FutureWarning: Passing (type, 1) or '1type' as a synonym of type is deprecated; in a future version of numpy, it will be understood as (type, (1,)) / '(1,)type'.\n",
      "  _np_quint16 = np.dtype([(\"quint16\", np.uint16, 1)])\n",
      "/home/marco/.local/lib/python3.6/site-packages/tensorboard/compat/tensorflow_stub/dtypes.py:545: FutureWarning: Passing (type, 1) or '1type' as a synonym of type is deprecated; in a future version of numpy, it will be understood as (type, (1,)) / '(1,)type'.\n",
      "  _np_qint32 = np.dtype([(\"qint32\", np.int32, 1)])\n",
      "/home/marco/.local/lib/python3.6/site-packages/tensorboard/compat/tensorflow_stub/dtypes.py:550: FutureWarning: Passing (type, 1) or '1type' as a synonym of type is deprecated; in a future version of numpy, it will be understood as (type, (1,)) / '(1,)type'.\n",
      "  np_resource = np.dtype([(\"resource\", np.ubyte, 1)])\n"
     ]
    },
    {
     "data": {
      "text/plain": [
       "'0.10.1'"
      ]
     },
     "execution_count": 24,
     "metadata": {},
     "output_type": "execute_result"
    }
   ],
   "source": [
    "import eli5\n",
    "\n",
    "\n",
    "eli5.__version__"
   ]
  },
  {
   "cell_type": "code",
   "execution_count": 25,
   "metadata": {
    "ExecuteTime": {
     "end_time": "2020-05-10T15:49:19.259687Z",
     "start_time": "2020-05-10T15:48:40.330880Z"
    }
   },
   "outputs": [
    {
     "data": {
      "text/html": [
       "\n",
       "    <style>\n",
       "    table.eli5-weights tr:hover {\n",
       "        filter: brightness(85%);\n",
       "    }\n",
       "</style>\n",
       "\n",
       "\n",
       "\n",
       "    \n",
       "\n",
       "    \n",
       "\n",
       "    \n",
       "\n",
       "    \n",
       "\n",
       "    \n",
       "\n",
       "    \n",
       "\n",
       "\n",
       "    \n",
       "\n",
       "    \n",
       "\n",
       "    \n",
       "\n",
       "    \n",
       "\n",
       "    \n",
       "\n",
       "    \n",
       "\n",
       "\n",
       "    \n",
       "\n",
       "    \n",
       "\n",
       "    \n",
       "\n",
       "    \n",
       "\n",
       "    \n",
       "        <table class=\"eli5-weights eli5-feature-importances\" style=\"border-collapse: collapse; border: none; margin-top: 0em; table-layout: auto;\">\n",
       "    <thead>\n",
       "    <tr style=\"border: none;\">\n",
       "        <th style=\"padding: 0 1em 0 0.5em; text-align: right; border: none;\">Weight</th>\n",
       "        <th style=\"padding: 0 0.5em 0 0.5em; text-align: left; border: none;\">Feature</th>\n",
       "    </tr>\n",
       "    </thead>\n",
       "    <tbody>\n",
       "    \n",
       "        <tr style=\"background-color: hsl(120, 100.00%, 80.00%); border: none;\">\n",
       "            <td style=\"padding: 0 1em 0 0.5em; text-align: right; border: none;\">\n",
       "                0.0836\n",
       "                \n",
       "                    &plusmn; 0.0017\n",
       "                \n",
       "            </td>\n",
       "            <td style=\"padding: 0 0.5em 0 0.5em; text-align: left; border: none;\">\n",
       "                Numero_Contratti_attivi\n",
       "            </td>\n",
       "        </tr>\n",
       "    \n",
       "        <tr style=\"background-color: hsl(120, 100.00%, 84.55%); border: none;\">\n",
       "            <td style=\"padding: 0 1em 0 0.5em; text-align: right; border: none;\">\n",
       "                0.0578\n",
       "                \n",
       "                    &plusmn; 0.0006\n",
       "                \n",
       "            </td>\n",
       "            <td style=\"padding: 0 0.5em 0 0.5em; text-align: left; border: none;\">\n",
       "                Numero_Transazioni\n",
       "            </td>\n",
       "        </tr>\n",
       "    \n",
       "        <tr style=\"background-color: hsl(120, 100.00%, 85.18%); border: none;\">\n",
       "            <td style=\"padding: 0 1em 0 0.5em; text-align: right; border: none;\">\n",
       "                0.0545\n",
       "                \n",
       "                    &plusmn; 0.0004\n",
       "                \n",
       "            </td>\n",
       "            <td style=\"padding: 0 0.5em 0 0.5em; text-align: left; border: none;\">\n",
       "                #Partita_Iva\n",
       "            </td>\n",
       "        </tr>\n",
       "    \n",
       "        <tr style=\"background-color: hsl(120, 100.00%, 92.83%); border: none;\">\n",
       "            <td style=\"padding: 0 1em 0 0.5em; text-align: right; border: none;\">\n",
       "                0.0193\n",
       "                \n",
       "                    &plusmn; 0.0008\n",
       "                \n",
       "            </td>\n",
       "            <td style=\"padding: 0 0.5em 0 0.5em; text-align: left; border: none;\">\n",
       "                Forma_Societaria\n",
       "            </td>\n",
       "        </tr>\n",
       "    \n",
       "        <tr style=\"background-color: hsl(120, 100.00%, 92.88%); border: none;\">\n",
       "            <td style=\"padding: 0 1em 0 0.5em; text-align: right; border: none;\">\n",
       "                0.0191\n",
       "                \n",
       "                    &plusmn; 0.0006\n",
       "                \n",
       "            </td>\n",
       "            <td style=\"padding: 0 0.5em 0 0.5em; text-align: left; border: none;\">\n",
       "                Indirizzo_Sede_legale\n",
       "            </td>\n",
       "        </tr>\n",
       "    \n",
       "        <tr style=\"background-color: hsl(120, 100.00%, 94.31%); border: none;\">\n",
       "            <td style=\"padding: 0 1em 0 0.5em; text-align: right; border: none;\">\n",
       "                0.0139\n",
       "                \n",
       "                    &plusmn; 0.0009\n",
       "                \n",
       "            </td>\n",
       "            <td style=\"padding: 0 0.5em 0 0.5em; text-align: left; border: none;\">\n",
       "                Ragione_Sociale\n",
       "            </td>\n",
       "        </tr>\n",
       "    \n",
       "        <tr style=\"background-color: hsl(120, 100.00%, 94.35%); border: none;\">\n",
       "            <td style=\"padding: 0 1em 0 0.5em; text-align: right; border: none;\">\n",
       "                0.0138\n",
       "                \n",
       "                    &plusmn; 0.0008\n",
       "                \n",
       "            </td>\n",
       "            <td style=\"padding: 0 0.5em 0 0.5em; text-align: left; border: none;\">\n",
       "                Comune_Sede_legale\n",
       "            </td>\n",
       "        </tr>\n",
       "    \n",
       "        <tr style=\"background-color: hsl(120, 100.00%, 95.51%); border: none;\">\n",
       "            <td style=\"padding: 0 1em 0 0.5em; text-align: right; border: none;\">\n",
       "                0.0099\n",
       "                \n",
       "                    &plusmn; 0.0009\n",
       "                \n",
       "            </td>\n",
       "            <td style=\"padding: 0 0.5em 0 0.5em; text-align: left; border: none;\">\n",
       "                Numero_Abilitazioni\n",
       "            </td>\n",
       "        </tr>\n",
       "    \n",
       "        <tr style=\"background-color: hsl(120, 100.00%, 97.50%); border: none;\">\n",
       "            <td style=\"padding: 0 1em 0 0.5em; text-align: right; border: none;\">\n",
       "                0.0043\n",
       "                \n",
       "                    &plusmn; 0.0005\n",
       "                \n",
       "            </td>\n",
       "            <td style=\"padding: 0 0.5em 0 0.5em; text-align: left; border: none;\">\n",
       "                Provincia_Sede_legale\n",
       "            </td>\n",
       "        </tr>\n",
       "    \n",
       "        <tr style=\"background-color: hsl(120, 100.00%, 97.92%); border: none;\">\n",
       "            <td style=\"padding: 0 1em 0 0.5em; text-align: right; border: none;\">\n",
       "                0.0033\n",
       "                \n",
       "                    &plusmn; 0.0006\n",
       "                \n",
       "            </td>\n",
       "            <td style=\"padding: 0 0.5em 0 0.5em; text-align: left; border: none;\">\n",
       "                Regione_Sede_legale\n",
       "            </td>\n",
       "        </tr>\n",
       "    \n",
       "        <tr style=\"background-color: hsl(120, 100.00%, 99.67%); border: none;\">\n",
       "            <td style=\"padding: 0 1em 0 0.5em; text-align: right; border: none;\">\n",
       "                0.0002\n",
       "                \n",
       "                    &plusmn; 0.0000\n",
       "                \n",
       "            </td>\n",
       "            <td style=\"padding: 0 0.5em 0 0.5em; text-align: left; border: none;\">\n",
       "                Numero_Aggiudicazioni\n",
       "            </td>\n",
       "        </tr>\n",
       "    \n",
       "        <tr style=\"background-color: hsl(120, 100.00%, 99.89%); border: none;\">\n",
       "            <td style=\"padding: 0 1em 0 0.5em; text-align: right; border: none;\">\n",
       "                0.0000\n",
       "                \n",
       "                    &plusmn; 0.0001\n",
       "                \n",
       "            </td>\n",
       "            <td style=\"padding: 0 0.5em 0 0.5em; text-align: left; border: none;\">\n",
       "                Nazione_Sede_legale\n",
       "            </td>\n",
       "        </tr>\n",
       "    \n",
       "    \n",
       "    </tbody>\n",
       "</table>\n",
       "    \n",
       "\n",
       "    \n",
       "\n",
       "\n",
       "    \n",
       "\n",
       "    \n",
       "\n",
       "    \n",
       "\n",
       "    \n",
       "\n",
       "    \n",
       "\n",
       "    \n",
       "\n",
       "\n",
       "\n"
      ],
      "text/plain": [
       "<IPython.core.display.HTML object>"
      ]
     },
     "execution_count": 25,
     "metadata": {},
     "output_type": "execute_result"
    }
   ],
   "source": [
    "from eli5.sklearn import PermutationImportance\n",
    "\n",
    "\n",
    "perm = PermutationImportance(model, random_state=2020).fit(X, Y)\n",
    "eli5.show_weights(perm, feature_names = X.columns.tolist())"
   ]
  },
  {
   "cell_type": "code",
   "execution_count": 26,
   "metadata": {
    "ExecuteTime": {
     "end_time": "2020-05-10T15:49:19.264403Z",
     "start_time": "2020-05-10T15:49:19.261108Z"
    }
   },
   "outputs": [
    {
     "data": {
      "text/plain": [
       "Index(['Numero_Transazioni', 'Indirizzo_Sede_legale', 'Forma_Societaria',\n",
       "       'Comune_Sede_legale', 'Ragione_Sociale', 'Numero_Aggiudicazioni',\n",
       "       '#Partita_Iva', 'Provincia_Sede_legale', 'Numero_Abilitazioni',\n",
       "       'Nazione_Sede_legale', 'Regione_Sede_legale',\n",
       "       'Numero_Contratti_attivi'],\n",
       "      dtype='object')"
      ]
     },
     "execution_count": 26,
     "metadata": {},
     "output_type": "execute_result"
    }
   ],
   "source": [
    "X.columns"
   ]
  },
  {
   "cell_type": "code",
   "execution_count": null,
   "metadata": {},
   "outputs": [],
   "source": []
  }
 ],
 "metadata": {
  "kernelspec": {
   "display_name": "Python 3",
   "language": "python",
   "name": "python3"
  },
  "language_info": {
   "codemirror_mode": {
    "name": "ipython",
    "version": 3
   },
   "file_extension": ".py",
   "mimetype": "text/x-python",
   "name": "python",
   "nbconvert_exporter": "python",
   "pygments_lexer": "ipython3",
   "version": "3.6.9"
  },
  "toc": {
   "base_numbering": 1,
   "nav_menu": {},
   "number_sections": true,
   "sideBar": true,
   "skip_h1_title": false,
   "title_cell": "Table of Contents",
   "title_sidebar": "Contents",
   "toc_cell": true,
   "toc_position": {},
   "toc_section_display": true,
   "toc_window_display": false
  }
 },
 "nbformat": 4,
 "nbformat_minor": 4
}
