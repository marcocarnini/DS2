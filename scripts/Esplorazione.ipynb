{
 "cells": [
  {
   "cell_type": "markdown",
   "metadata": {
    "toc": true
   },
   "source": [
    "<h1>Table of Contents<span class=\"tocSkip\"></span></h1>\n",
    "<div class=\"toc\"><ul class=\"toc-item\"><li><span><a href=\"#Esplorando-i-dati\" data-toc-modified-id=\"Esplorando-i-dati-1\"><span class=\"toc-item-num\">1&nbsp;&nbsp;</span>Esplorando i dati</a></span><ul class=\"toc-item\"><li><span><a href=\"#Esplorando-Acquisti----Beni-e-Servizi-Acquistati-Tramite-RdO/TD-sul-MEPA-2019\" data-toc-modified-id=\"Esplorando-Acquisti----Beni-e-Servizi-Acquistati-Tramite-RdO/TD-sul-MEPA-2019-1.1\"><span class=\"toc-item-num\">1.1&nbsp;&nbsp;</span>Esplorando Acquisti -  Beni e Servizi Acquistati Tramite RdO/TD sul MEPA 2019</a></span></li><li><span><a href=\"#Esplorando-Acquisti---Consumi-in-convenzione\" data-toc-modified-id=\"Esplorando-Acquisti---Consumi-in-convenzione-1.2\"><span class=\"toc-item-num\">1.2&nbsp;&nbsp;</span>Esplorando Acquisti - Consumi in convenzione</a></span></li><li><span><a href=\"#Esplorando-Acquisti---Convenzione\" data-toc-modified-id=\"Esplorando-Acquisti---Convenzione-1.3\"><span class=\"toc-item-num\">1.3&nbsp;&nbsp;</span>Esplorando Acquisti - Convenzione</a></span></li><li><span><a href=\"#Esplorando-Acquisti---Ordini-diretti-di-acquisto\" data-toc-modified-id=\"Esplorando-Acquisti---Ordini-diretti-di-acquisto-1.4\"><span class=\"toc-item-num\">1.4&nbsp;&nbsp;</span>Esplorando Acquisti - Ordini diretti di acquisto</a></span></li><li><span><a href=\"#Esplorando-Acquisti---Ordini-diretti-mepa\" data-toc-modified-id=\"Esplorando-Acquisti---Ordini-diretti-mepa-1.5\"><span class=\"toc-item-num\">1.5&nbsp;&nbsp;</span>Esplorando Acquisti - Ordini diretti mepa</a></span></li><li><span><a href=\"#Esplorando-Acquisti---Richiesta-di-offerta/trattative-dirette-stipulate-sul-MEPA\" data-toc-modified-id=\"Esplorando-Acquisti---Richiesta-di-offerta/trattative-dirette-stipulate-sul-MEPA-1.6\"><span class=\"toc-item-num\">1.6&nbsp;&nbsp;</span>Esplorando Acquisti - Richiesta di offerta/trattative dirette stipulate sul MEPA</a></span></li><li><span><a href=\"#Esplorando-Amministrazioni\" data-toc-modified-id=\"Esplorando-Amministrazioni-1.7\"><span class=\"toc-item-num\">1.7&nbsp;&nbsp;</span>Esplorando Amministrazioni</a></span></li><li><span><a href=\"#Esplorando-Bandi\" data-toc-modified-id=\"Esplorando-Bandi-1.8\"><span class=\"toc-item-num\">1.8&nbsp;&nbsp;</span>Esplorando Bandi</a></span></li><li><span><a href=\"#Esplorando-Fornitori---Fornitori-del-programma\" data-toc-modified-id=\"Esplorando-Fornitori---Fornitori-del-programma-1.9\"><span class=\"toc-item-num\">1.9&nbsp;&nbsp;</span>Esplorando Fornitori - Fornitori del programma</a></span></li><li><span><a href=\"#Esplorando-Fornitori---Partecipazioni\" data-toc-modified-id=\"Esplorando-Fornitori---Partecipazioni-1.10\"><span class=\"toc-item-num\">1.10&nbsp;&nbsp;</span>Esplorando Fornitori - Partecipazioni</a></span></li><li><span><a href=\"#Esplorando-Cataloghi---Cataloghi\" data-toc-modified-id=\"Esplorando-Cataloghi---Cataloghi-1.11\"><span class=\"toc-item-num\">1.11&nbsp;&nbsp;</span>Esplorando Cataloghi - Cataloghi</a></span></li><li><span><a href=\"#Esplorando-cataloghi\" data-toc-modified-id=\"Esplorando-cataloghi-1.12\"><span class=\"toc-item-num\">1.12&nbsp;&nbsp;</span>Esplorando cataloghi</a></span></li><li><span><a href=\"#Esplorando-Appalti---Appalti-Specifici-banditi-su-accordi-quadro\" data-toc-modified-id=\"Esplorando-Appalti---Appalti-Specifici-banditi-su-accordi-quadro-1.13\"><span class=\"toc-item-num\">1.13&nbsp;&nbsp;</span>Esplorando Appalti - Appalti Specifici banditi su accordi quadro</a></span></li><li><span><a href=\"#Esplorando-Appalti---Appalti-specifici-banditi-su-sistema-dinamico-di-acquisizione\" data-toc-modified-id=\"Esplorando-Appalti---Appalti-specifici-banditi-su-sistema-dinamico-di-acquisizione-1.14\"><span class=\"toc-item-num\">1.14&nbsp;&nbsp;</span>Esplorando Appalti - Appalti specifici banditi su sistema dinamico di acquisizione</a></span></li><li><span><a href=\"#Esplorando-Appalti---Beni-e-servizi-richiesti\" data-toc-modified-id=\"Esplorando-Appalti---Beni-e-servizi-richiesti-1.15\"><span class=\"toc-item-num\">1.15&nbsp;&nbsp;</span>Esplorando Appalti - Beni e servizi richiesti</a></span></li><li><span><a href=\"#Esplorando-Appalti---Richiesta-di-offerta/trattativa-sul-MEPA\" data-toc-modified-id=\"Esplorando-Appalti---Richiesta-di-offerta/trattativa-sul-MEPA-1.16\"><span class=\"toc-item-num\">1.16&nbsp;&nbsp;</span>Esplorando Appalti - Richiesta di offerta/trattativa sul MEPA</a></span></li></ul></li><li><span><a href=\"#Prime-considerazioni\" data-toc-modified-id=\"Prime-considerazioni-2\"><span class=\"toc-item-num\">2&nbsp;&nbsp;</span>Prime considerazioni</a></span></li><li><span><a href=\"#Esplorando\" data-toc-modified-id=\"Esplorando-3\"><span class=\"toc-item-num\">3&nbsp;&nbsp;</span>Esplorando</a></span></li></ul></div>"
   ]
  },
  {
   "cell_type": "markdown",
   "metadata": {},
   "source": [
    "Il codice e' formattato usando [``black``](https://github.com/psf/black). Importing the required libraries:"
   ]
  },
  {
   "cell_type": "code",
   "execution_count": 46,
   "metadata": {
    "ExecuteTime": {
     "end_time": "2020-05-08T09:46:13.271276Z",
     "start_time": "2020-05-08T09:46:10.295745Z"
    }
   },
   "outputs": [],
   "source": [
    "import numpy as np\n",
    "import pandas as pd\n",
    "import seaborn as sns\n",
    "import matplotlib.pyplot as plt\n",
    "\n",
    "%matplotlib inline"
   ]
  },
  {
   "cell_type": "markdown",
   "metadata": {},
   "source": [
    "# Esplorando i dati\n",
    "\n",
    "Il primo passo è scaricare i dati disponibili e salvarli nella cartella input. Solitamente non li includo nel repository per ragioni di riservatezza e di spazio (anche se non è questo il caso). Citando parola per parola il testo dell'esercizio:\n",
    "\n",
    "> Il Ministero Economie e Finanze tramite consip, acquisisce e pubblica tutti gli acquisti fatti dai vari enti della Pubblica Amministrazione. I dati (scaricabili dal sito dati.consip.it) sono organizzati in:\n",
    "* Amministrazioni del programma: Pubbliche Amministrazioni registrate al Programma di razionalizzazione degli acquisti\n",
    "* Bandi e Gare: Iniziative di gara e lotti pubblicati nell'ambito del Programma di razionalizzazione degli acquisti\n",
    "* Fornitori: aziende partecipanti al programma\n",
    "* Cataloghi: Beni, Servizi e Lavori disponibili tramite le iniziative del Programma di razionalizzazione degli acquisti\n",
    "* Negoziazioni: Negoziazioni telematiche effettuate dalle PA abilitate finalizzate alla selezione di offerte per l'acquisto di beni e servizi\n",
    "* Acquisti: Acquisti formalizzati tra PA e Fornitori nell'ambito del Programma di razionalizzazione\n",
    "\n",
    ">Questi dati servono a tracciare tutti gli acquisti di servizi, beni fatti dalla pubblica amministrazione verso le aziende iscritte al registro pubblico delle aziende.\n",
    "L’obiettivo di questo esercizio e’ costruire una exploratory data analysis ed un modello predittivo partendo da questi dati. La traccia è’ volutamente libera, e permetterà al candidato di mostrare le proprie capacità propositive sia nell’individuare domande di ricerca che nel valutarle. \n",
    "Il candidato, potrà integrare questi dati con altre sorgenti dati come: indice pa e/o ANAC.\n",
    "\n",
    "Parto esplorando i dati sugli acquisti, visto che le prime domande che istintivamente mi pongo riguardano le spese (per esempio, cercare di predire quanto si spende in un anno in totale per la PA).\n",
    "\n",
    "Sono partito esplorando il 2019, visto che l'anno e' a disposizione per intero.\n",
    "\n",
    "## Esplorando Acquisti -  Beni e Servizi Acquistati Tramite RdO/TD sul MEPA 2019\n",
    "\n",
    "> Il dataset contiene informazioni di sintesi dei beni/servizi acquistati tramite RdO e Trattative dirette nell’ambito del Mepa. Consente di analizzare la spesa della PA in termini di: numero PA che hanno stipulato contratti, numero punti ordinanti, numero contratti stipulati, numero fornitori che hanno stipulato contratti. I dati sono aggregati rispetto alla tipologia e alla provincia dell’amministrazione che ha stipulato contratti, alla regione del fornitore che ha stipulato contratti, al bene/servizio acquistato, alla classificazione CPV del bene/servizio acquistato, al bando Mepa e alla relativa categoria di abilitazione su cui sono disponibili i beni/servizi acquistati, al tipo negoziazione (RdO/TD). Trattandosi di dati aggregati, non tutti gli indicatori sono additivi.\n",
    "\n",
    "Il primo passo e' leggere il file CSV:"
   ]
  },
  {
   "cell_type": "code",
   "execution_count": 1,
   "metadata": {
    "ExecuteTime": {
     "end_time": "2020-05-08T07:48:09.962842Z",
     "start_time": "2020-05-08T07:48:07.118231Z"
    }
   },
   "outputs": [
    {
     "data": {
      "text/html": [
       "<div>\n",
       "<style scoped>\n",
       "    .dataframe tbody tr th:only-of-type {\n",
       "        vertical-align: middle;\n",
       "    }\n",
       "\n",
       "    .dataframe tbody tr th {\n",
       "        vertical-align: top;\n",
       "    }\n",
       "\n",
       "    .dataframe thead th {\n",
       "        text-align: right;\n",
       "    }\n",
       "</style>\n",
       "<table border=\"1\" class=\"dataframe\">\n",
       "  <thead>\n",
       "    <tr style=\"text-align: right;\">\n",
       "      <th></th>\n",
       "      <th>#Anno_Riferimento</th>\n",
       "      <th>Tipologia_Amministrazione</th>\n",
       "      <th>Regione_PA</th>\n",
       "      <th>Provincia_PA</th>\n",
       "      <th>Sigla_provincia_PA</th>\n",
       "      <th>Regione_Fornitore</th>\n",
       "      <th>Bando_Mepa</th>\n",
       "      <th>Categoria_abilitazione</th>\n",
       "      <th>Bene_Servizio</th>\n",
       "      <th>Codice_CPV</th>\n",
       "      <th>Descrizione_CPV</th>\n",
       "      <th>Tipo_Negoziazione</th>\n",
       "      <th>N_Contratti_Stipulati</th>\n",
       "      <th>N_Fornitori_con_contratti_stipulati</th>\n",
       "      <th>N_PA_Appaltanti</th>\n",
       "      <th>N_PO</th>\n",
       "    </tr>\n",
       "  </thead>\n",
       "  <tbody>\n",
       "    <tr>\n",
       "      <th>0</th>\n",
       "      <td>2019</td>\n",
       "      <td>ENTI PUBBLICI NON ECONOMICI DELLO STATO ED AUT...</td>\n",
       "      <td>LAZIO</td>\n",
       "      <td>ROMA</td>\n",
       "      <td>RM</td>\n",
       "      <td>LAZIO</td>\n",
       "      <td>BENI</td>\n",
       "      <td>CANCELLERIA, CARTA, CONSUMABILI DA STAMPA E PR...</td>\n",
       "      <td>BLOCCHI</td>\n",
       "      <td>22816100-4</td>\n",
       "      <td>TACCUINI PER APPUNTI</td>\n",
       "      <td>RdO</td>\n",
       "      <td>1</td>\n",
       "      <td>1</td>\n",
       "      <td>1</td>\n",
       "      <td>1</td>\n",
       "    </tr>\n",
       "    <tr>\n",
       "      <th>1</th>\n",
       "      <td>2019</td>\n",
       "      <td>ENTI PUBBLICI NON ECONOMICI DELLO STATO ED AUT...</td>\n",
       "      <td>LAZIO</td>\n",
       "      <td>ROMA</td>\n",
       "      <td>RM</td>\n",
       "      <td>LAZIO</td>\n",
       "      <td>BENI</td>\n",
       "      <td>CANCELLERIA, CARTA, CONSUMABILI DA STAMPA E PR...</td>\n",
       "      <td>QUADERNI E RICAMBI</td>\n",
       "      <td>22830000-7</td>\n",
       "      <td>QUADERNI SCOLASTICI</td>\n",
       "      <td>RdO</td>\n",
       "      <td>1</td>\n",
       "      <td>1</td>\n",
       "      <td>1</td>\n",
       "      <td>1</td>\n",
       "    </tr>\n",
       "    <tr>\n",
       "      <th>2</th>\n",
       "      <td>2019</td>\n",
       "      <td>ENTI PUBBLICI NON ECONOMICI DELLO STATO ED AUT...</td>\n",
       "      <td>LAZIO</td>\n",
       "      <td>ROMA</td>\n",
       "      <td>RM</td>\n",
       "      <td>LAZIO</td>\n",
       "      <td>BENI</td>\n",
       "      <td>CANCELLERIA, CARTA, CONSUMABILI DA STAMPA E PR...</td>\n",
       "      <td>BUSTE IN PLASTICA CON E SENZA FORATURA UNIVERSALE</td>\n",
       "      <td>30199230-1</td>\n",
       "      <td>BUSTE</td>\n",
       "      <td>RdO</td>\n",
       "      <td>2</td>\n",
       "      <td>2</td>\n",
       "      <td>2</td>\n",
       "      <td>2</td>\n",
       "    </tr>\n",
       "    <tr>\n",
       "      <th>3</th>\n",
       "      <td>2019</td>\n",
       "      <td>ENTI PUBBLICI NON ECONOMICI DELLO STATO ED AUT...</td>\n",
       "      <td>LAZIO</td>\n",
       "      <td>ROMA</td>\n",
       "      <td>RM</td>\n",
       "      <td>LAZIO</td>\n",
       "      <td>BENI</td>\n",
       "      <td>CANCELLERIA, CARTA, CONSUMABILI DA STAMPA E PR...</td>\n",
       "      <td>ETICHETTE</td>\n",
       "      <td>30192800-9</td>\n",
       "      <td>ETICHETTE AUTOADESIVE</td>\n",
       "      <td>RdO</td>\n",
       "      <td>1</td>\n",
       "      <td>1</td>\n",
       "      <td>1</td>\n",
       "      <td>1</td>\n",
       "    </tr>\n",
       "    <tr>\n",
       "      <th>4</th>\n",
       "      <td>2019</td>\n",
       "      <td>ENTI PUBBLICI NON ECONOMICI DELLO STATO ED AUT...</td>\n",
       "      <td>LAZIO</td>\n",
       "      <td>ROMA</td>\n",
       "      <td>RM</td>\n",
       "      <td>LAZIO</td>\n",
       "      <td>BENI</td>\n",
       "      <td>CANCELLERIA, CARTA, CONSUMABILI DA STAMPA E PR...</td>\n",
       "      <td>PENNA MONOUSO</td>\n",
       "      <td>30192000-1</td>\n",
       "      <td>MATERIALE PER UFFICIO</td>\n",
       "      <td>RdO</td>\n",
       "      <td>1</td>\n",
       "      <td>1</td>\n",
       "      <td>1</td>\n",
       "      <td>1</td>\n",
       "    </tr>\n",
       "  </tbody>\n",
       "</table>\n",
       "</div>"
      ],
      "text/plain": [
       "   #Anno_Riferimento                          Tipologia_Amministrazione  \\\n",
       "0               2019  ENTI PUBBLICI NON ECONOMICI DELLO STATO ED AUT...   \n",
       "1               2019  ENTI PUBBLICI NON ECONOMICI DELLO STATO ED AUT...   \n",
       "2               2019  ENTI PUBBLICI NON ECONOMICI DELLO STATO ED AUT...   \n",
       "3               2019  ENTI PUBBLICI NON ECONOMICI DELLO STATO ED AUT...   \n",
       "4               2019  ENTI PUBBLICI NON ECONOMICI DELLO STATO ED AUT...   \n",
       "\n",
       "  Regione_PA Provincia_PA Sigla_provincia_PA Regione_Fornitore Bando_Mepa  \\\n",
       "0      LAZIO         ROMA                 RM             LAZIO       BENI   \n",
       "1      LAZIO         ROMA                 RM             LAZIO       BENI   \n",
       "2      LAZIO         ROMA                 RM             LAZIO       BENI   \n",
       "3      LAZIO         ROMA                 RM             LAZIO       BENI   \n",
       "4      LAZIO         ROMA                 RM             LAZIO       BENI   \n",
       "\n",
       "                              Categoria_abilitazione  \\\n",
       "0  CANCELLERIA, CARTA, CONSUMABILI DA STAMPA E PR...   \n",
       "1  CANCELLERIA, CARTA, CONSUMABILI DA STAMPA E PR...   \n",
       "2  CANCELLERIA, CARTA, CONSUMABILI DA STAMPA E PR...   \n",
       "3  CANCELLERIA, CARTA, CONSUMABILI DA STAMPA E PR...   \n",
       "4  CANCELLERIA, CARTA, CONSUMABILI DA STAMPA E PR...   \n",
       "\n",
       "                                       Bene_Servizio  Codice_CPV  \\\n",
       "0                                            BLOCCHI  22816100-4   \n",
       "1                                 QUADERNI E RICAMBI  22830000-7   \n",
       "2  BUSTE IN PLASTICA CON E SENZA FORATURA UNIVERSALE  30199230-1   \n",
       "3                                          ETICHETTE  30192800-9   \n",
       "4                                      PENNA MONOUSO  30192000-1   \n",
       "\n",
       "         Descrizione_CPV Tipo_Negoziazione  N_Contratti_Stipulati  \\\n",
       "0   TACCUINI PER APPUNTI               RdO                      1   \n",
       "1    QUADERNI SCOLASTICI               RdO                      1   \n",
       "2                  BUSTE               RdO                      2   \n",
       "3  ETICHETTE AUTOADESIVE               RdO                      1   \n",
       "4  MATERIALE PER UFFICIO               RdO                      1   \n",
       "\n",
       "   N_Fornitori_con_contratti_stipulati  N_PA_Appaltanti  N_PO  \n",
       "0                                    1                1     1  \n",
       "1                                    1                1     1  \n",
       "2                                    2                2     2  \n",
       "3                                    1                1     1  \n",
       "4                                    1                1     1  "
      ]
     },
     "execution_count": 1,
     "metadata": {},
     "output_type": "execute_result"
    }
   ],
   "source": [
    "acquisti_0 = pd.read_csv(\n",
    "    \"../input/beni-servizi-rdo-td-stipulate-mepa-2019.csv\",\n",
    "    skiprows=0,\n",
    "    encoding=\"ISO-8859-1\",\n",
    ")\n",
    "acquisti_0.head()"
   ]
  },
  {
   "cell_type": "code",
   "execution_count": 2,
   "metadata": {
    "ExecuteTime": {
     "end_time": "2020-05-08T07:48:09.967893Z",
     "start_time": "2020-05-08T07:48:09.964307Z"
    }
   },
   "outputs": [
    {
     "data": {
      "text/plain": [
       "(146641, 16)"
      ]
     },
     "execution_count": 2,
     "metadata": {},
     "output_type": "execute_result"
    }
   ],
   "source": [
    "acquisti_0.shape"
   ]
  },
  {
   "cell_type": "markdown",
   "metadata": {},
   "source": [
    "Quante regioni?"
   ]
  },
  {
   "cell_type": "code",
   "execution_count": 3,
   "metadata": {
    "ExecuteTime": {
     "end_time": "2020-05-08T07:48:09.985303Z",
     "start_time": "2020-05-08T07:48:09.969023Z"
    }
   },
   "outputs": [
    {
     "data": {
      "text/plain": [
       "{'ABRUZZO',\n",
       " 'BASILICATA',\n",
       " 'CALABRIA',\n",
       " 'CAMPANIA',\n",
       " 'EMILIA ROMAGNA',\n",
       " 'FRIULI VENEZIA GIULIA',\n",
       " 'LAZIO',\n",
       " 'LIGURIA',\n",
       " 'LOMBARDIA',\n",
       " 'MARCHE',\n",
       " 'MOLISE',\n",
       " 'PIEMONTE',\n",
       " 'PUGLIA',\n",
       " 'SARDEGNA',\n",
       " 'SICILIA',\n",
       " 'TOSCANA',\n",
       " 'TRENTINO ALTO ADIGE',\n",
       " 'UMBRIA',\n",
       " \"VALLE D'AOSTA\",\n",
       " 'VENETO'}"
      ]
     },
     "execution_count": 3,
     "metadata": {},
     "output_type": "execute_result"
    }
   ],
   "source": [
    "set(acquisti_0.Regione_PA)"
   ]
  },
  {
   "cell_type": "code",
   "execution_count": 4,
   "metadata": {
    "ExecuteTime": {
     "end_time": "2020-05-08T07:48:10.003202Z",
     "start_time": "2020-05-08T07:48:09.986480Z"
    }
   },
   "outputs": [
    {
     "data": {
      "text/plain": [
       "20"
      ]
     },
     "execution_count": 4,
     "metadata": {},
     "output_type": "execute_result"
    }
   ],
   "source": [
    "len(set(acquisti_0.Regione_PA))"
   ]
  },
  {
   "cell_type": "markdown",
   "metadata": {},
   "source": [
    "Province:"
   ]
  },
  {
   "cell_type": "code",
   "execution_count": 5,
   "metadata": {
    "ExecuteTime": {
     "end_time": "2020-05-08T07:48:10.021388Z",
     "start_time": "2020-05-08T07:48:10.004949Z"
    }
   },
   "outputs": [
    {
     "data": {
      "text/plain": [
       "109"
      ]
     },
     "execution_count": 5,
     "metadata": {},
     "output_type": "execute_result"
    }
   ],
   "source": [
    "len(set(acquisti_0.Provincia_PA))"
   ]
  },
  {
   "cell_type": "markdown",
   "metadata": {},
   "source": [
    "## Esplorando Acquisti - Consumi in convenzione \n",
    "\n",
    "> Il dataset contiene informazioni di sintesi dei valori economici dei consumi delle utilities nell’ambito delle convenzioni. Il dataset consente di analizzare la spesa della PA in termini di: valore economico dei consumi generati, numero di ordini sottoscritti relativamente alle utilities nell’ambito delle convenzioni, numero di PA che hanno sottoscritto ordini, numero punti ordinanti relativi alle PA che hanno sottoscritto ordini. Gli ordini presi in considerazione dal dataset non sono tutti gli ordinativi di fornitura sottoscritti in Convenzione, ma solo quelli che hanno generato consumi nell'anno di riferimento. La numerosità completa degli ordinativi di fornitura sottoscritti in Convenzione, a prescindere dai consumi generati nell’anno, è invece esposta sul dataset \"ORDINI DIRETTI DI ACQUISTO IN CONVENZIONE\". I dati sono aggregati rispetto all’anno di riferimento, alla tipologia di amministrazione e alla provincia della PA, alla regione del fornitore, alla convenzione, al lotto della convenzione. Trattandosi di dati aggregati, non tutti gli indicatori sono additivi."
   ]
  },
  {
   "cell_type": "code",
   "execution_count": 6,
   "metadata": {
    "ExecuteTime": {
     "end_time": "2020-05-08T07:48:10.066659Z",
     "start_time": "2020-05-08T07:48:10.022548Z"
    }
   },
   "outputs": [
    {
     "data": {
      "text/html": [
       "<div>\n",
       "<style scoped>\n",
       "    .dataframe tbody tr th:only-of-type {\n",
       "        vertical-align: middle;\n",
       "    }\n",
       "\n",
       "    .dataframe tbody tr th {\n",
       "        vertical-align: top;\n",
       "    }\n",
       "\n",
       "    .dataframe thead th {\n",
       "        text-align: right;\n",
       "    }\n",
       "</style>\n",
       "<table border=\"1\" class=\"dataframe\">\n",
       "  <thead>\n",
       "    <tr style=\"text-align: right;\">\n",
       "      <th></th>\n",
       "      <th>#Anno_Riferimento</th>\n",
       "      <th>Tipologia_Amministrazione</th>\n",
       "      <th>Regione_PA</th>\n",
       "      <th>Provincia_PA</th>\n",
       "      <th>Sigla_provincia_PA</th>\n",
       "      <th>Regione_Fornitore</th>\n",
       "      <th>Convenzione</th>\n",
       "      <th>Lotto</th>\n",
       "      <th>Valore_economico_consumi</th>\n",
       "      <th>Numero_Ordini_con_consumi</th>\n",
       "      <th>N_PA_con_consumi</th>\n",
       "      <th>N_PO_con_consumi</th>\n",
       "    </tr>\n",
       "  </thead>\n",
       "  <tbody>\n",
       "    <tr>\n",
       "      <th>0</th>\n",
       "      <td>2019</td>\n",
       "      <td>ORGANI COSTITUZIONALI E ORGANI DELLO STATO</td>\n",
       "      <td>TOSCANA</td>\n",
       "      <td>FIRENZE</td>\n",
       "      <td>FI</td>\n",
       "      <td>LOMBARDIA</td>\n",
       "      <td>TELEFONIA MOBILE 7</td>\n",
       "      <td>SERVIZI DI TELEFONIA MOBILE PER LE PUBBLICHE A...</td>\n",
       "      <td>89,95</td>\n",
       "      <td>1</td>\n",
       "      <td>1</td>\n",
       "      <td>1</td>\n",
       "    </tr>\n",
       "    <tr>\n",
       "      <th>1</th>\n",
       "      <td>2019</td>\n",
       "      <td>ORGANI COSTITUZIONALI E ORGANI DELLO STATO</td>\n",
       "      <td>EMILIA ROMAGNA</td>\n",
       "      <td>PARMA</td>\n",
       "      <td>PR</td>\n",
       "      <td>LOMBARDIA</td>\n",
       "      <td>TELEFONIA FISSA 5</td>\n",
       "      <td>LOTTO UNICO</td>\n",
       "      <td>42,87</td>\n",
       "      <td>1</td>\n",
       "      <td>1</td>\n",
       "      <td>1</td>\n",
       "    </tr>\n",
       "    <tr>\n",
       "      <th>2</th>\n",
       "      <td>2019</td>\n",
       "      <td>ORGANI COSTITUZIONALI E ORGANI DELLO STATO</td>\n",
       "      <td>ABRUZZO</td>\n",
       "      <td>L'AQUILA</td>\n",
       "      <td>AQ</td>\n",
       "      <td>EMILIA ROMAGNA</td>\n",
       "      <td>ENERGIA ELETTRICA 16</td>\n",
       "      <td>ABRUZZO, MOLISE</td>\n",
       "      <td>19188,47</td>\n",
       "      <td>2</td>\n",
       "      <td>2</td>\n",
       "      <td>2</td>\n",
       "    </tr>\n",
       "    <tr>\n",
       "      <th>3</th>\n",
       "      <td>2019</td>\n",
       "      <td>AZIENDE ED ENTI DI SERVIZI SOCIO ASSISTENZIALI</td>\n",
       "      <td>LIGURIA</td>\n",
       "      <td>IMPERIA</td>\n",
       "      <td>IM</td>\n",
       "      <td>LAZIO</td>\n",
       "      <td>CARBURANTI EXTRARETE 10 E GASOLIO DA RISCALDAM...</td>\n",
       "      <td>GASOLIO DA RISCALDAMENTO; GASOLIO DA RISCALDAM...</td>\n",
       "      <td>8195,53</td>\n",
       "      <td>2</td>\n",
       "      <td>1</td>\n",
       "      <td>1</td>\n",
       "    </tr>\n",
       "    <tr>\n",
       "      <th>4</th>\n",
       "      <td>2019</td>\n",
       "      <td>AZIENDE ED ENTI DI SERVIZI SOCIO ASSISTENZIALI</td>\n",
       "      <td>LOMBARDIA</td>\n",
       "      <td>VARESE</td>\n",
       "      <td>VA</td>\n",
       "      <td>LIGURIA</td>\n",
       "      <td>ENERGIA ELETTRICA 15</td>\n",
       "      <td>LOMBARDIA ESCLUSE LA PROVINCIA DI MILANO E LA ...</td>\n",
       "      <td>70744,3</td>\n",
       "      <td>1</td>\n",
       "      <td>1</td>\n",
       "      <td>1</td>\n",
       "    </tr>\n",
       "  </tbody>\n",
       "</table>\n",
       "</div>"
      ],
      "text/plain": [
       "   #Anno_Riferimento                       Tipologia_Amministrazione  \\\n",
       "0               2019      ORGANI COSTITUZIONALI E ORGANI DELLO STATO   \n",
       "1               2019      ORGANI COSTITUZIONALI E ORGANI DELLO STATO   \n",
       "2               2019      ORGANI COSTITUZIONALI E ORGANI DELLO STATO   \n",
       "3               2019  AZIENDE ED ENTI DI SERVIZI SOCIO ASSISTENZIALI   \n",
       "4               2019  AZIENDE ED ENTI DI SERVIZI SOCIO ASSISTENZIALI   \n",
       "\n",
       "       Regione_PA Provincia_PA Sigla_provincia_PA Regione_Fornitore  \\\n",
       "0         TOSCANA      FIRENZE                 FI         LOMBARDIA   \n",
       "1  EMILIA ROMAGNA        PARMA                 PR         LOMBARDIA   \n",
       "2         ABRUZZO     L'AQUILA                 AQ    EMILIA ROMAGNA   \n",
       "3         LIGURIA      IMPERIA                 IM             LAZIO   \n",
       "4       LOMBARDIA       VARESE                 VA           LIGURIA   \n",
       "\n",
       "                                         Convenzione  \\\n",
       "0                                 TELEFONIA MOBILE 7   \n",
       "1                                  TELEFONIA FISSA 5   \n",
       "2                               ENERGIA ELETTRICA 16   \n",
       "3  CARBURANTI EXTRARETE 10 E GASOLIO DA RISCALDAM...   \n",
       "4                               ENERGIA ELETTRICA 15   \n",
       "\n",
       "                                               Lotto Valore_economico_consumi  \\\n",
       "0  SERVIZI DI TELEFONIA MOBILE PER LE PUBBLICHE A...                    89,95   \n",
       "1                                        LOTTO UNICO                    42,87   \n",
       "2                                    ABRUZZO, MOLISE                 19188,47   \n",
       "3  GASOLIO DA RISCALDAMENTO; GASOLIO DA RISCALDAM...                  8195,53   \n",
       "4  LOMBARDIA ESCLUSE LA PROVINCIA DI MILANO E LA ...                  70744,3   \n",
       "\n",
       "   Numero_Ordini_con_consumi  N_PA_con_consumi  N_PO_con_consumi  \n",
       "0                          1                 1                 1  \n",
       "1                          1                 1                 1  \n",
       "2                          2                 2                 2  \n",
       "3                          2                 1                 1  \n",
       "4                          1                 1                 1  "
      ]
     },
     "execution_count": 6,
     "metadata": {},
     "output_type": "execute_result"
    }
   ],
   "source": [
    "acquisti_1 = pd.read_csv(\n",
    "    \"../input/consumi-in-convenzione-2019.csv\",\n",
    "    skiprows=0,\n",
    "    encoding=\"ISO-8859-1\",\n",
    ")\n",
    "acquisti_1.head()"
   ]
  },
  {
   "cell_type": "code",
   "execution_count": 7,
   "metadata": {
    "ExecuteTime": {
     "end_time": "2020-05-08T07:48:10.071401Z",
     "start_time": "2020-05-08T07:48:10.068701Z"
    }
   },
   "outputs": [
    {
     "data": {
      "text/plain": [
       "(7129, 12)"
      ]
     },
     "execution_count": 7,
     "metadata": {},
     "output_type": "execute_result"
    }
   ],
   "source": [
    "acquisti_1.shape"
   ]
  },
  {
   "cell_type": "markdown",
   "metadata": {},
   "source": [
    "``Valore_economico_consumi`` potrebbe essere una variable interessante da stimare. Forse da investigare per la presenza di dati anomali.\n",
    "\n",
    "## Esplorando Acquisti - Convenzione\n",
    "\n",
    "> Il dataset contiene informazioni di sintesi dei beni e servizi acquistati dalle PA attraverso ordinativi di fornitura sottoscritti in Convenzione. Il dataset consente di eseguire l’analisi della spesa della PA in termini di: valore economico dei beni e servizi ordinati, numero di ordini sottoscritti, numero di PA e numero fornitori che hanno sottoscritto ordini, numero punti ordinanti relativi alle PA che hanno sottoscritto ordini. I dati sono aggregati rispetto all’anno di riferimento, alla convenzione, al lotto della convenzione, alla tipologia di amministrazione e alla provincia della PA, alla regione del fornitore, al bene/servizio acquistato, alla classificazione CPV del bene e servizio acquistato. Trattandosi di dati aggregati, non tutti gli indicatori sono additivi."
   ]
  },
  {
   "cell_type": "code",
   "execution_count": 8,
   "metadata": {
    "ExecuteTime": {
     "end_time": "2020-05-08T07:48:10.169851Z",
     "start_time": "2020-05-08T07:48:10.073000Z"
    }
   },
   "outputs": [
    {
     "data": {
      "text/html": [
       "<div>\n",
       "<style scoped>\n",
       "    .dataframe tbody tr th:only-of-type {\n",
       "        vertical-align: middle;\n",
       "    }\n",
       "\n",
       "    .dataframe tbody tr th {\n",
       "        vertical-align: top;\n",
       "    }\n",
       "\n",
       "    .dataframe thead th {\n",
       "        text-align: right;\n",
       "    }\n",
       "</style>\n",
       "<table border=\"1\" class=\"dataframe\">\n",
       "  <thead>\n",
       "    <tr style=\"text-align: right;\">\n",
       "      <th></th>\n",
       "      <th>#Anno_Riferimento</th>\n",
       "      <th>Tipologia_Amministrazione</th>\n",
       "      <th>Regione_PA</th>\n",
       "      <th>Provincia_PA</th>\n",
       "      <th>Sigla_provincia_PA</th>\n",
       "      <th>Regione_Fornitore</th>\n",
       "      <th>Convenzione</th>\n",
       "      <th>Lotto</th>\n",
       "      <th>bene_servizio</th>\n",
       "      <th>codice_CPV</th>\n",
       "      <th>descrizione_CPV</th>\n",
       "      <th>Numero_Ordini</th>\n",
       "      <th>Importo_Ordinato</th>\n",
       "      <th>N_PA</th>\n",
       "      <th>N_fornitori</th>\n",
       "      <th>N_PO</th>\n",
       "    </tr>\n",
       "  </thead>\n",
       "  <tbody>\n",
       "    <tr>\n",
       "      <th>0</th>\n",
       "      <td>2019</td>\n",
       "      <td>CAMERE DI COMMERCIO</td>\n",
       "      <td>EMILIA ROMAGNA</td>\n",
       "      <td>MODENA</td>\n",
       "      <td>MO</td>\n",
       "      <td>LAZIO</td>\n",
       "      <td>PC DESKTOP 16</td>\n",
       "      <td>PERSONAL COMPUTER DESKTOP DI FASCIA BASE</td>\n",
       "      <td>PERSONAL COMPUTER (ACQUISTO)</td>\n",
       "      <td>30213000-5</td>\n",
       "      <td>COMPUTER PERSONALI</td>\n",
       "      <td>1</td>\n",
       "      <td>3300</td>\n",
       "      <td>1</td>\n",
       "      <td>1</td>\n",
       "      <td>1</td>\n",
       "    </tr>\n",
       "    <tr>\n",
       "      <th>1</th>\n",
       "      <td>2019</td>\n",
       "      <td>CAMERE DI COMMERCIO</td>\n",
       "      <td>EMILIA ROMAGNA</td>\n",
       "      <td>MODENA</td>\n",
       "      <td>MO</td>\n",
       "      <td>LAZIO</td>\n",
       "      <td>PC DESKTOP 16</td>\n",
       "      <td>PERSONAL COMPUTER DESKTOP DI FASCIA BASE</td>\n",
       "      <td>DISPOSITIVI DI ESPANSIONE MEMORIA</td>\n",
       "      <td>30236100-3</td>\n",
       "      <td>DISPOSITIVI DI ESPANSIONE MEMORIA</td>\n",
       "      <td>1</td>\n",
       "      <td>280</td>\n",
       "      <td>1</td>\n",
       "      <td>1</td>\n",
       "      <td>1</td>\n",
       "    </tr>\n",
       "    <tr>\n",
       "      <th>2</th>\n",
       "      <td>2019</td>\n",
       "      <td>CAMERE DI COMMERCIO</td>\n",
       "      <td>EMILIA ROMAGNA</td>\n",
       "      <td>BOLOGNA</td>\n",
       "      <td>BO</td>\n",
       "      <td>LAZIO</td>\n",
       "      <td>PC PORTATILI E TABLET 2</td>\n",
       "      <td>PERSONAL COMPUTER PORTATILE PER ALTA E ALTISSI...</td>\n",
       "      <td>LETTORI CD E O DVD</td>\n",
       "      <td>30233153-8</td>\n",
       "      <td>LETTORI E/O MASTERIZZATORI DI CD E DI DVD</td>\n",
       "      <td>1</td>\n",
       "      <td>33,92</td>\n",
       "      <td>1</td>\n",
       "      <td>1</td>\n",
       "      <td>1</td>\n",
       "    </tr>\n",
       "    <tr>\n",
       "      <th>3</th>\n",
       "      <td>2019</td>\n",
       "      <td>CAMERE DI COMMERCIO</td>\n",
       "      <td>EMILIA ROMAGNA</td>\n",
       "      <td>BOLOGNA</td>\n",
       "      <td>BO</td>\n",
       "      <td>LAZIO</td>\n",
       "      <td>PC PORTATILI E TABLET 2</td>\n",
       "      <td>PERSONAL COMPUTER PORTATILE PER ALTA E ALTISSI...</td>\n",
       "      <td>NOTEBOOK ELETTRONICI</td>\n",
       "      <td>30213100-6</td>\n",
       "      <td>COMPUTER PORTATILI</td>\n",
       "      <td>1</td>\n",
       "      <td>3042,2</td>\n",
       "      <td>1</td>\n",
       "      <td>1</td>\n",
       "      <td>1</td>\n",
       "    </tr>\n",
       "    <tr>\n",
       "      <th>4</th>\n",
       "      <td>2019</td>\n",
       "      <td>CAMERE DI COMMERCIO</td>\n",
       "      <td>EMILIA ROMAGNA</td>\n",
       "      <td>BOLOGNA</td>\n",
       "      <td>BO</td>\n",
       "      <td>LAZIO</td>\n",
       "      <td>PC PORTATILI E TABLET 2</td>\n",
       "      <td>PERSONAL COMPUTER PORTATILE PER ALTA E ALTISSI...</td>\n",
       "      <td>DISPOSITIVI DI ESPANSIONE MEMORIA</td>\n",
       "      <td>30236100-3</td>\n",
       "      <td>DISPOSITIVI DI ESPANSIONE MEMORIA</td>\n",
       "      <td>1</td>\n",
       "      <td>677,2</td>\n",
       "      <td>1</td>\n",
       "      <td>1</td>\n",
       "      <td>1</td>\n",
       "    </tr>\n",
       "  </tbody>\n",
       "</table>\n",
       "</div>"
      ],
      "text/plain": [
       "   #Anno_Riferimento Tipologia_Amministrazione      Regione_PA Provincia_PA  \\\n",
       "0               2019       CAMERE DI COMMERCIO  EMILIA ROMAGNA       MODENA   \n",
       "1               2019       CAMERE DI COMMERCIO  EMILIA ROMAGNA       MODENA   \n",
       "2               2019       CAMERE DI COMMERCIO  EMILIA ROMAGNA      BOLOGNA   \n",
       "3               2019       CAMERE DI COMMERCIO  EMILIA ROMAGNA      BOLOGNA   \n",
       "4               2019       CAMERE DI COMMERCIO  EMILIA ROMAGNA      BOLOGNA   \n",
       "\n",
       "  Sigla_provincia_PA Regione_Fornitore              Convenzione  \\\n",
       "0                 MO             LAZIO            PC DESKTOP 16   \n",
       "1                 MO             LAZIO            PC DESKTOP 16   \n",
       "2                 BO             LAZIO  PC PORTATILI E TABLET 2   \n",
       "3                 BO             LAZIO  PC PORTATILI E TABLET 2   \n",
       "4                 BO             LAZIO  PC PORTATILI E TABLET 2   \n",
       "\n",
       "                                               Lotto  \\\n",
       "0           PERSONAL COMPUTER DESKTOP DI FASCIA BASE   \n",
       "1           PERSONAL COMPUTER DESKTOP DI FASCIA BASE   \n",
       "2  PERSONAL COMPUTER PORTATILE PER ALTA E ALTISSI...   \n",
       "3  PERSONAL COMPUTER PORTATILE PER ALTA E ALTISSI...   \n",
       "4  PERSONAL COMPUTER PORTATILE PER ALTA E ALTISSI...   \n",
       "\n",
       "                       bene_servizio  codice_CPV  \\\n",
       "0       PERSONAL COMPUTER (ACQUISTO)  30213000-5   \n",
       "1  DISPOSITIVI DI ESPANSIONE MEMORIA  30236100-3   \n",
       "2                 LETTORI CD E O DVD  30233153-8   \n",
       "3               NOTEBOOK ELETTRONICI  30213100-6   \n",
       "4  DISPOSITIVI DI ESPANSIONE MEMORIA  30236100-3   \n",
       "\n",
       "                             descrizione_CPV  Numero_Ordini Importo_Ordinato  \\\n",
       "0                         COMPUTER PERSONALI              1             3300   \n",
       "1          DISPOSITIVI DI ESPANSIONE MEMORIA              1              280   \n",
       "2  LETTORI E/O MASTERIZZATORI DI CD E DI DVD              1            33,92   \n",
       "3                         COMPUTER PORTATILI              1           3042,2   \n",
       "4          DISPOSITIVI DI ESPANSIONE MEMORIA              1            677,2   \n",
       "\n",
       "   N_PA  N_fornitori  N_PO  \n",
       "0     1            1     1  \n",
       "1     1            1     1  \n",
       "2     1            1     1  \n",
       "3     1            1     1  \n",
       "4     1            1     1  "
      ]
     },
     "execution_count": 8,
     "metadata": {},
     "output_type": "execute_result"
    }
   ],
   "source": [
    "acquisti_2 = pd.read_csv(\n",
    "    \"../input/ordini-convenzione-2019.csv\",\n",
    "    skiprows=0,\n",
    "    encoding=\"ISO-8859-1\",\n",
    ")\n",
    "acquisti_2.head()"
   ]
  },
  {
   "cell_type": "code",
   "execution_count": 9,
   "metadata": {
    "ExecuteTime": {
     "end_time": "2020-05-08T07:48:10.174100Z",
     "start_time": "2020-05-08T07:48:10.171293Z"
    }
   },
   "outputs": [
    {
     "data": {
      "text/plain": [
       "(26985, 16)"
      ]
     },
     "execution_count": 9,
     "metadata": {},
     "output_type": "execute_result"
    }
   ],
   "source": [
    "acquisti_2.shape"
   ]
  },
  {
   "cell_type": "markdown",
   "metadata": {},
   "source": [
    "## Esplorando Acquisti - Ordini diretti di acquisto\n",
    "\n",
    "> Il dataset contiene informazioni di sintesi dei beni e servizi acquistati dalle PA attraverso ordinativi di fornitura sottoscritti nell’ambito di Accordi Quadro. Il dataset consente di analizzare la spesa della PA in termini di: valore economico dei beni e servizi ordinati, numero ordini, numero PA che hanno sottoscritto ordini, numero punti ordinanti relativi alle PA che hanno sottoscritto ordini, numero fornitori che hanno sottoscritto ordini. I dati sono aggregati rispetto all’anno di riferimento, alla tipologia di amministrazione della PA, alla provincia della PA, alla regione del fornitore, all’Accordo Quadro e al relativo lotto, al bene/servizio acquistato e alla classificazione CPV del bene/servizio acquistato. Trattandosi di dati aggregati, non tutti gli indicatori sono additivi."
   ]
  },
  {
   "cell_type": "code",
   "execution_count": 10,
   "metadata": {
    "ExecuteTime": {
     "end_time": "2020-05-08T07:48:10.215124Z",
     "start_time": "2020-05-08T07:48:10.175935Z"
    }
   },
   "outputs": [
    {
     "data": {
      "text/html": [
       "<div>\n",
       "<style scoped>\n",
       "    .dataframe tbody tr th:only-of-type {\n",
       "        vertical-align: middle;\n",
       "    }\n",
       "\n",
       "    .dataframe tbody tr th {\n",
       "        vertical-align: top;\n",
       "    }\n",
       "\n",
       "    .dataframe thead th {\n",
       "        text-align: right;\n",
       "    }\n",
       "</style>\n",
       "<table border=\"1\" class=\"dataframe\">\n",
       "  <thead>\n",
       "    <tr style=\"text-align: right;\">\n",
       "      <th></th>\n",
       "      <th>#Anno_Riferimento</th>\n",
       "      <th>Tipologia_Amministrazione</th>\n",
       "      <th>Regione_PA</th>\n",
       "      <th>Provincia_PA</th>\n",
       "      <th>Sigla_provincia_PA</th>\n",
       "      <th>Regione_Fornitore</th>\n",
       "      <th>Accordo_Quadro</th>\n",
       "      <th>Lotto</th>\n",
       "      <th>Bene_Servizio</th>\n",
       "      <th>Codice_CPV</th>\n",
       "      <th>Descrizione_CPV</th>\n",
       "      <th>Valore_economico_ordini</th>\n",
       "      <th>N_Ordini</th>\n",
       "      <th>N_PA</th>\n",
       "      <th>N_PO</th>\n",
       "    </tr>\n",
       "  </thead>\n",
       "  <tbody>\n",
       "    <tr>\n",
       "      <th>0</th>\n",
       "      <td>2019</td>\n",
       "      <td>AZIENDE SANITARIE LOCALI E PROVINCIALI</td>\n",
       "      <td>PIEMONTE</td>\n",
       "      <td>NOVARA</td>\n",
       "      <td>NO</td>\n",
       "      <td>LAZIO</td>\n",
       "      <td>AQ SUTURE CHIRURGICHE 1</td>\n",
       "      <td>SUTURA SINTETICA ASSORBIBILE MONOFILAMENTO CON...</td>\n",
       "      <td>SUTURE CHIRURGICHE</td>\n",
       "      <td>33141121-4</td>\n",
       "      <td>SUTURE CHIRURGICHE</td>\n",
       "      <td>564,06</td>\n",
       "      <td>1</td>\n",
       "      <td>1</td>\n",
       "      <td>1</td>\n",
       "    </tr>\n",
       "    <tr>\n",
       "      <th>1</th>\n",
       "      <td>2019</td>\n",
       "      <td>AZIENDE SANITARIE LOCALI E PROVINCIALI</td>\n",
       "      <td>PIEMONTE</td>\n",
       "      <td>NOVARA</td>\n",
       "      <td>NO</td>\n",
       "      <td>LAZIO</td>\n",
       "      <td>AQ CARBURANTI RETE - FUEL CARD 1</td>\n",
       "      <td>LOTTO UNICO</td>\n",
       "      <td>CARBURANTI</td>\n",
       "      <td>09130000-9</td>\n",
       "      <td>PETROLIO E DISTILLATI</td>\n",
       "      <td>NaN</td>\n",
       "      <td>1</td>\n",
       "      <td>1</td>\n",
       "      <td>1</td>\n",
       "    </tr>\n",
       "    <tr>\n",
       "      <th>2</th>\n",
       "      <td>2019</td>\n",
       "      <td>AZIENDE SANITARIE LOCALI E PROVINCIALI</td>\n",
       "      <td>PIEMONTE</td>\n",
       "      <td>TORINO</td>\n",
       "      <td>TO</td>\n",
       "      <td>LAZIO</td>\n",
       "      <td>AQ CARBURANTI RETE - FUEL CARD 1</td>\n",
       "      <td>LOTTO UNICO</td>\n",
       "      <td>CARBURANTI</td>\n",
       "      <td>09130000-9</td>\n",
       "      <td>PETROLIO E DISTILLATI</td>\n",
       "      <td>NaN</td>\n",
       "      <td>4</td>\n",
       "      <td>4</td>\n",
       "      <td>4</td>\n",
       "    </tr>\n",
       "    <tr>\n",
       "      <th>3</th>\n",
       "      <td>2019</td>\n",
       "      <td>AZIENDE SANITARIE LOCALI E PROVINCIALI</td>\n",
       "      <td>PIEMONTE</td>\n",
       "      <td>VERCELLI</td>\n",
       "      <td>VC</td>\n",
       "      <td>LAZIO</td>\n",
       "      <td>AQ SUTURE CHIRURGICHE 1</td>\n",
       "      <td>SUTURA SINTETICA ASSORBIBILE PLURIFILAMENTO A ...</td>\n",
       "      <td>SUTURE CHIRURGICHE</td>\n",
       "      <td>33141121-4</td>\n",
       "      <td>SUTURE CHIRURGICHE</td>\n",
       "      <td>65000</td>\n",
       "      <td>1</td>\n",
       "      <td>1</td>\n",
       "      <td>1</td>\n",
       "    </tr>\n",
       "    <tr>\n",
       "      <th>4</th>\n",
       "      <td>2019</td>\n",
       "      <td>AZIENDE SANITARIE LOCALI E PROVINCIALI</td>\n",
       "      <td>PIEMONTE</td>\n",
       "      <td>VERCELLI</td>\n",
       "      <td>VC</td>\n",
       "      <td>LAZIO</td>\n",
       "      <td>AQ SUTURE CHIRURGICHE 1</td>\n",
       "      <td>SUTURA SINTETICA ASSORBIBILE PLURIFILAMENTO A ...</td>\n",
       "      <td>SUTURE CHIRURGICHE</td>\n",
       "      <td>33141121-4</td>\n",
       "      <td>SUTURE CHIRURGICHE</td>\n",
       "      <td>10000</td>\n",
       "      <td>1</td>\n",
       "      <td>1</td>\n",
       "      <td>1</td>\n",
       "    </tr>\n",
       "  </tbody>\n",
       "</table>\n",
       "</div>"
      ],
      "text/plain": [
       "   #Anno_Riferimento               Tipologia_Amministrazione Regione_PA  \\\n",
       "0               2019  AZIENDE SANITARIE LOCALI E PROVINCIALI   PIEMONTE   \n",
       "1               2019  AZIENDE SANITARIE LOCALI E PROVINCIALI   PIEMONTE   \n",
       "2               2019  AZIENDE SANITARIE LOCALI E PROVINCIALI   PIEMONTE   \n",
       "3               2019  AZIENDE SANITARIE LOCALI E PROVINCIALI   PIEMONTE   \n",
       "4               2019  AZIENDE SANITARIE LOCALI E PROVINCIALI   PIEMONTE   \n",
       "\n",
       "  Provincia_PA Sigla_provincia_PA Regione_Fornitore  \\\n",
       "0       NOVARA                 NO             LAZIO   \n",
       "1       NOVARA                 NO             LAZIO   \n",
       "2       TORINO                 TO             LAZIO   \n",
       "3     VERCELLI                 VC             LAZIO   \n",
       "4     VERCELLI                 VC             LAZIO   \n",
       "\n",
       "                     Accordo_Quadro  \\\n",
       "0           AQ SUTURE CHIRURGICHE 1   \n",
       "1  AQ CARBURANTI RETE - FUEL CARD 1   \n",
       "2  AQ CARBURANTI RETE - FUEL CARD 1   \n",
       "3           AQ SUTURE CHIRURGICHE 1   \n",
       "4           AQ SUTURE CHIRURGICHE 1   \n",
       "\n",
       "                                               Lotto       Bene_Servizio  \\\n",
       "0  SUTURA SINTETICA ASSORBIBILE MONOFILAMENTO CON...  SUTURE CHIRURGICHE   \n",
       "1                                        LOTTO UNICO          CARBURANTI   \n",
       "2                                        LOTTO UNICO          CARBURANTI   \n",
       "3  SUTURA SINTETICA ASSORBIBILE PLURIFILAMENTO A ...  SUTURE CHIRURGICHE   \n",
       "4  SUTURA SINTETICA ASSORBIBILE PLURIFILAMENTO A ...  SUTURE CHIRURGICHE   \n",
       "\n",
       "   Codice_CPV        Descrizione_CPV Valore_economico_ordini  N_Ordini  N_PA  \\\n",
       "0  33141121-4     SUTURE CHIRURGICHE                  564,06         1     1   \n",
       "1  09130000-9  PETROLIO E DISTILLATI                     NaN         1     1   \n",
       "2  09130000-9  PETROLIO E DISTILLATI                     NaN         4     4   \n",
       "3  33141121-4     SUTURE CHIRURGICHE                   65000         1     1   \n",
       "4  33141121-4     SUTURE CHIRURGICHE                   10000         1     1   \n",
       "\n",
       "   N_PO  \n",
       "0     1  \n",
       "1     1  \n",
       "2     4  \n",
       "3     1  \n",
       "4     1  "
      ]
     },
     "execution_count": 10,
     "metadata": {},
     "output_type": "execute_result"
    }
   ],
   "source": [
    "acquisti_3 = pd.read_csv(\n",
    "    \"../input/ordini-aq-2019.csv\",\n",
    "    skiprows=0,\n",
    "    encoding=\"ISO-8859-1\",\n",
    ")\n",
    "acquisti_3.head()"
   ]
  },
  {
   "cell_type": "code",
   "execution_count": 11,
   "metadata": {
    "ExecuteTime": {
     "end_time": "2020-05-08T07:48:10.219626Z",
     "start_time": "2020-05-08T07:48:10.216656Z"
    }
   },
   "outputs": [
    {
     "data": {
      "text/plain": [
       "(1639, 15)"
      ]
     },
     "execution_count": 11,
     "metadata": {},
     "output_type": "execute_result"
    }
   ],
   "source": [
    "acquisti_3.shape"
   ]
  },
  {
   "cell_type": "markdown",
   "metadata": {},
   "source": [
    "## Esplorando Acquisti - Ordini diretti mepa\n",
    "\n",
    "> Il dataset contiene informazioni di sintesi dei beni e servizi acquistati dalle PA attraverso ordinativi di fornitura sottoscritti nell’ambito di un Bando Mepa. Il dataset consente di analizzare la spesa della PA in termini di: valore economico dei beni e servizi ordinati, numero ordini, numero PA che hanno sottoscritto ordini, numero punti ordinanti relativi alle PA che hanno sottoscritto ordini, numero fornitori che hanno sottoscritto ordini. I dati sono aggregati rispetto all’anno di riferimento, al bando Mepa e alla categoria di abilitazione relativa, alla tipologia di amministrazione della PA, alla provincia della PA, alla regione del fornitore, al bene/servizio acquistato, alla classificazione CPV del bene/servizio acquistato. Trattandosi di dati aggregati, non tutti gli indicatori sono additivi."
   ]
  },
  {
   "cell_type": "code",
   "execution_count": 42,
   "metadata": {
    "ExecuteTime": {
     "end_time": "2020-05-08T09:42:53.426588Z",
     "start_time": "2020-05-08T09:42:53.036957Z"
    }
   },
   "outputs": [
    {
     "data": {
      "text/html": [
       "<div>\n",
       "<style scoped>\n",
       "    .dataframe tbody tr th:only-of-type {\n",
       "        vertical-align: middle;\n",
       "    }\n",
       "\n",
       "    .dataframe tbody tr th {\n",
       "        vertical-align: top;\n",
       "    }\n",
       "\n",
       "    .dataframe thead th {\n",
       "        text-align: right;\n",
       "    }\n",
       "</style>\n",
       "<table border=\"1\" class=\"dataframe\">\n",
       "  <thead>\n",
       "    <tr style=\"text-align: right;\">\n",
       "      <th></th>\n",
       "      <th>#Anno_Riferimento</th>\n",
       "      <th>Tipologia_Amministrazione</th>\n",
       "      <th>Regione_PA</th>\n",
       "      <th>Provincia_PA</th>\n",
       "      <th>Sigla_provincia_PA</th>\n",
       "      <th>Regione_Fornitore</th>\n",
       "      <th>Bando_Mepa</th>\n",
       "      <th>Categoria_Abilitazione</th>\n",
       "      <th>bene_servizio</th>\n",
       "      <th>codice_CPV</th>\n",
       "      <th>descrizione_CPV</th>\n",
       "      <th>N_Ordini</th>\n",
       "      <th>Valore_economico_Ordini</th>\n",
       "      <th>N_PA</th>\n",
       "      <th>N_fornitori</th>\n",
       "      <th>N_PO</th>\n",
       "    </tr>\n",
       "  </thead>\n",
       "  <tbody>\n",
       "    <tr>\n",
       "      <th>0</th>\n",
       "      <td>2019</td>\n",
       "      <td>AZIENDE OSPEDALIERE, POLICLINICI, IRCCS e ISTI...</td>\n",
       "      <td>CAMPANIA</td>\n",
       "      <td>NAPOLI</td>\n",
       "      <td>NaN</td>\n",
       "      <td>LAZIO</td>\n",
       "      <td>BENI</td>\n",
       "      <td>FORNITURE SPECIFICHE PER LA SANITÀ</td>\n",
       "      <td>FIBROSCOPI FLESSIBILI PER ENDOSCOPIA</td>\n",
       "      <td>33168000-5</td>\n",
       "      <td>APPARECCHI PER ENDOSCOPIA E ENDOCHIRURGIA</td>\n",
       "      <td>1</td>\n",
       "      <td>13000.00</td>\n",
       "      <td>1</td>\n",
       "      <td>1</td>\n",
       "      <td>1</td>\n",
       "    </tr>\n",
       "    <tr>\n",
       "      <th>1</th>\n",
       "      <td>2019</td>\n",
       "      <td>AZIENDE OSPEDALIERE, POLICLINICI, IRCCS e ISTI...</td>\n",
       "      <td>CAMPANIA</td>\n",
       "      <td>NAPOLI</td>\n",
       "      <td>NaN</td>\n",
       "      <td>LAZIO</td>\n",
       "      <td>BENI</td>\n",
       "      <td>INFORMATICA, ELETTRONICA, TELECOMUNICAZIONI E ...</td>\n",
       "      <td>SCHEDE MADRI</td>\n",
       "      <td>30237140-2</td>\n",
       "      <td>SCHEDE MADRI</td>\n",
       "      <td>1</td>\n",
       "      <td>32.98</td>\n",
       "      <td>1</td>\n",
       "      <td>1</td>\n",
       "      <td>1</td>\n",
       "    </tr>\n",
       "    <tr>\n",
       "      <th>2</th>\n",
       "      <td>2019</td>\n",
       "      <td>AZIENDE OSPEDALIERE, POLICLINICI, IRCCS e ISTI...</td>\n",
       "      <td>CAMPANIA</td>\n",
       "      <td>NAPOLI</td>\n",
       "      <td>NaN</td>\n",
       "      <td>LAZIO</td>\n",
       "      <td>BENI</td>\n",
       "      <td>ATTREZZATURE E SEGNALETICA STRADALE</td>\n",
       "      <td>SEGNALI STRADALI ORIZZONTALI E VERTICALI E ATT...</td>\n",
       "      <td>34928470-3</td>\n",
       "      <td>SEGNALETICA</td>\n",
       "      <td>1</td>\n",
       "      <td>210.00</td>\n",
       "      <td>1</td>\n",
       "      <td>1</td>\n",
       "      <td>1</td>\n",
       "    </tr>\n",
       "    <tr>\n",
       "      <th>3</th>\n",
       "      <td>2019</td>\n",
       "      <td>AZIENDE OSPEDALIERE, POLICLINICI, IRCCS e ISTI...</td>\n",
       "      <td>CAMPANIA</td>\n",
       "      <td>NAPOLI</td>\n",
       "      <td>NaN</td>\n",
       "      <td>LAZIO</td>\n",
       "      <td>BENI</td>\n",
       "      <td>ATTREZZATURE E SEGNALETICA STRADALE</td>\n",
       "      <td>SEGNALI COMPLEMENTARI</td>\n",
       "      <td>34928470-3</td>\n",
       "      <td>SEGNALETICA</td>\n",
       "      <td>1</td>\n",
       "      <td>250.00</td>\n",
       "      <td>1</td>\n",
       "      <td>1</td>\n",
       "      <td>1</td>\n",
       "    </tr>\n",
       "    <tr>\n",
       "      <th>4</th>\n",
       "      <td>2019</td>\n",
       "      <td>AZIENDE OSPEDALIERE, POLICLINICI, IRCCS e ISTI...</td>\n",
       "      <td>CAMPANIA</td>\n",
       "      <td>NAPOLI</td>\n",
       "      <td>NaN</td>\n",
       "      <td>LAZIO</td>\n",
       "      <td>BENI</td>\n",
       "      <td>ARREDI</td>\n",
       "      <td>ELETTRODOMESTICI PER LA CASA E LA PERSONA</td>\n",
       "      <td>39710000-2</td>\n",
       "      <td>ELETTRODOMESTICI</td>\n",
       "      <td>2</td>\n",
       "      <td>1230.60</td>\n",
       "      <td>2</td>\n",
       "      <td>2</td>\n",
       "      <td>2</td>\n",
       "    </tr>\n",
       "  </tbody>\n",
       "</table>\n",
       "</div>"
      ],
      "text/plain": [
       "   #Anno_Riferimento                          Tipologia_Amministrazione  \\\n",
       "0               2019  AZIENDE OSPEDALIERE, POLICLINICI, IRCCS e ISTI...   \n",
       "1               2019  AZIENDE OSPEDALIERE, POLICLINICI, IRCCS e ISTI...   \n",
       "2               2019  AZIENDE OSPEDALIERE, POLICLINICI, IRCCS e ISTI...   \n",
       "3               2019  AZIENDE OSPEDALIERE, POLICLINICI, IRCCS e ISTI...   \n",
       "4               2019  AZIENDE OSPEDALIERE, POLICLINICI, IRCCS e ISTI...   \n",
       "\n",
       "  Regione_PA Provincia_PA Sigla_provincia_PA Regione_Fornitore Bando_Mepa  \\\n",
       "0   CAMPANIA       NAPOLI                NaN             LAZIO       BENI   \n",
       "1   CAMPANIA       NAPOLI                NaN             LAZIO       BENI   \n",
       "2   CAMPANIA       NAPOLI                NaN             LAZIO       BENI   \n",
       "3   CAMPANIA       NAPOLI                NaN             LAZIO       BENI   \n",
       "4   CAMPANIA       NAPOLI                NaN             LAZIO       BENI   \n",
       "\n",
       "                              Categoria_Abilitazione  \\\n",
       "0                 FORNITURE SPECIFICHE PER LA SANITÀ   \n",
       "1  INFORMATICA, ELETTRONICA, TELECOMUNICAZIONI E ...   \n",
       "2                ATTREZZATURE E SEGNALETICA STRADALE   \n",
       "3                ATTREZZATURE E SEGNALETICA STRADALE   \n",
       "4                                             ARREDI   \n",
       "\n",
       "                                       bene_servizio  codice_CPV  \\\n",
       "0               FIBROSCOPI FLESSIBILI PER ENDOSCOPIA  33168000-5   \n",
       "1                                       SCHEDE MADRI  30237140-2   \n",
       "2  SEGNALI STRADALI ORIZZONTALI E VERTICALI E ATT...  34928470-3   \n",
       "3                              SEGNALI COMPLEMENTARI  34928470-3   \n",
       "4          ELETTRODOMESTICI PER LA CASA E LA PERSONA  39710000-2   \n",
       "\n",
       "                             descrizione_CPV  N_Ordini  \\\n",
       "0  APPARECCHI PER ENDOSCOPIA E ENDOCHIRURGIA         1   \n",
       "1                               SCHEDE MADRI         1   \n",
       "2                                SEGNALETICA         1   \n",
       "3                                SEGNALETICA         1   \n",
       "4                           ELETTRODOMESTICI         2   \n",
       "\n",
       "   Valore_economico_Ordini  N_PA  N_fornitori  N_PO  \n",
       "0                 13000.00     1            1     1  \n",
       "1                    32.98     1            1     1  \n",
       "2                   210.00     1            1     1  \n",
       "3                   250.00     1            1     1  \n",
       "4                  1230.60     2            2     2  "
      ]
     },
     "execution_count": 42,
     "metadata": {},
     "output_type": "execute_result"
    }
   ],
   "source": [
    "acquisti_4 = pd.read_csv(\n",
    "    \"../input/ordini-mepa-2019.csv\", skiprows=0, encoding=\"ISO-8859-1\", decimal=\",\"\n",
    ")\n",
    "acquisti_4.head()"
   ]
  },
  {
   "cell_type": "code",
   "execution_count": 13,
   "metadata": {
    "ExecuteTime": {
     "end_time": "2020-05-08T07:48:10.667649Z",
     "start_time": "2020-05-08T07:48:10.664628Z"
    }
   },
   "outputs": [
    {
     "data": {
      "text/plain": [
       "(201024, 16)"
      ]
     },
     "execution_count": 13,
     "metadata": {},
     "output_type": "execute_result"
    }
   ],
   "source": [
    "acquisti_4.shape"
   ]
  },
  {
   "cell_type": "code",
   "execution_count": 43,
   "metadata": {
    "ExecuteTime": {
     "end_time": "2020-05-08T09:42:59.701335Z",
     "start_time": "2020-05-08T09:42:59.696616Z"
    }
   },
   "outputs": [
    {
     "data": {
      "text/plain": [
       "#Anno_Riferimento              int64\n",
       "Tipologia_Amministrazione     object\n",
       "Regione_PA                    object\n",
       "Provincia_PA                  object\n",
       "Sigla_provincia_PA            object\n",
       "Regione_Fornitore             object\n",
       "Bando_Mepa                    object\n",
       "Categoria_Abilitazione        object\n",
       "bene_servizio                 object\n",
       "codice_CPV                    object\n",
       "descrizione_CPV               object\n",
       "N_Ordini                       int64\n",
       "Valore_economico_Ordini      float64\n",
       "N_PA                           int64\n",
       "N_fornitori                    int64\n",
       "N_PO                           int64\n",
       "dtype: object"
      ]
     },
     "execution_count": 43,
     "metadata": {},
     "output_type": "execute_result"
    }
   ],
   "source": [
    "acquisti_4.dtypes"
   ]
  },
  {
   "cell_type": "markdown",
   "metadata": {},
   "source": [
    "There are 5 missing points:"
   ]
  },
  {
   "cell_type": "code",
   "execution_count": 58,
   "metadata": {
    "ExecuteTime": {
     "end_time": "2020-05-08T09:50:18.420117Z",
     "start_time": "2020-05-08T09:50:18.405933Z"
    }
   },
   "outputs": [
    {
     "name": "stdout",
     "output_type": "stream",
     "text": [
      "5\n"
     ]
    }
   ],
   "source": [
    "print(sum(acquisti_4[\"Valore_economico_Ordini\"].isnull()))"
   ]
  },
  {
   "cell_type": "code",
   "execution_count": 59,
   "metadata": {
    "ExecuteTime": {
     "end_time": "2020-05-08T09:50:32.830052Z",
     "start_time": "2020-05-08T09:50:32.629698Z"
    }
   },
   "outputs": [
    {
     "data": {
      "text/plain": [
       "<matplotlib.axes._subplots.AxesSubplot at 0x7f00f2498fd0>"
      ]
     },
     "execution_count": 59,
     "metadata": {},
     "output_type": "execute_result"
    },
    {
     "data": {
      "image/png": "[encoded data removed]",
      "text/plain": [
       "<Figure size 432x288 with 1 Axes>"
      ]
     },
     "metadata": {
      "needs_background": "light"
     },
     "output_type": "display_data"
    }
   ],
   "source": [
    "sns.boxplot(acquisti_4[\"Valore_economico_Ordini\"])"
   ]
  },
  {
   "cell_type": "code",
   "execution_count": 60,
   "metadata": {
    "ExecuteTime": {
     "end_time": "2020-05-08T09:50:57.382764Z",
     "start_time": "2020-05-08T09:50:57.290730Z"
    }
   },
   "outputs": [
    {
     "data": {
      "text/plain": [
       "<matplotlib.axes._subplots.AxesSubplot at 0x7f0101f34748>"
      ]
     },
     "execution_count": 60,
     "metadata": {},
     "output_type": "execute_result"
    },
    {
     "data": {
      "image/png": "[encoded data removed]",
      "text/plain": [
       "<Figure size 432x288 with 1 Axes>"
      ]
     },
     "metadata": {
      "needs_background": "light"
     },
     "output_type": "display_data"
    }
   ],
   "source": [
    "sns.boxplot(\n",
    "    acquisti_4[\"Valore_economico_Ordini\"][acquisti_4[\"Valore_economico_Ordini\"] < 0.2]\n",
    ")"
   ]
  },
  {
   "cell_type": "code",
   "execution_count": 62,
   "metadata": {
    "ExecuteTime": {
     "end_time": "2020-05-08T09:51:39.510859Z",
     "start_time": "2020-05-08T09:51:39.428494Z"
    }
   },
   "outputs": [
    {
     "data": {
      "text/plain": [
       "<matplotlib.axes._subplots.AxesSubplot at 0x7f00f22449e8>"
      ]
     },
     "execution_count": 62,
     "metadata": {},
     "output_type": "execute_result"
    },
    {
     "data": {
      "image/png": "[encoded data removed]",
      "text/plain": [
       "<Figure size 432x288 with 1 Axes>"
      ]
     },
     "metadata": {
      "needs_background": "light"
     },
     "output_type": "display_data"
    }
   ],
   "source": [
    "sns.boxplot(\n",
    "    acquisti_4[\"Valore_economico_Ordini\"][acquisti_4[\"Valore_economico_Ordini\"] < 1.0]\n",
    ")"
   ]
  },
  {
   "cell_type": "code",
   "execution_count": 72,
   "metadata": {
    "ExecuteTime": {
     "end_time": "2020-05-08T09:57:59.955511Z",
     "start_time": "2020-05-08T09:57:59.864971Z"
    }
   },
   "outputs": [
    {
     "data": {
      "text/plain": [
       "<matplotlib.axes._subplots.AxesSubplot at 0x7f00f1ef8668>"
      ]
     },
     "execution_count": 72,
     "metadata": {},
     "output_type": "execute_result"
    },
    {
     "data": {
      "image/png": "[encoded data removed]",
      "text/plain": [
       "<Figure size 432x288 with 1 Axes>"
      ]
     },
     "metadata": {
      "needs_background": "light"
     },
     "output_type": "display_data"
    }
   ],
   "source": [
    "sns.boxplot(\n",
    "    acquisti_4[\"Valore_economico_Ordini\"][\n",
    "        (acquisti_4[\"Valore_economico_Ordini\"] > 1)\n",
    "        & (acquisti_4[\"Valore_economico_Ordini\"] < 100)\n",
    "    ]\n",
    ")"
   ]
  },
  {
   "cell_type": "code",
   "execution_count": 77,
   "metadata": {
    "ExecuteTime": {
     "end_time": "2020-05-08T10:00:23.953018Z",
     "start_time": "2020-05-08T10:00:23.856901Z"
    }
   },
   "outputs": [
    {
     "data": {
      "text/plain": [
       "<matplotlib.axes._subplots.AxesSubplot at 0x7f00f1d50390>"
      ]
     },
     "execution_count": 77,
     "metadata": {},
     "output_type": "execute_result"
    },
    {
     "data": {
      "image/png": "[encoded data removed]",
      "text/plain": [
       "<Figure size 432x288 with 1 Axes>"
      ]
     },
     "metadata": {
      "needs_background": "light"
     },
     "output_type": "display_data"
    }
   ],
   "source": [
    "sns.boxplot(\n",
    "    acquisti_4[\"Valore_economico_Ordini\"][\n",
    "        (acquisti_4[\"Valore_economico_Ordini\"] >= 100)\n",
    "        & (acquisti_4[\"Valore_economico_Ordini\"] < 2000)\n",
    "    ]\n",
    ")"
   ]
  },
  {
   "cell_type": "code",
   "execution_count": 76,
   "metadata": {
    "ExecuteTime": {
     "end_time": "2020-05-08T10:00:15.408901Z",
     "start_time": "2020-05-08T10:00:15.315354Z"
    }
   },
   "outputs": [
    {
     "data": {
      "text/plain": [
       "<matplotlib.axes._subplots.AxesSubplot at 0x7f00f1d72a58>"
      ]
     },
     "execution_count": 76,
     "metadata": {},
     "output_type": "execute_result"
    },
    {
     "data": {
      "image/png": "[encoded data removed]",
      "text/plain": [
       "<Figure size 432x288 with 1 Axes>"
      ]
     },
     "metadata": {
      "needs_background": "light"
     },
     "output_type": "display_data"
    }
   ],
   "source": [
    "sns.boxplot(acquisti_4[\"Valore_economico_Ordini\"][acquisti_4[\"Valore_economico_Ordini\"] > 400000])"
   ]
  },
  {
   "cell_type": "code",
   "execution_count": 81,
   "metadata": {
    "ExecuteTime": {
     "end_time": "2020-05-08T10:05:20.493581Z",
     "start_time": "2020-05-08T10:05:20.479813Z"
    }
   },
   "outputs": [
    {
     "data": {
      "text/plain": [
       "{'ASSOCIAZIONI E FONDAZIONI',\n",
       " \"AUTORITA' D'AMBITO, DI BACINO E PORTUALI\",\n",
       " 'AZIENDE ED ENTI DI SERVIZI SOCIO ASSISTENZIALI',\n",
       " 'AZIENDE ED ENTI TERRITORIALI DI SERVIZI PUBBLICI',\n",
       " 'AZIENDE OSPEDALIERE, POLICLINICI, IRCCS e ISTITUTI ZOOPROFILATTICI',\n",
       " 'AZIENDE SANITARIE LOCALI E PROVINCIALI',\n",
       " \"AZIENDE, ISTITUTI, SOCIETA', CONSORZI ED ENTI DI SERVIZI SANITARI PUBBLICI\",\n",
       " 'CAMERE DI COMMERCIO',\n",
       " 'COMITATI E ORDINI PROFESSIONALI',\n",
       " 'COMUNI',\n",
       " 'CONSERVATORI E ACCADEMIE',\n",
       " \"CONSORZI, UNIONI DI COMUNI, COMUNITA' MONTANE E ISOLANE\",\n",
       " 'ENTI DI DIRITTO ALLO STUDIO',\n",
       " 'ENTI DI VOLONTARIATO, ASSOCIAZIONI E FONDAZIONI',\n",
       " 'ENTI PUBBLICI NON ECONOMICI DELLO STATO ED AUTHORITY',\n",
       " 'ENTI, ISTITUTI E FONDI PREVIDENZIALI',\n",
       " 'ISTITUTI/ENTI DI RICERCA',\n",
       " 'MINISTERI E AGENZIE FISCALI',\n",
       " 'ORGANI COSTITUZIONALI E ORGANI DELLO STATO',\n",
       " 'PROVINCE',\n",
       " 'REGIONI',\n",
       " \"S.P.A. DELLO STATO E SOCIETA' PARTECIPATE STATALI\",\n",
       " \"UNIVERSITA' E POLITECNICI\"}"
      ]
     },
     "execution_count": 81,
     "metadata": {},
     "output_type": "execute_result"
    }
   ],
   "source": [
    "set(acquisti_4[\"Tipologia_Amministrazione\"])"
   ]
  },
  {
   "cell_type": "code",
   "execution_count": 84,
   "metadata": {
    "ExecuteTime": {
     "end_time": "2020-05-08T10:12:17.144767Z",
     "start_time": "2020-05-08T10:12:16.581926Z"
    }
   },
   "outputs": [
    {
     "data": {
      "text/plain": [
       "<matplotlib.axes._subplots.AxesSubplot at 0x7f00f18b1748>"
      ]
     },
     "execution_count": 84,
     "metadata": {},
     "output_type": "execute_result"
    },
    {
     "data": {
      "image/png": "[encoded data removed]",
      "text/plain": [
       "<Figure size 432x288 with 1 Axes>"
      ]
     },
     "metadata": {
      "needs_background": "light"
     },
     "output_type": "display_data"
    }
   ],
   "source": [
    "sns.boxplot(y=\"Tipologia_Amministrazione\", x=\"Valore_economico_Ordini\", data=acquisti_4)"
   ]
  },
  {
   "cell_type": "markdown",
   "metadata": {},
   "source": [
    "Visivamente, la maggiore variabilità si ha per i comuni, seguito da ministeri ed agenzie fiscali. Per il momento mi concentro sui comuni."
   ]
  },
  {
   "cell_type": "code",
   "execution_count": 87,
   "metadata": {
    "ExecuteTime": {
     "end_time": "2020-05-08T10:27:57.271279Z",
     "start_time": "2020-05-08T10:27:57.241066Z"
    }
   },
   "outputs": [
    {
     "data": {
      "text/plain": [
       "(51638, 15)"
      ]
     },
     "execution_count": 87,
     "metadata": {},
     "output_type": "execute_result"
    }
   ],
   "source": [
    "comuni = acquisti_4.loc[acquisti_4[\"Tipologia_Amministrazione\"] == \"COMUNI\",].drop(\n",
    "    [\"Tipologia_Amministrazione\"], axis=1\n",
    ")\n",
    "comuni.shape"
   ]
  },
  {
   "cell_type": "code",
   "execution_count": 88,
   "metadata": {
    "ExecuteTime": {
     "end_time": "2020-05-08T10:28:08.991487Z",
     "start_time": "2020-05-08T10:28:08.980266Z"
    }
   },
   "outputs": [
    {
     "data": {
      "text/html": [
       "<div>\n",
       "<style scoped>\n",
       "    .dataframe tbody tr th:only-of-type {\n",
       "        vertical-align: middle;\n",
       "    }\n",
       "\n",
       "    .dataframe tbody tr th {\n",
       "        vertical-align: top;\n",
       "    }\n",
       "\n",
       "    .dataframe thead th {\n",
       "        text-align: right;\n",
       "    }\n",
       "</style>\n",
       "<table border=\"1\" class=\"dataframe\">\n",
       "  <thead>\n",
       "    <tr style=\"text-align: right;\">\n",
       "      <th></th>\n",
       "      <th>#Anno_Riferimento</th>\n",
       "      <th>Regione_PA</th>\n",
       "      <th>Provincia_PA</th>\n",
       "      <th>Sigla_provincia_PA</th>\n",
       "      <th>Regione_Fornitore</th>\n",
       "      <th>Bando_Mepa</th>\n",
       "      <th>Categoria_Abilitazione</th>\n",
       "      <th>bene_servizio</th>\n",
       "      <th>codice_CPV</th>\n",
       "      <th>descrizione_CPV</th>\n",
       "      <th>N_Ordini</th>\n",
       "      <th>Valore_economico_Ordini</th>\n",
       "      <th>N_PA</th>\n",
       "      <th>N_fornitori</th>\n",
       "      <th>N_PO</th>\n",
       "    </tr>\n",
       "  </thead>\n",
       "  <tbody>\n",
       "    <tr>\n",
       "      <th>221</th>\n",
       "      <td>2019</td>\n",
       "      <td>LAZIO</td>\n",
       "      <td>VITERBO</td>\n",
       "      <td>VT</td>\n",
       "      <td>LAZIO</td>\n",
       "      <td>SERVIZI</td>\n",
       "      <td>SERVIZI PER L'INFORMATION &amp; COMMUNICATION TECH...</td>\n",
       "      <td>SERVIZI DI GESTIONE ELETTRONICA DEI DOCUMENTI</td>\n",
       "      <td>72512000-7</td>\n",
       "      <td>SERVIZI DI GESTIONE DOCUMENTI</td>\n",
       "      <td>6</td>\n",
       "      <td>23220.5</td>\n",
       "      <td>3</td>\n",
       "      <td>3</td>\n",
       "      <td>3</td>\n",
       "    </tr>\n",
       "    <tr>\n",
       "      <th>222</th>\n",
       "      <td>2019</td>\n",
       "      <td>LAZIO</td>\n",
       "      <td>FROSINONE</td>\n",
       "      <td>FR</td>\n",
       "      <td>LAZIO</td>\n",
       "      <td>SERVIZI</td>\n",
       "      <td>SERVIZI PER L'INFORMATION &amp; COMMUNICATION TECH...</td>\n",
       "      <td>SERVIZI DI DIGITALIZZAZIONE E DEMATERIALIZZAZI...</td>\n",
       "      <td>72512000-7</td>\n",
       "      <td>SERVIZI DI GESTIONE DOCUMENTI</td>\n",
       "      <td>1</td>\n",
       "      <td>84.0</td>\n",
       "      <td>1</td>\n",
       "      <td>1</td>\n",
       "      <td>1</td>\n",
       "    </tr>\n",
       "    <tr>\n",
       "      <th>223</th>\n",
       "      <td>2019</td>\n",
       "      <td>LAZIO</td>\n",
       "      <td>ROMA</td>\n",
       "      <td>RM</td>\n",
       "      <td>LAZIO</td>\n",
       "      <td>SERVIZI</td>\n",
       "      <td>SERVIZI PER L'INFORMATION &amp; COMMUNICATION TECH...</td>\n",
       "      <td>SERVIZI DI DIGITALIZZAZIONE E DEMATERIALIZZAZI...</td>\n",
       "      <td>72512000-7</td>\n",
       "      <td>SERVIZI DI GESTIONE DOCUMENTI</td>\n",
       "      <td>1</td>\n",
       "      <td>19900.0</td>\n",
       "      <td>1</td>\n",
       "      <td>1</td>\n",
       "      <td>1</td>\n",
       "    </tr>\n",
       "    <tr>\n",
       "      <th>224</th>\n",
       "      <td>2019</td>\n",
       "      <td>LAZIO</td>\n",
       "      <td>VITERBO</td>\n",
       "      <td>VT</td>\n",
       "      <td>LAZIO</td>\n",
       "      <td>SERVIZI</td>\n",
       "      <td>SERVIZI PER L'INFORMATION &amp; COMMUNICATION TECH...</td>\n",
       "      <td>SERVIZI DI DIGITALIZZAZIONE E DEMATERIALIZZAZI...</td>\n",
       "      <td>72512000-7</td>\n",
       "      <td>SERVIZI DI GESTIONE DOCUMENTI</td>\n",
       "      <td>2</td>\n",
       "      <td>40730.0</td>\n",
       "      <td>2</td>\n",
       "      <td>2</td>\n",
       "      <td>2</td>\n",
       "    </tr>\n",
       "    <tr>\n",
       "      <th>225</th>\n",
       "      <td>2019</td>\n",
       "      <td>LAZIO</td>\n",
       "      <td>LATINA</td>\n",
       "      <td>LT</td>\n",
       "      <td>LAZIO</td>\n",
       "      <td>SERVIZI</td>\n",
       "      <td>SERVIZI PER L'INFORMATION &amp; COMMUNICATION TECH...</td>\n",
       "      <td>SERVIZI DI OTTIMIZZAZIONE PC</td>\n",
       "      <td>72600000-6</td>\n",
       "      <td>SERVIZI DI CONSULENZA E ASSISTENZA INFORMATICA</td>\n",
       "      <td>3</td>\n",
       "      <td>630.0</td>\n",
       "      <td>1</td>\n",
       "      <td>1</td>\n",
       "      <td>1</td>\n",
       "    </tr>\n",
       "  </tbody>\n",
       "</table>\n",
       "</div>"
      ],
      "text/plain": [
       "     #Anno_Riferimento Regione_PA Provincia_PA Sigla_provincia_PA  \\\n",
       "221               2019      LAZIO      VITERBO                 VT   \n",
       "222               2019      LAZIO    FROSINONE                 FR   \n",
       "223               2019      LAZIO         ROMA                 RM   \n",
       "224               2019      LAZIO      VITERBO                 VT   \n",
       "225               2019      LAZIO       LATINA                 LT   \n",
       "\n",
       "    Regione_Fornitore Bando_Mepa  \\\n",
       "221             LAZIO    SERVIZI   \n",
       "222             LAZIO    SERVIZI   \n",
       "223             LAZIO    SERVIZI   \n",
       "224             LAZIO    SERVIZI   \n",
       "225             LAZIO    SERVIZI   \n",
       "\n",
       "                                Categoria_Abilitazione  \\\n",
       "221  SERVIZI PER L'INFORMATION & COMMUNICATION TECH...   \n",
       "222  SERVIZI PER L'INFORMATION & COMMUNICATION TECH...   \n",
       "223  SERVIZI PER L'INFORMATION & COMMUNICATION TECH...   \n",
       "224  SERVIZI PER L'INFORMATION & COMMUNICATION TECH...   \n",
       "225  SERVIZI PER L'INFORMATION & COMMUNICATION TECH...   \n",
       "\n",
       "                                         bene_servizio  codice_CPV  \\\n",
       "221      SERVIZI DI GESTIONE ELETTRONICA DEI DOCUMENTI  72512000-7   \n",
       "222  SERVIZI DI DIGITALIZZAZIONE E DEMATERIALIZZAZI...  72512000-7   \n",
       "223  SERVIZI DI DIGITALIZZAZIONE E DEMATERIALIZZAZI...  72512000-7   \n",
       "224  SERVIZI DI DIGITALIZZAZIONE E DEMATERIALIZZAZI...  72512000-7   \n",
       "225                       SERVIZI DI OTTIMIZZAZIONE PC  72600000-6   \n",
       "\n",
       "                                    descrizione_CPV  N_Ordini  \\\n",
       "221                   SERVIZI DI GESTIONE DOCUMENTI         6   \n",
       "222                   SERVIZI DI GESTIONE DOCUMENTI         1   \n",
       "223                   SERVIZI DI GESTIONE DOCUMENTI         1   \n",
       "224                   SERVIZI DI GESTIONE DOCUMENTI         2   \n",
       "225  SERVIZI DI CONSULENZA E ASSISTENZA INFORMATICA         3   \n",
       "\n",
       "     Valore_economico_Ordini  N_PA  N_fornitori  N_PO  \n",
       "221                  23220.5     3            3     3  \n",
       "222                     84.0     1            1     1  \n",
       "223                  19900.0     1            1     1  \n",
       "224                  40730.0     2            2     2  \n",
       "225                    630.0     1            1     1  "
      ]
     },
     "execution_count": 88,
     "metadata": {},
     "output_type": "execute_result"
    }
   ],
   "source": [
    "comuni.head()"
   ]
  },
  {
   "cell_type": "markdown",
   "metadata": {},
   "source": [
    "Qui CPV e il [\"vocabolario comune per gli appalti\"](https://www.centrostudimediterraneo.it/cpv-vocabolario-per-appalti-pubblici/) ed il codice è un metodo standardizzato per riferirsi all'oggetto del contratto di appalto.\n",
    "\n",
    "Non ci sono riferimenti (né possibili chiavi) per riconciliare i dati con il nome della pubblica amministrazione (ci sono le provincie, ma non le città)."
   ]
  },
  {
   "cell_type": "markdown",
   "metadata": {},
   "source": [
    "## Esplorando Acquisti - Richiesta di offerta/trattative dirette stipulate sul MEPA\n",
    "\n",
    "> Il dataset contiene informazioni di sintesi dei contratti stipulati tramite RdO e Trattative Dirette sul Mepa. Consente di analizzare la spesa della PA in termini di: valore economico dei contratti, valore base d’asta, percentuale Rdo/TD con base d’asta valorizzata, numero medio fornitori partecipanti, numero fornitori che hanno stipulato contratti, numero PA appaltanti, numero punti ordinanti, numero RdO/TD per cui si sono stipulati contratti, numero contratti stipulati, durata media della negoziazione, tempi medi di stipula. I dati sono aggregati rispetto al periodo di riferimento, alla tipologia e alla provincia di appartenenza della PA che ha stipulato, alla regione del fornitore che ha stipulato, al tipo negoziazione (RdO/TD). Trattandosi di dati aggregati, non tutti gli indicatori sono additivi."
   ]
  },
  {
   "cell_type": "code",
   "execution_count": 14,
   "metadata": {
    "ExecuteTime": {
     "end_time": "2020-05-08T07:48:10.736100Z",
     "start_time": "2020-05-08T07:48:10.668877Z"
    }
   },
   "outputs": [
    {
     "data": {
      "text/html": [
       "<div>\n",
       "<style scoped>\n",
       "    .dataframe tbody tr th:only-of-type {\n",
       "        vertical-align: middle;\n",
       "    }\n",
       "\n",
       "    .dataframe tbody tr th {\n",
       "        vertical-align: top;\n",
       "    }\n",
       "\n",
       "    .dataframe thead th {\n",
       "        text-align: right;\n",
       "    }\n",
       "</style>\n",
       "<table border=\"1\" class=\"dataframe\">\n",
       "  <thead>\n",
       "    <tr style=\"text-align: right;\">\n",
       "      <th></th>\n",
       "      <th>#Anno_Riferimento</th>\n",
       "      <th>Tipologia_Amministrazione</th>\n",
       "      <th>Regione_Fornitore</th>\n",
       "      <th>Regione_PA</th>\n",
       "      <th>Provincia_PA</th>\n",
       "      <th>Sigla_provincia_PA</th>\n",
       "      <th>Tipo_Negoziazione</th>\n",
       "      <th>N_negoziazioni_stipulate</th>\n",
       "      <th>N_Contratti_Stipulati</th>\n",
       "      <th>Valore_Base_Asta</th>\n",
       "      <th>Perc_negoziazioni_base_asta_valorizzata</th>\n",
       "      <th>Valore_contratti_stipulati</th>\n",
       "      <th>N_Medio_Fornitori_Partecipanti</th>\n",
       "      <th>N_Fornitori_con_contratti_stipulati</th>\n",
       "      <th>N_PA_Appaltanti</th>\n",
       "      <th>N_PO</th>\n",
       "      <th>Durata_media_negoziazione</th>\n",
       "      <th>Tempi_Medi_Stipula</th>\n",
       "    </tr>\n",
       "  </thead>\n",
       "  <tbody>\n",
       "    <tr>\n",
       "      <th>0</th>\n",
       "      <td>2019</td>\n",
       "      <td>AZIENDE ED ENTI TERRITORIALI DI SERVIZI PUBBLICI</td>\n",
       "      <td>LOMBARDIA</td>\n",
       "      <td>EMILIA ROMAGNA</td>\n",
       "      <td>BOLOGNA</td>\n",
       "      <td>BO</td>\n",
       "      <td>RdO</td>\n",
       "      <td>27</td>\n",
       "      <td>31</td>\n",
       "      <td>1073254,14</td>\n",
       "      <td>NaN</td>\n",
       "      <td>900449,52</td>\n",
       "      <td>3,77</td>\n",
       "      <td>24</td>\n",
       "      <td>5</td>\n",
       "      <td>9</td>\n",
       "      <td>67,94</td>\n",
       "      <td>9,39</td>\n",
       "    </tr>\n",
       "    <tr>\n",
       "      <th>1</th>\n",
       "      <td>2019</td>\n",
       "      <td>AZIENDE ED ENTI TERRITORIALI DI SERVIZI PUBBLICI</td>\n",
       "      <td>LOMBARDIA</td>\n",
       "      <td>EMILIA ROMAGNA</td>\n",
       "      <td>FERRARA</td>\n",
       "      <td>FE</td>\n",
       "      <td>RdO</td>\n",
       "      <td>3</td>\n",
       "      <td>3</td>\n",
       "      <td>19850</td>\n",
       "      <td>NaN</td>\n",
       "      <td>11915</td>\n",
       "      <td>4,67</td>\n",
       "      <td>2</td>\n",
       "      <td>1</td>\n",
       "      <td>1</td>\n",
       "      <td>36,33</td>\n",
       "      <td>17,67</td>\n",
       "    </tr>\n",
       "    <tr>\n",
       "      <th>2</th>\n",
       "      <td>2019</td>\n",
       "      <td>AZIENDE ED ENTI TERRITORIALI DI SERVIZI PUBBLICI</td>\n",
       "      <td>LOMBARDIA</td>\n",
       "      <td>EMILIA ROMAGNA</td>\n",
       "      <td>PARMA</td>\n",
       "      <td>PR</td>\n",
       "      <td>RdO</td>\n",
       "      <td>2</td>\n",
       "      <td>5</td>\n",
       "      <td>22070</td>\n",
       "      <td>NaN</td>\n",
       "      <td>21870</td>\n",
       "      <td>3</td>\n",
       "      <td>2</td>\n",
       "      <td>1</td>\n",
       "      <td>1</td>\n",
       "      <td>29,6</td>\n",
       "      <td>6,4</td>\n",
       "    </tr>\n",
       "    <tr>\n",
       "      <th>3</th>\n",
       "      <td>2019</td>\n",
       "      <td>AZIENDE ED ENTI TERRITORIALI DI SERVIZI PUBBLICI</td>\n",
       "      <td>BASILICATA</td>\n",
       "      <td>EMILIA ROMAGNA</td>\n",
       "      <td>BOLOGNA</td>\n",
       "      <td>BO</td>\n",
       "      <td>RdO</td>\n",
       "      <td>1</td>\n",
       "      <td>1</td>\n",
       "      <td>23000</td>\n",
       "      <td>NaN</td>\n",
       "      <td>16753,2</td>\n",
       "      <td>8</td>\n",
       "      <td>1</td>\n",
       "      <td>1</td>\n",
       "      <td>1</td>\n",
       "      <td>113</td>\n",
       "      <td>44</td>\n",
       "    </tr>\n",
       "    <tr>\n",
       "      <th>4</th>\n",
       "      <td>2019</td>\n",
       "      <td>AZIENDE ED ENTI TERRITORIALI DI SERVIZI PUBBLICI</td>\n",
       "      <td>SAN MARINO</td>\n",
       "      <td>EMILIA ROMAGNA</td>\n",
       "      <td>BOLOGNA</td>\n",
       "      <td>BO</td>\n",
       "      <td>RdO</td>\n",
       "      <td>1</td>\n",
       "      <td>1</td>\n",
       "      <td>3162,5</td>\n",
       "      <td>NaN</td>\n",
       "      <td>2863,5</td>\n",
       "      <td>2</td>\n",
       "      <td>1</td>\n",
       "      <td>1</td>\n",
       "      <td>1</td>\n",
       "      <td>13</td>\n",
       "      <td>0</td>\n",
       "    </tr>\n",
       "  </tbody>\n",
       "</table>\n",
       "</div>"
      ],
      "text/plain": [
       "   #Anno_Riferimento                         Tipologia_Amministrazione  \\\n",
       "0               2019  AZIENDE ED ENTI TERRITORIALI DI SERVIZI PUBBLICI   \n",
       "1               2019  AZIENDE ED ENTI TERRITORIALI DI SERVIZI PUBBLICI   \n",
       "2               2019  AZIENDE ED ENTI TERRITORIALI DI SERVIZI PUBBLICI   \n",
       "3               2019  AZIENDE ED ENTI TERRITORIALI DI SERVIZI PUBBLICI   \n",
       "4               2019  AZIENDE ED ENTI TERRITORIALI DI SERVIZI PUBBLICI   \n",
       "\n",
       "  Regione_Fornitore      Regione_PA Provincia_PA Sigla_provincia_PA  \\\n",
       "0         LOMBARDIA  EMILIA ROMAGNA      BOLOGNA                 BO   \n",
       "1         LOMBARDIA  EMILIA ROMAGNA      FERRARA                 FE   \n",
       "2         LOMBARDIA  EMILIA ROMAGNA        PARMA                 PR   \n",
       "3        BASILICATA  EMILIA ROMAGNA      BOLOGNA                 BO   \n",
       "4        SAN MARINO  EMILIA ROMAGNA      BOLOGNA                 BO   \n",
       "\n",
       "  Tipo_Negoziazione  N_negoziazioni_stipulate  N_Contratti_Stipulati  \\\n",
       "0               RdO                        27                     31   \n",
       "1               RdO                         3                      3   \n",
       "2               RdO                         2                      5   \n",
       "3               RdO                         1                      1   \n",
       "4               RdO                         1                      1   \n",
       "\n",
       "  Valore_Base_Asta Perc_negoziazioni_base_asta_valorizzata  \\\n",
       "0       1073254,14                                     NaN   \n",
       "1            19850                                     NaN   \n",
       "2            22070                                     NaN   \n",
       "3            23000                                     NaN   \n",
       "4           3162,5                                     NaN   \n",
       "\n",
       "  Valore_contratti_stipulati N_Medio_Fornitori_Partecipanti  \\\n",
       "0                  900449,52                           3,77   \n",
       "1                      11915                           4,67   \n",
       "2                      21870                              3   \n",
       "3                    16753,2                              8   \n",
       "4                     2863,5                              2   \n",
       "\n",
       "   N_Fornitori_con_contratti_stipulati  N_PA_Appaltanti  N_PO  \\\n",
       "0                                   24                5     9   \n",
       "1                                    2                1     1   \n",
       "2                                    2                1     1   \n",
       "3                                    1                1     1   \n",
       "4                                    1                1     1   \n",
       "\n",
       "  Durata_media_negoziazione Tempi_Medi_Stipula  \n",
       "0                     67,94               9,39  \n",
       "1                     36,33              17,67  \n",
       "2                      29,6                6,4  \n",
       "3                       113                 44  \n",
       "4                        13                  0  "
      ]
     },
     "execution_count": 14,
     "metadata": {},
     "output_type": "execute_result"
    }
   ],
   "source": [
    "acquisti_5 = pd.read_csv(\n",
    "    \"../input/rdo-td-stipulate-mepa-2019.csv\",\n",
    "    skiprows=0,\n",
    "    encoding=\"ISO-8859-1\",\n",
    ")\n",
    "acquisti_5.head()"
   ]
  },
  {
   "cell_type": "code",
   "execution_count": 15,
   "metadata": {
    "ExecuteTime": {
     "end_time": "2020-05-08T07:48:10.739875Z",
     "start_time": "2020-05-08T07:48:10.737104Z"
    }
   },
   "outputs": [
    {
     "data": {
      "text/plain": [
       "(16981, 18)"
      ]
     },
     "execution_count": 15,
     "metadata": {},
     "output_type": "execute_result"
    }
   ],
   "source": [
    "acquisti_5.shape"
   ]
  },
  {
   "cell_type": "markdown",
   "metadata": {},
   "source": [
    "## Esplorando Amministrazioni\n",
    "\n",
    "> Il dataset contiene informazioni delle Pubbliche Amministrazioni registrate al Programma di razionalizzazione degli acquisti, che hanno almeno un Punto Ordinante abilitato per almeno un giorno nel periodo di riferimento (anno). Il Punto Ordinante identifica un utente della PA che è abilitato ad operare sulla piattaforma di e-Procurement, ha potere di firma e può impegnare la spesa. Il dataset è disponibile per l’anno corrente e per i due anni precedenti. Gli aggiornamenti mensili riguardano esclusivamente i dati dell’anno corrente."
   ]
  },
  {
   "cell_type": "code",
   "execution_count": 16,
   "metadata": {
    "ExecuteTime": {
     "end_time": "2020-05-08T07:48:10.811498Z",
     "start_time": "2020-05-08T07:48:10.741034Z"
    }
   },
   "outputs": [
    {
     "data": {
      "text/html": [
       "<div>\n",
       "<style scoped>\n",
       "    .dataframe tbody tr th:only-of-type {\n",
       "        vertical-align: middle;\n",
       "    }\n",
       "\n",
       "    .dataframe tbody tr th {\n",
       "        vertical-align: top;\n",
       "    }\n",
       "\n",
       "    .dataframe thead th {\n",
       "        text-align: right;\n",
       "    }\n",
       "</style>\n",
       "<table border=\"1\" class=\"dataframe\">\n",
       "  <thead>\n",
       "    <tr style=\"text-align: right;\">\n",
       "      <th></th>\n",
       "      <th>#Identificativo_Amministrazione</th>\n",
       "      <th>Identificativo_IPA_amministrazione</th>\n",
       "      <th>Tipologia_Amministrazione</th>\n",
       "      <th>Codice_Fiscale</th>\n",
       "      <th>Denominazione</th>\n",
       "      <th>Regione</th>\n",
       "      <th>Provincia</th>\n",
       "      <th>Comune</th>\n",
       "      <th>Latitudine</th>\n",
       "      <th>Longitudine</th>\n",
       "      <th>Numero_PO_attivi</th>\n",
       "    </tr>\n",
       "  </thead>\n",
       "  <tbody>\n",
       "    <tr>\n",
       "      <th>0</th>\n",
       "      <td>40201</td>\n",
       "      <td>NaN</td>\n",
       "      <td>AZIENDE ED ENTI TERRITORIALI DI SERVIZI PUBBLICI</td>\n",
       "      <td>1.770461e+09</td>\n",
       "      <td>3A PARCO TECNOLOGICO AGROALIMENTARE DELL'UMBRIA</td>\n",
       "      <td>UMBRIA</td>\n",
       "      <td>PERUGIA</td>\n",
       "      <td>TODI</td>\n",
       "      <td>42.78492</td>\n",
       "      <td>12.36483</td>\n",
       "      <td>1</td>\n",
       "    </tr>\n",
       "    <tr>\n",
       "      <th>1</th>\n",
       "      <td>37643</td>\n",
       "      <td>NaN</td>\n",
       "      <td>AZIENDE ED ENTI DI SERVIZI SOCIO ASSISTENZIALI</td>\n",
       "      <td>9.103049e+10</td>\n",
       "      <td>3SG AZIENDA SERVIZI SOCIO SANITARI</td>\n",
       "      <td>LOMBARDIA</td>\n",
       "      <td>VARESE</td>\n",
       "      <td>GALLARATE</td>\n",
       "      <td>45.66174</td>\n",
       "      <td>8.77605</td>\n",
       "      <td>1</td>\n",
       "    </tr>\n",
       "    <tr>\n",
       "      <th>2</th>\n",
       "      <td>41099</td>\n",
       "      <td>vssrl</td>\n",
       "      <td>AZIENDE ED ENTI TERRITORIALI DI SERVIZI PUBBLICI</td>\n",
       "      <td>2.104100e+09</td>\n",
       "      <td>5 VALLI SERVIZI S.R.L.</td>\n",
       "      <td>PIEMONTE</td>\n",
       "      <td>ALESSANDRIA</td>\n",
       "      <td>MONLEALE</td>\n",
       "      <td>44.88495</td>\n",
       "      <td>8.98391</td>\n",
       "      <td>1</td>\n",
       "    </tr>\n",
       "    <tr>\n",
       "      <th>3</th>\n",
       "      <td>847</td>\n",
       "      <td>NaN</td>\n",
       "      <td>AZIENDE ED ENTI TERRITORIALI DI SERVIZI PUBBLICI</td>\n",
       "      <td>6.360270e+09</td>\n",
       "      <td>5T SRL</td>\n",
       "      <td>PIEMONTE</td>\n",
       "      <td>TORINO</td>\n",
       "      <td>TORINO</td>\n",
       "      <td>45.07120</td>\n",
       "      <td>7.67792</td>\n",
       "      <td>1</td>\n",
       "    </tr>\n",
       "    <tr>\n",
       "      <th>4</th>\n",
       "      <td>14886</td>\n",
       "      <td>istsc_SRPM01000P</td>\n",
       "      <td>UFFICI SCOLASTICI REGIONALI</td>\n",
       "      <td>8.000375e+10</td>\n",
       "      <td>8° ISTITUTO DI ISTRUZIONE SECONDARIA DI SECOND...</td>\n",
       "      <td>SICILIA</td>\n",
       "      <td>SIRACUSA</td>\n",
       "      <td>SIRACUSA</td>\n",
       "      <td>37.08468</td>\n",
       "      <td>15.28914</td>\n",
       "      <td>1</td>\n",
       "    </tr>\n",
       "  </tbody>\n",
       "</table>\n",
       "</div>"
      ],
      "text/plain": [
       "   #Identificativo_Amministrazione Identificativo_IPA_amministrazione  \\\n",
       "0                            40201                                NaN   \n",
       "1                            37643                                NaN   \n",
       "2                            41099                              vssrl   \n",
       "3                              847                                NaN   \n",
       "4                            14886                   istsc_SRPM01000P   \n",
       "\n",
       "                          Tipologia_Amministrazione  Codice_Fiscale  \\\n",
       "0  AZIENDE ED ENTI TERRITORIALI DI SERVIZI PUBBLICI    1.770461e+09   \n",
       "1    AZIENDE ED ENTI DI SERVIZI SOCIO ASSISTENZIALI    9.103049e+10   \n",
       "2  AZIENDE ED ENTI TERRITORIALI DI SERVIZI PUBBLICI    2.104100e+09   \n",
       "3  AZIENDE ED ENTI TERRITORIALI DI SERVIZI PUBBLICI    6.360270e+09   \n",
       "4                       UFFICI SCOLASTICI REGIONALI    8.000375e+10   \n",
       "\n",
       "                                       Denominazione    Regione    Provincia  \\\n",
       "0    3A PARCO TECNOLOGICO AGROALIMENTARE DELL'UMBRIA     UMBRIA      PERUGIA   \n",
       "1                 3SG AZIENDA SERVIZI SOCIO SANITARI  LOMBARDIA       VARESE   \n",
       "2                             5 VALLI SERVIZI S.R.L.   PIEMONTE  ALESSANDRIA   \n",
       "3                                             5T SRL   PIEMONTE       TORINO   \n",
       "4  8° ISTITUTO DI ISTRUZIONE SECONDARIA DI SECOND...    SICILIA     SIRACUSA   \n",
       "\n",
       "      Comune  Latitudine  Longitudine  Numero_PO_attivi  \n",
       "0       TODI    42.78492     12.36483                 1  \n",
       "1  GALLARATE    45.66174      8.77605                 1  \n",
       "2   MONLEALE    44.88495      8.98391                 1  \n",
       "3     TORINO    45.07120      7.67792                 1  \n",
       "4   SIRACUSA    37.08468     15.28914                 1  "
      ]
     },
     "execution_count": 16,
     "metadata": {},
     "output_type": "execute_result"
    }
   ],
   "source": [
    "amministrazioni = pd.read_csv(\n",
    "    \"../input/amministrazioni2019.csv\",\n",
    "    skiprows=0,\n",
    "    encoding=\"ISO-8859-1\",\n",
    ")\n",
    "amministrazioni.head()"
   ]
  },
  {
   "cell_type": "code",
   "execution_count": 17,
   "metadata": {
    "ExecuteTime": {
     "end_time": "2020-05-08T07:48:10.815082Z",
     "start_time": "2020-05-08T07:48:10.812697Z"
    }
   },
   "outputs": [
    {
     "data": {
      "text/plain": [
       "(23213, 11)"
      ]
     },
     "execution_count": 17,
     "metadata": {},
     "output_type": "execute_result"
    }
   ],
   "source": [
    "amministrazioni.shape"
   ]
  },
  {
   "cell_type": "markdown",
   "metadata": {},
   "source": [
    "Numero di punti ordinanti:"
   ]
  },
  {
   "cell_type": "code",
   "execution_count": 18,
   "metadata": {
    "ExecuteTime": {
     "end_time": "2020-05-08T07:48:10.828912Z",
     "start_time": "2020-05-08T07:48:10.816520Z"
    }
   },
   "outputs": [
    {
     "data": {
      "text/plain": [
       "67"
      ]
     },
     "execution_count": 18,
     "metadata": {},
     "output_type": "execute_result"
    }
   ],
   "source": [
    "len(set(amministrazioni.Numero_PO_attivi))"
   ]
  },
  {
   "cell_type": "markdown",
   "metadata": {},
   "source": [
    "## Esplorando Bandi \n",
    "\n",
    "> Il dataset contiene i bandi e le gare pubblicati e non ancora terminati nel periodo di riferimento. Per bandi si intendono le iniziative, articolate in lotti, pubblicate da Consip nell'ambito del Programma per la razionalizzazione. Nell'ambito degli strumenti Convenzioni e Accordi Quadro i lotti coincidono con la gara stessa, per gli strumenti Mercato Elettronico e Sistema dinamico di Acquisizione i lotti rappresentano una specializzazione merceologica del bando. Le informazioni pubblicate sono elaborate a partire dai dati disponibili nel sistema di e-procurement www.acquistinretepa.it. Eventuali operazioni svolte dai Punti Ordinanti delle PA e dai Fornitori al di fuori del suddetto sistema potrebbero non essere incluse nei dataset. Il dataset è disponibile per l’anno corrente e per i due anni precedenti. Gli aggiornamenti mensili riguardano esclusivamente i dati dell’anno corrente."
   ]
  },
  {
   "cell_type": "code",
   "execution_count": 19,
   "metadata": {
    "ExecuteTime": {
     "end_time": "2020-05-08T07:48:10.869562Z",
     "start_time": "2020-05-08T07:48:10.829905Z"
    }
   },
   "outputs": [
    {
     "data": {
      "text/html": [
       "<div>\n",
       "<style scoped>\n",
       "    .dataframe tbody tr th:only-of-type {\n",
       "        vertical-align: middle;\n",
       "    }\n",
       "\n",
       "    .dataframe tbody tr th {\n",
       "        vertical-align: top;\n",
       "    }\n",
       "\n",
       "    .dataframe thead th {\n",
       "        text-align: right;\n",
       "    }\n",
       "</style>\n",
       "<table border=\"1\" class=\"dataframe\">\n",
       "  <thead>\n",
       "    <tr style=\"text-align: right;\">\n",
       "      <th></th>\n",
       "      <th>#Denominazione_Bando</th>\n",
       "      <th>Denominazione_Lotto</th>\n",
       "      <th>Identificativo_Lotto</th>\n",
       "      <th>Tipologia_Lotto</th>\n",
       "      <th>Categoria_Merceologica</th>\n",
       "      <th>Tipo_Strumento</th>\n",
       "      <th>Tipo_Procedura</th>\n",
       "      <th>Modalita_Svolgimento</th>\n",
       "      <th>Aggiudicazione_Esclusiva</th>\n",
       "      <th>Verde</th>\n",
       "      <th>...</th>\n",
       "      <th>Data_Autorizzazione_7_5</th>\n",
       "      <th>Data_Termine</th>\n",
       "      <th>Base_Asta</th>\n",
       "      <th>Importo_Massimale</th>\n",
       "      <th>Quantita_Massimale</th>\n",
       "      <th>Unita_Misura</th>\n",
       "      <th>Percentuale_Erosione</th>\n",
       "      <th>Numero_Operatori_Economici_Partecipanti</th>\n",
       "      <th>Numero_Operatori_Economici_Aggiudicatari/Abilitati</th>\n",
       "      <th>Flag_Commissione_FEE</th>\n",
       "    </tr>\n",
       "  </thead>\n",
       "  <tbody>\n",
       "    <tr>\n",
       "      <th>0</th>\n",
       "      <td>ACQUISTO AUTOBUS 2</td>\n",
       "      <td>AUTOBUS GRANDI</td>\n",
       "      <td>6066964911</td>\n",
       "      <td>Merceologico</td>\n",
       "      <td>Veicoli, mobilità e trasporti</td>\n",
       "      <td>Convenzione</td>\n",
       "      <td>aperta</td>\n",
       "      <td>SMATERIALIZZATA</td>\n",
       "      <td>S</td>\n",
       "      <td>S</td>\n",
       "      <td>...</td>\n",
       "      <td>NaN</td>\n",
       "      <td>13-11-2017</td>\n",
       "      <td>15600000</td>\n",
       "      <td>NaN</td>\n",
       "      <td>40.0</td>\n",
       "      <td>Quantità</td>\n",
       "      <td>75</td>\n",
       "      <td>3.0</td>\n",
       "      <td>1.0</td>\n",
       "      <td>S</td>\n",
       "    </tr>\n",
       "    <tr>\n",
       "      <th>1</th>\n",
       "      <td>ACQUISTO AUTOBUS 2</td>\n",
       "      <td>AUTOBUS MEDI</td>\n",
       "      <td>60668803C1</td>\n",
       "      <td>Merceologico</td>\n",
       "      <td>Veicoli, mobilità e trasporti</td>\n",
       "      <td>Convenzione</td>\n",
       "      <td>aperta</td>\n",
       "      <td>SMATERIALIZZATA</td>\n",
       "      <td>S</td>\n",
       "      <td>S</td>\n",
       "      <td>...</td>\n",
       "      <td>NaN</td>\n",
       "      <td>13-11-2017</td>\n",
       "      <td>7800000</td>\n",
       "      <td>NaN</td>\n",
       "      <td>40.0</td>\n",
       "      <td>Quantità</td>\n",
       "      <td>37,5</td>\n",
       "      <td>1.0</td>\n",
       "      <td>1.0</td>\n",
       "      <td>S</td>\n",
       "    </tr>\n",
       "    <tr>\n",
       "      <th>2</th>\n",
       "      <td>ACQUISTO AUTOBUS 2</td>\n",
       "      <td>AUTOBUS PICCOLI</td>\n",
       "      <td>6066852CA3</td>\n",
       "      <td>Merceologico</td>\n",
       "      <td>Veicoli, mobilità e trasporti</td>\n",
       "      <td>Convenzione</td>\n",
       "      <td>aperta</td>\n",
       "      <td>SMATERIALIZZATA</td>\n",
       "      <td>S</td>\n",
       "      <td>S</td>\n",
       "      <td>...</td>\n",
       "      <td>09-05-2017</td>\n",
       "      <td>27-07-2017</td>\n",
       "      <td>3120000</td>\n",
       "      <td>NaN</td>\n",
       "      <td>40.0</td>\n",
       "      <td>Quantità</td>\n",
       "      <td>140</td>\n",
       "      <td>3.0</td>\n",
       "      <td>1.0</td>\n",
       "      <td>S</td>\n",
       "    </tr>\n",
       "    <tr>\n",
       "      <th>3</th>\n",
       "      <td>ACQUISTO AUTOBUS 3</td>\n",
       "      <td>AUTOBUS EXTRA-URBANO LUNGO CON ALIMENTAZIONE A...</td>\n",
       "      <td>707140432F</td>\n",
       "      <td>Merceologico</td>\n",
       "      <td>Veicoli, mobilità e trasporti</td>\n",
       "      <td>Convenzione</td>\n",
       "      <td>aperta</td>\n",
       "      <td>SMATERIALIZZATA</td>\n",
       "      <td>S</td>\n",
       "      <td>S</td>\n",
       "      <td>...</td>\n",
       "      <td>18-04-2019</td>\n",
       "      <td>01-08-2020</td>\n",
       "      <td>76281260</td>\n",
       "      <td>NaN</td>\n",
       "      <td>200.0</td>\n",
       "      <td>Quantità</td>\n",
       "      <td>117,5</td>\n",
       "      <td>1.0</td>\n",
       "      <td>1.0</td>\n",
       "      <td>S</td>\n",
       "    </tr>\n",
       "    <tr>\n",
       "      <th>4</th>\n",
       "      <td>ACQUISTO AUTOBUS 3</td>\n",
       "      <td>AUTOBUS EXTRA-URBANO LUNGO CON ALIMENTAZIONE A...</td>\n",
       "      <td>7071394AEC</td>\n",
       "      <td>Merceologico</td>\n",
       "      <td>Veicoli, mobilità e trasporti</td>\n",
       "      <td>Convenzione</td>\n",
       "      <td>aperta</td>\n",
       "      <td>SMATERIALIZZATA</td>\n",
       "      <td>S</td>\n",
       "      <td>S</td>\n",
       "      <td>...</td>\n",
       "      <td>NaN</td>\n",
       "      <td>01-08-2020</td>\n",
       "      <td>118394390</td>\n",
       "      <td>NaN</td>\n",
       "      <td>300.0</td>\n",
       "      <td>Quantità</td>\n",
       "      <td>100,33</td>\n",
       "      <td>1.0</td>\n",
       "      <td>1.0</td>\n",
       "      <td>S</td>\n",
       "    </tr>\n",
       "  </tbody>\n",
       "</table>\n",
       "<p>5 rows × 25 columns</p>\n",
       "</div>"
      ],
      "text/plain": [
       "  #Denominazione_Bando                                Denominazione_Lotto  \\\n",
       "0   ACQUISTO AUTOBUS 2                                     AUTOBUS GRANDI   \n",
       "1   ACQUISTO AUTOBUS 2                                       AUTOBUS MEDI   \n",
       "2   ACQUISTO AUTOBUS 2                                    AUTOBUS PICCOLI   \n",
       "3   ACQUISTO AUTOBUS 3  AUTOBUS EXTRA-URBANO LUNGO CON ALIMENTAZIONE A...   \n",
       "4   ACQUISTO AUTOBUS 3  AUTOBUS EXTRA-URBANO LUNGO CON ALIMENTAZIONE A...   \n",
       "\n",
       "  Identificativo_Lotto Tipologia_Lotto         Categoria_Merceologica  \\\n",
       "0           6066964911    Merceologico  Veicoli, mobilità e trasporti   \n",
       "1           60668803C1    Merceologico  Veicoli, mobilità e trasporti   \n",
       "2           6066852CA3    Merceologico  Veicoli, mobilità e trasporti   \n",
       "3           707140432F    Merceologico  Veicoli, mobilità e trasporti   \n",
       "4           7071394AEC    Merceologico  Veicoli, mobilità e trasporti   \n",
       "\n",
       "  Tipo_Strumento Tipo_Procedura Modalita_Svolgimento Aggiudicazione_Esclusiva  \\\n",
       "0    Convenzione         aperta      SMATERIALIZZATA                        S   \n",
       "1    Convenzione         aperta      SMATERIALIZZATA                        S   \n",
       "2    Convenzione         aperta      SMATERIALIZZATA                        S   \n",
       "3    Convenzione         aperta      SMATERIALIZZATA                        S   \n",
       "4    Convenzione         aperta      SMATERIALIZZATA                        S   \n",
       "\n",
       "  Verde  ... Data_Autorizzazione_7_5 Data_Termine  Base_Asta  \\\n",
       "0     S  ...                     NaN   13-11-2017   15600000   \n",
       "1     S  ...                     NaN   13-11-2017    7800000   \n",
       "2     S  ...              09-05-2017   27-07-2017    3120000   \n",
       "3     S  ...              18-04-2019   01-08-2020   76281260   \n",
       "4     S  ...                     NaN   01-08-2020  118394390   \n",
       "\n",
       "  Importo_Massimale Quantita_Massimale Unita_Misura Percentuale_Erosione  \\\n",
       "0               NaN               40.0     Quantità                   75   \n",
       "1               NaN               40.0     Quantità                 37,5   \n",
       "2               NaN               40.0     Quantità                  140   \n",
       "3               NaN              200.0     Quantità                117,5   \n",
       "4               NaN              300.0     Quantità               100,33   \n",
       "\n",
       "  Numero_Operatori_Economici_Partecipanti  \\\n",
       "0                                     3.0   \n",
       "1                                     1.0   \n",
       "2                                     3.0   \n",
       "3                                     1.0   \n",
       "4                                     1.0   \n",
       "\n",
       "   Numero_Operatori_Economici_Aggiudicatari/Abilitati  Flag_Commissione_FEE  \n",
       "0                                                1.0                      S  \n",
       "1                                                1.0                      S  \n",
       "2                                                1.0                      S  \n",
       "3                                                1.0                      S  \n",
       "4                                                1.0                      S  \n",
       "\n",
       "[5 rows x 25 columns]"
      ]
     },
     "execution_count": 19,
     "metadata": {},
     "output_type": "execute_result"
    }
   ],
   "source": [
    "bandi = pd.read_csv(\n",
    "    \"../input/bandiegare2019.csv\",\n",
    "    skiprows=0,\n",
    "    encoding=\"ISO-8859-1\",\n",
    ")\n",
    "bandi.head()"
   ]
  },
  {
   "cell_type": "code",
   "execution_count": 20,
   "metadata": {
    "ExecuteTime": {
     "end_time": "2020-05-08T07:48:10.873140Z",
     "start_time": "2020-05-08T07:48:10.870564Z"
    }
   },
   "outputs": [
    {
     "data": {
      "text/plain": [
       "(1248, 25)"
      ]
     },
     "execution_count": 20,
     "metadata": {},
     "output_type": "execute_result"
    }
   ],
   "source": [
    "bandi.shape"
   ]
  },
  {
   "cell_type": "code",
   "execution_count": 21,
   "metadata": {
    "ExecuteTime": {
     "end_time": "2020-05-08T07:48:10.885343Z",
     "start_time": "2020-05-08T07:48:10.874285Z"
    }
   },
   "outputs": [
    {
     "data": {
      "text/plain": [
       "Index(['#Denominazione_Bando', 'Denominazione_Lotto', 'Identificativo_Lotto',\n",
       "       'Tipologia_Lotto', 'Categoria_Merceologica', 'Tipo_Strumento',\n",
       "       'Tipo_Procedura', 'Modalita_Svolgimento', 'Aggiudicazione_Esclusiva',\n",
       "       'Verde', 'Criterio_Aggiudicazione', 'Data_Pubblicazione',\n",
       "       'Data_Aggiudicazione', 'Data_Attivazione', 'Data_Autorizzazione_6_5',\n",
       "       'Data_Autorizzazione_7_5', 'Data_Termine', 'Base_Asta',\n",
       "       'Importo_Massimale', 'Quantita_Massimale', 'Unita_Misura',\n",
       "       'Percentuale_Erosione', 'Numero_Operatori_Economici_Partecipanti',\n",
       "       'Numero_Operatori_Economici_Aggiudicatari/Abilitati',\n",
       "       'Flag_Commissione_FEE'],\n",
       "      dtype='object')"
      ]
     },
     "execution_count": 21,
     "metadata": {},
     "output_type": "execute_result"
    }
   ],
   "source": [
    "bandi.columns"
   ]
  },
  {
   "cell_type": "markdown",
   "metadata": {},
   "source": [
    "## Esplorando Fornitori - Fornitori del programma\n",
    "\n",
    "> Il dataset contiene le Imprese partecipanti a iniziative del Programma quali Convenzioni e Accordi Quadro aggiudicati. Include altresì le imprese abilitate a bandi del Mercato Elettronico e del Sistema Dinamico di Acquisizione e quelle con contratti attivi nel periodo di riferimento. Le informazioni pubblicate sono elaborate a partire dai dati disponibili nel sistema di e-procurement www.acquistinretepa.it. Eventuali operazioni svolte dai Punti Ordinanti delle PA e dai Fornitori al di fuori del suddetto sistema potrebbero non essere incluse nei dataset. Il dataset è disponibile per l’anno corrente e per i due anni precedenti. Gli aggiornamenti mensili riguardano esclusivamente i dati dell’anno corrente."
   ]
  },
  {
   "cell_type": "code",
   "execution_count": 22,
   "metadata": {
    "ExecuteTime": {
     "end_time": "2020-05-08T07:48:11.259630Z",
     "start_time": "2020-05-08T07:48:10.886541Z"
    }
   },
   "outputs": [
    {
     "data": {
      "text/html": [
       "<div>\n",
       "<style scoped>\n",
       "    .dataframe tbody tr th:only-of-type {\n",
       "        vertical-align: middle;\n",
       "    }\n",
       "\n",
       "    .dataframe tbody tr th {\n",
       "        vertical-align: top;\n",
       "    }\n",
       "\n",
       "    .dataframe thead th {\n",
       "        text-align: right;\n",
       "    }\n",
       "</style>\n",
       "<table border=\"1\" class=\"dataframe\">\n",
       "  <thead>\n",
       "    <tr style=\"text-align: right;\">\n",
       "      <th></th>\n",
       "      <th>#Partita_Iva</th>\n",
       "      <th>Ragione_Sociale</th>\n",
       "      <th>Forma_Societaria</th>\n",
       "      <th>Nazione_Sede_legale</th>\n",
       "      <th>Regione_Sede_legale</th>\n",
       "      <th>Provincia_Sede_legale</th>\n",
       "      <th>Comune_Sede_legale</th>\n",
       "      <th>Indirizzo_Sede_legale</th>\n",
       "      <th>Latitudine_Sede_legale</th>\n",
       "      <th>Longitudine_Sede_legale</th>\n",
       "      <th>Numero_Aggiudicazioni</th>\n",
       "      <th>Numero_Abilitazioni</th>\n",
       "      <th>Numero_Transazioni</th>\n",
       "      <th>Numero_Contratti_attivi</th>\n",
       "    </tr>\n",
       "  </thead>\n",
       "  <tbody>\n",
       "    <tr>\n",
       "      <th>0</th>\n",
       "      <td>00688650217</td>\n",
       "      <td>CAPONE PIETRO S.R.L.</td>\n",
       "      <td>Società a Responsabilità Limitata</td>\n",
       "      <td>ITALIA</td>\n",
       "      <td>TRENTINO ALTO ADIGE</td>\n",
       "      <td>BOLZANO/BOZEN</td>\n",
       "      <td>BOLZANO/BOZEN</td>\n",
       "      <td>VIA COPERNICO, 7</td>\n",
       "      <td>46.47142</td>\n",
       "      <td>11.32011</td>\n",
       "      <td>0</td>\n",
       "      <td>1</td>\n",
       "      <td>0</td>\n",
       "      <td>0</td>\n",
       "    </tr>\n",
       "    <tr>\n",
       "      <th>1</th>\n",
       "      <td>03024340808</td>\n",
       "      <td>ECO. GROUP S.R.L.</td>\n",
       "      <td>Società a Responsabilità Limitata</td>\n",
       "      <td>ITALIA</td>\n",
       "      <td>CALABRIA</td>\n",
       "      <td>REGGIO DI CALABRIA</td>\n",
       "      <td>ARDORE</td>\n",
       "      <td>C/DA  SERRA, SNC   FRAZ. MARINA</td>\n",
       "      <td>38.17991</td>\n",
       "      <td>16.20984</td>\n",
       "      <td>0</td>\n",
       "      <td>9</td>\n",
       "      <td>0</td>\n",
       "      <td>0</td>\n",
       "    </tr>\n",
       "    <tr>\n",
       "      <th>2</th>\n",
       "      <td>02903790802</td>\n",
       "      <td>F.LLI SACCO S.R.L.S.</td>\n",
       "      <td>Società a Responsabilità Limitata</td>\n",
       "      <td>ITALIA</td>\n",
       "      <td>CALABRIA</td>\n",
       "      <td>REGGIO DI CALABRIA</td>\n",
       "      <td>BENESTARE</td>\n",
       "      <td>BENESTARE (RC) , C/DA  BRUCA, 68</td>\n",
       "      <td>38.18399</td>\n",
       "      <td>16.13998</td>\n",
       "      <td>0</td>\n",
       "      <td>1</td>\n",
       "      <td>3</td>\n",
       "      <td>3</td>\n",
       "    </tr>\n",
       "    <tr>\n",
       "      <th>3</th>\n",
       "      <td>02303790808</td>\n",
       "      <td>SEGECO S.R.L.</td>\n",
       "      <td>Società a Responsabilità Limitata</td>\n",
       "      <td>ITALIA</td>\n",
       "      <td>CALABRIA</td>\n",
       "      <td>REGGIO DI CALABRIA</td>\n",
       "      <td>CAMPO CALABRO</td>\n",
       "      <td>VIA SACERDOTE SCOPELLITI, 53</td>\n",
       "      <td>38.21941</td>\n",
       "      <td>15.65679</td>\n",
       "      <td>0</td>\n",
       "      <td>3</td>\n",
       "      <td>0</td>\n",
       "      <td>0</td>\n",
       "    </tr>\n",
       "    <tr>\n",
       "      <th>4</th>\n",
       "      <td>02972900803</td>\n",
       "      <td>SOPHIA S.R.L.</td>\n",
       "      <td>Società a Responsabilità Limitata</td>\n",
       "      <td>ITALIA</td>\n",
       "      <td>CALABRIA</td>\n",
       "      <td>REGGIO DI CALABRIA</td>\n",
       "      <td>SANT'AGATA DEL BIANCO</td>\n",
       "      <td>VIA MAZZINI, 27</td>\n",
       "      <td>38.09197</td>\n",
       "      <td>16.08343</td>\n",
       "      <td>0</td>\n",
       "      <td>3</td>\n",
       "      <td>0</td>\n",
       "      <td>0</td>\n",
       "    </tr>\n",
       "  </tbody>\n",
       "</table>\n",
       "</div>"
      ],
      "text/plain": [
       "  #Partita_Iva          Ragione_Sociale                   Forma_Societaria  \\\n",
       "0  00688650217    CAPONE PIETRO S.R.L.   Società a Responsabilità Limitata   \n",
       "1  03024340808       ECO. GROUP S.R.L.   Società a Responsabilità Limitata   \n",
       "2  02903790802   F.LLI SACCO S.R.L.S.    Società a Responsabilità Limitata   \n",
       "3  02303790808           SEGECO S.R.L.   Società a Responsabilità Limitata   \n",
       "4  02972900803           SOPHIA S.R.L.   Società a Responsabilità Limitata   \n",
       "\n",
       "  Nazione_Sede_legale  Regione_Sede_legale Provincia_Sede_legale  \\\n",
       "0              ITALIA  TRENTINO ALTO ADIGE         BOLZANO/BOZEN   \n",
       "1              ITALIA             CALABRIA    REGGIO DI CALABRIA   \n",
       "2              ITALIA             CALABRIA    REGGIO DI CALABRIA   \n",
       "3              ITALIA             CALABRIA    REGGIO DI CALABRIA   \n",
       "4              ITALIA             CALABRIA    REGGIO DI CALABRIA   \n",
       "\n",
       "      Comune_Sede_legale              Indirizzo_Sede_legale  \\\n",
       "0          BOLZANO/BOZEN                   VIA COPERNICO, 7   \n",
       "1                 ARDORE   C/DA  SERRA, SNC   FRAZ. MARINA    \n",
       "2              BENESTARE  BENESTARE (RC) , C/DA  BRUCA, 68    \n",
       "3          CAMPO CALABRO      VIA SACERDOTE SCOPELLITI, 53    \n",
       "4  SANT'AGATA DEL BIANCO                    VIA MAZZINI, 27   \n",
       "\n",
       "   Latitudine_Sede_legale  Longitudine_Sede_legale  Numero_Aggiudicazioni  \\\n",
       "0                46.47142                 11.32011                      0   \n",
       "1                38.17991                 16.20984                      0   \n",
       "2                38.18399                 16.13998                      0   \n",
       "3                38.21941                 15.65679                      0   \n",
       "4                38.09197                 16.08343                      0   \n",
       "\n",
       "   Numero_Abilitazioni  Numero_Transazioni  Numero_Contratti_attivi  \n",
       "0                    1                   0                        0  \n",
       "1                    9                   0                        0  \n",
       "2                    1                   3                        3  \n",
       "3                    3                   0                        0  \n",
       "4                    3                   0                        0  "
      ]
     },
     "execution_count": 22,
     "metadata": {},
     "output_type": "execute_result"
    }
   ],
   "source": [
    "fornitori_0 = pd.read_csv(\n",
    "    \"../input/fornitori2019.csv\",\n",
    "    skiprows=0,\n",
    "    encoding=\"ISO-8859-1\",\n",
    ")\n",
    "fornitori_0.head()"
   ]
  },
  {
   "cell_type": "code",
   "execution_count": 23,
   "metadata": {
    "ExecuteTime": {
     "end_time": "2020-05-08T07:48:11.263784Z",
     "start_time": "2020-05-08T07:48:11.260851Z"
    }
   },
   "outputs": [
    {
     "data": {
      "text/plain": [
       "(137551, 14)"
      ]
     },
     "execution_count": 23,
     "metadata": {},
     "output_type": "execute_result"
    }
   ],
   "source": [
    "fornitori_0.shape"
   ]
  },
  {
   "cell_type": "markdown",
   "metadata": {},
   "source": [
    "## Esplorando Fornitori - Partecipazioni\n",
    "\n",
    "> Il dataset contiene le imprese e raggruppamenti partecipanti alle iniziative e relativi lotti pubblicati e non ancora terminati nel periodo di riferimento. Relativamente a Convenzioni e Accordi Quadro vengono fornite le partecipazioni di gare aggiudicate e non terminate o con contratti attivi. Relativamente ai bandi Mepa e Sda vengono fornite le abilitazioni. Non vengono fornite le partecipazioni relative a gare in corso di aggiudicazione o a domande di abilitazione ancora in itinere o rifiutate. Il dataset è disponibile per l’anno corrente e per i due anni precedenti. Gli aggiornamenti mensili riguardano esclusivamente i dati dell’anno corrente."
   ]
  },
  {
   "cell_type": "code",
   "execution_count": 24,
   "metadata": {
    "ExecuteTime": {
     "end_time": "2020-05-08T07:48:12.172345Z",
     "start_time": "2020-05-08T07:48:11.265171Z"
    }
   },
   "outputs": [
    {
     "data": {
      "text/html": [
       "<div>\n",
       "<style scoped>\n",
       "    .dataframe tbody tr th:only-of-type {\n",
       "        vertical-align: middle;\n",
       "    }\n",
       "\n",
       "    .dataframe tbody tr th {\n",
       "        vertical-align: top;\n",
       "    }\n",
       "\n",
       "    .dataframe thead th {\n",
       "        text-align: right;\n",
       "    }\n",
       "</style>\n",
       "<table border=\"1\" class=\"dataframe\">\n",
       "  <thead>\n",
       "    <tr style=\"text-align: right;\">\n",
       "      <th></th>\n",
       "      <th>#Denominazione_Iniziativa</th>\n",
       "      <th>Denominazione_Lotto</th>\n",
       "      <th>Identificativo_Lotto</th>\n",
       "      <th>Tipo_Strumento</th>\n",
       "      <th>Partita_Iva</th>\n",
       "      <th>Ragione_Sociale</th>\n",
       "      <th>Forma_Partecipazione</th>\n",
       "      <th>Denominazione_Partecipazione</th>\n",
       "      <th>Progressivo_Partecipante</th>\n",
       "      <th>Flag_Capogruppo</th>\n",
       "      <th>Esito_Partecipazione</th>\n",
       "      <th>Data_Aggiudicazione/Abilitazione</th>\n",
       "    </tr>\n",
       "  </thead>\n",
       "  <tbody>\n",
       "    <tr>\n",
       "      <th>0</th>\n",
       "      <td>ACQUISTO AUTOBUS 2</td>\n",
       "      <td>AUTOBUS GRANDI</td>\n",
       "      <td>6066964911</td>\n",
       "      <td>Convenzione</td>\n",
       "      <td>09709770011</td>\n",
       "      <td>IVECO SPA</td>\n",
       "      <td>Singola</td>\n",
       "      <td>IVECO SPA</td>\n",
       "      <td>1</td>\n",
       "      <td>S</td>\n",
       "      <td>Aggiudicatario</td>\n",
       "      <td>15-09-2015</td>\n",
       "    </tr>\n",
       "    <tr>\n",
       "      <th>1</th>\n",
       "      <td>ACQUISTO AUTOBUS 2</td>\n",
       "      <td>AUTOBUS GRANDI</td>\n",
       "      <td>6066964911</td>\n",
       "      <td>Convenzione</td>\n",
       "      <td>01267530416</td>\n",
       "      <td>IRIZAR ITALIA SRL</td>\n",
       "      <td>Singola</td>\n",
       "      <td>IRIZAR ITALIA SRL</td>\n",
       "      <td>2</td>\n",
       "      <td>S</td>\n",
       "      <td>Non Aggiudicatario</td>\n",
       "      <td>NaN</td>\n",
       "    </tr>\n",
       "    <tr>\n",
       "      <th>2</th>\n",
       "      <td>ACQUISTO AUTOBUS 2</td>\n",
       "      <td>AUTOBUS GRANDI</td>\n",
       "      <td>6066964911</td>\n",
       "      <td>Convenzione</td>\n",
       "      <td>05942720961</td>\n",
       "      <td>MAN TRUCK &amp; BUS ITALIA S.P.A.</td>\n",
       "      <td>Singola</td>\n",
       "      <td>MAN TRUCK &amp; BUS ITALIA S.P.A.</td>\n",
       "      <td>3</td>\n",
       "      <td>S</td>\n",
       "      <td>Non Aggiudicatario</td>\n",
       "      <td>NaN</td>\n",
       "    </tr>\n",
       "    <tr>\n",
       "      <th>3</th>\n",
       "      <td>ACQUISTO AUTOBUS 2</td>\n",
       "      <td>AUTOBUS MEDI</td>\n",
       "      <td>60668803C1</td>\n",
       "      <td>Convenzione</td>\n",
       "      <td>00758340368</td>\n",
       "      <td>SITCAR S.P.A.</td>\n",
       "      <td>Singola</td>\n",
       "      <td>SITCAR S.P.A.</td>\n",
       "      <td>1</td>\n",
       "      <td>S</td>\n",
       "      <td>Aggiudicatario</td>\n",
       "      <td>15-09-2015</td>\n",
       "    </tr>\n",
       "    <tr>\n",
       "      <th>4</th>\n",
       "      <td>ACQUISTO AUTOBUS 2</td>\n",
       "      <td>AUTOBUS PICCOLI</td>\n",
       "      <td>6066852CA3</td>\n",
       "      <td>Convenzione</td>\n",
       "      <td>01740480023</td>\n",
       "      <td>SALSI CELESTINO &amp; C. S.N.C.</td>\n",
       "      <td>Singola</td>\n",
       "      <td>SALSI CELESTINO &amp; C. S.N.C.</td>\n",
       "      <td>1</td>\n",
       "      <td>S</td>\n",
       "      <td>Non Aggiudicatario</td>\n",
       "      <td>NaN</td>\n",
       "    </tr>\n",
       "  </tbody>\n",
       "</table>\n",
       "</div>"
      ],
      "text/plain": [
       "  #Denominazione_Iniziativa Denominazione_Lotto Identificativo_Lotto  \\\n",
       "0        ACQUISTO AUTOBUS 2      AUTOBUS GRANDI           6066964911   \n",
       "1        ACQUISTO AUTOBUS 2      AUTOBUS GRANDI           6066964911   \n",
       "2        ACQUISTO AUTOBUS 2      AUTOBUS GRANDI           6066964911   \n",
       "3        ACQUISTO AUTOBUS 2        AUTOBUS MEDI           60668803C1   \n",
       "4        ACQUISTO AUTOBUS 2     AUTOBUS PICCOLI           6066852CA3   \n",
       "\n",
       "  Tipo_Strumento  Partita_Iva                Ragione_Sociale  \\\n",
       "0    Convenzione  09709770011                      IVECO SPA   \n",
       "1    Convenzione  01267530416              IRIZAR ITALIA SRL   \n",
       "2    Convenzione  05942720961  MAN TRUCK & BUS ITALIA S.P.A.   \n",
       "3    Convenzione  00758340368                  SITCAR S.P.A.   \n",
       "4    Convenzione  01740480023    SALSI CELESTINO & C. S.N.C.   \n",
       "\n",
       "  Forma_Partecipazione   Denominazione_Partecipazione  \\\n",
       "0              Singola                      IVECO SPA   \n",
       "1              Singola              IRIZAR ITALIA SRL   \n",
       "2              Singola  MAN TRUCK & BUS ITALIA S.P.A.   \n",
       "3              Singola                  SITCAR S.P.A.   \n",
       "4              Singola    SALSI CELESTINO & C. S.N.C.   \n",
       "\n",
       "   Progressivo_Partecipante Flag_Capogruppo Esito_Partecipazione  \\\n",
       "0                         1               S       Aggiudicatario   \n",
       "1                         2               S   Non Aggiudicatario   \n",
       "2                         3               S   Non Aggiudicatario   \n",
       "3                         1               S       Aggiudicatario   \n",
       "4                         1               S   Non Aggiudicatario   \n",
       "\n",
       "  Data_Aggiudicazione/Abilitazione  \n",
       "0                       15-09-2015  \n",
       "1                              NaN  \n",
       "2                              NaN  \n",
       "3                       15-09-2015  \n",
       "4                              NaN  "
      ]
     },
     "execution_count": 24,
     "metadata": {},
     "output_type": "execute_result"
    }
   ],
   "source": [
    "fornitori_1 = pd.read_csv(\n",
    "    \"../input/partecipazioni2019.csv\",\n",
    "    skiprows=0,\n",
    "    encoding=\"ISO-8859-1\",\n",
    "    low_memory=False,\n",
    ")\n",
    "fornitori_1.head()"
   ]
  },
  {
   "cell_type": "code",
   "execution_count": 25,
   "metadata": {
    "ExecuteTime": {
     "end_time": "2020-05-08T07:48:12.177867Z",
     "start_time": "2020-05-08T07:48:12.175181Z"
    }
   },
   "outputs": [
    {
     "data": {
      "text/plain": [
       "(390929, 12)"
      ]
     },
     "execution_count": 25,
     "metadata": {},
     "output_type": "execute_result"
    }
   ],
   "source": [
    "fornitori_1.shape"
   ]
  },
  {
   "cell_type": "markdown",
   "metadata": {},
   "source": [
    "## Esplorando Cataloghi - Cataloghi\n",
    "\n",
    "> Il dataset contiene l’elenco dei beni, servizi e lavori disponibili nel periodo di riferimento tramite le iniziative del Programma per la razionalizzazione degli acquisti. Il dataset è disponibile per l’anno corrente e per i due anni precedenti. Gli aggiornamenti mensili riguardano esclusivamente i dati dell’anno corrente."
   ]
  },
  {
   "cell_type": "code",
   "execution_count": 26,
   "metadata": {
    "ExecuteTime": {
     "end_time": "2020-05-08T07:48:12.221684Z",
     "start_time": "2020-05-08T07:48:12.179417Z"
    }
   },
   "outputs": [
    {
     "data": {
      "text/html": [
       "<div>\n",
       "<style scoped>\n",
       "    .dataframe tbody tr th:only-of-type {\n",
       "        vertical-align: middle;\n",
       "    }\n",
       "\n",
       "    .dataframe tbody tr th {\n",
       "        vertical-align: top;\n",
       "    }\n",
       "\n",
       "    .dataframe thead th {\n",
       "        text-align: right;\n",
       "    }\n",
       "</style>\n",
       "<table border=\"1\" class=\"dataframe\">\n",
       "  <thead>\n",
       "    <tr style=\"text-align: right;\">\n",
       "      <th></th>\n",
       "      <th>#Denominazione_Iniziativa</th>\n",
       "      <th>Denominazione_Lotto</th>\n",
       "      <th>Identificativo_Lotto</th>\n",
       "      <th>Tipo_Strumento</th>\n",
       "      <th>Prodotto</th>\n",
       "      <th>Codice_CPV</th>\n",
       "      <th>Descrizione_CPV</th>\n",
       "      <th>Tipo_Prodotto</th>\n",
       "      <th>Categoria_Merceologica</th>\n",
       "      <th>Descrizione_Dettaglio</th>\n",
       "      <th>Principale_Accessorio</th>\n",
       "      <th>Articolo_Disponibile_Mese_Corrente</th>\n",
       "      <th>Articolo_Disponibile_Anno_Solare</th>\n",
       "    </tr>\n",
       "  </thead>\n",
       "  <tbody>\n",
       "    <tr>\n",
       "      <th>0</th>\n",
       "      <td>ACQUISTO AUTOBUS 3</td>\n",
       "      <td>AUTOBUS EXTRA-URBANO LUNGO CON ALIMENTAZIONE A...</td>\n",
       "      <td>707140432F</td>\n",
       "      <td>Convenzione</td>\n",
       "      <td>AUTOBUS</td>\n",
       "      <td>34121100-2</td>\n",
       "      <td>AUTOBUS PUBBLICI</td>\n",
       "      <td>Bene</td>\n",
       "      <td>Veicoli, mobilità e trasporti</td>\n",
       "      <td>Autobus - Ordinativo di fornitura</td>\n",
       "      <td>Primario</td>\n",
       "      <td>S</td>\n",
       "      <td>S</td>\n",
       "    </tr>\n",
       "    <tr>\n",
       "      <th>1</th>\n",
       "      <td>ACQUISTO AUTOBUS 3</td>\n",
       "      <td>AUTOBUS EXTRA-URBANO LUNGO CON ALIMENTAZIONE A...</td>\n",
       "      <td>707140432F</td>\n",
       "      <td>Convenzione</td>\n",
       "      <td>AUTOBUS</td>\n",
       "      <td>34121100-2</td>\n",
       "      <td>AUTOBUS PUBBLICI</td>\n",
       "      <td>Bene</td>\n",
       "      <td>Veicoli, mobilità e trasporti</td>\n",
       "      <td>Autobus - Pre-ordine</td>\n",
       "      <td>Primario</td>\n",
       "      <td>S</td>\n",
       "      <td>S</td>\n",
       "    </tr>\n",
       "    <tr>\n",
       "      <th>2</th>\n",
       "      <td>ACQUISTO AUTOBUS 3</td>\n",
       "      <td>AUTOBUS EXTRA-URBANO LUNGO CON ALIMENTAZIONE A...</td>\n",
       "      <td>707140432F</td>\n",
       "      <td>Convenzione</td>\n",
       "      <td>BENI OPZIONALI PER AUTOBUS</td>\n",
       "      <td>34121100-2</td>\n",
       "      <td>AUTOBUS PUBBLICI</td>\n",
       "      <td>Bene</td>\n",
       "      <td>Veicoli, mobilità e trasporti</td>\n",
       "      <td>Cabine protezione conducente - Ordinativo di f...</td>\n",
       "      <td>Secondario</td>\n",
       "      <td>S</td>\n",
       "      <td>S</td>\n",
       "    </tr>\n",
       "    <tr>\n",
       "      <th>3</th>\n",
       "      <td>ACQUISTO AUTOBUS 3</td>\n",
       "      <td>AUTOBUS EXTRA-URBANO LUNGO CON ALIMENTAZIONE A...</td>\n",
       "      <td>707140432F</td>\n",
       "      <td>Convenzione</td>\n",
       "      <td>BENI OPZIONALI PER AUTOBUS</td>\n",
       "      <td>34121100-2</td>\n",
       "      <td>AUTOBUS PUBBLICI</td>\n",
       "      <td>Bene</td>\n",
       "      <td>Veicoli, mobilità e trasporti</td>\n",
       "      <td>Cabine protezione conducente - Pre-ordine</td>\n",
       "      <td>Secondario</td>\n",
       "      <td>S</td>\n",
       "      <td>S</td>\n",
       "    </tr>\n",
       "    <tr>\n",
       "      <th>4</th>\n",
       "      <td>ACQUISTO AUTOBUS 3</td>\n",
       "      <td>AUTOBUS EXTRA-URBANO LUNGO CON ALIMENTAZIONE A...</td>\n",
       "      <td>707140432F</td>\n",
       "      <td>Convenzione</td>\n",
       "      <td>BENI OPZIONALI PER AUTOBUS</td>\n",
       "      <td>34121100-2</td>\n",
       "      <td>AUTOBUS PUBBLICI</td>\n",
       "      <td>Bene</td>\n",
       "      <td>Veicoli, mobilità e trasporti</td>\n",
       "      <td>Conta passeggeri - Ordinativo di fornitura</td>\n",
       "      <td>Secondario</td>\n",
       "      <td>S</td>\n",
       "      <td>S</td>\n",
       "    </tr>\n",
       "  </tbody>\n",
       "</table>\n",
       "</div>"
      ],
      "text/plain": [
       "  #Denominazione_Iniziativa  \\\n",
       "0        ACQUISTO AUTOBUS 3   \n",
       "1        ACQUISTO AUTOBUS 3   \n",
       "2        ACQUISTO AUTOBUS 3   \n",
       "3        ACQUISTO AUTOBUS 3   \n",
       "4        ACQUISTO AUTOBUS 3   \n",
       "\n",
       "                                 Denominazione_Lotto Identificativo_Lotto  \\\n",
       "0  AUTOBUS EXTRA-URBANO LUNGO CON ALIMENTAZIONE A...           707140432F   \n",
       "1  AUTOBUS EXTRA-URBANO LUNGO CON ALIMENTAZIONE A...           707140432F   \n",
       "2  AUTOBUS EXTRA-URBANO LUNGO CON ALIMENTAZIONE A...           707140432F   \n",
       "3  AUTOBUS EXTRA-URBANO LUNGO CON ALIMENTAZIONE A...           707140432F   \n",
       "4  AUTOBUS EXTRA-URBANO LUNGO CON ALIMENTAZIONE A...           707140432F   \n",
       "\n",
       "  Tipo_Strumento                    Prodotto  Codice_CPV   Descrizione_CPV  \\\n",
       "0    Convenzione                     AUTOBUS  34121100-2  AUTOBUS PUBBLICI   \n",
       "1    Convenzione                     AUTOBUS  34121100-2  AUTOBUS PUBBLICI   \n",
       "2    Convenzione  BENI OPZIONALI PER AUTOBUS  34121100-2  AUTOBUS PUBBLICI   \n",
       "3    Convenzione  BENI OPZIONALI PER AUTOBUS  34121100-2  AUTOBUS PUBBLICI   \n",
       "4    Convenzione  BENI OPZIONALI PER AUTOBUS  34121100-2  AUTOBUS PUBBLICI   \n",
       "\n",
       "  Tipo_Prodotto         Categoria_Merceologica  \\\n",
       "0          Bene  Veicoli, mobilità e trasporti   \n",
       "1          Bene  Veicoli, mobilità e trasporti   \n",
       "2          Bene  Veicoli, mobilità e trasporti   \n",
       "3          Bene  Veicoli, mobilità e trasporti   \n",
       "4          Bene  Veicoli, mobilità e trasporti   \n",
       "\n",
       "                               Descrizione_Dettaglio Principale_Accessorio  \\\n",
       "0                  Autobus - Ordinativo di fornitura              Primario   \n",
       "1                               Autobus - Pre-ordine              Primario   \n",
       "2  Cabine protezione conducente - Ordinativo di f...            Secondario   \n",
       "3          Cabine protezione conducente - Pre-ordine            Secondario   \n",
       "4         Conta passeggeri - Ordinativo di fornitura            Secondario   \n",
       "\n",
       "  Articolo_Disponibile_Mese_Corrente Articolo_Disponibile_Anno_Solare  \n",
       "0                                  S                                S  \n",
       "1                                  S                                S  \n",
       "2                                  S                                S  \n",
       "3                                  S                                S  \n",
       "4                                  S                                S  "
      ]
     },
     "execution_count": 26,
     "metadata": {},
     "output_type": "execute_result"
    }
   ],
   "source": [
    "cataloghi_0 = pd.read_csv(\n",
    "    \"../input/cataloghi2019.csv\",\n",
    "    skiprows=0,\n",
    "    encoding=\"ISO-8859-1\",\n",
    "    low_memory=False,\n",
    ")\n",
    "cataloghi_0.head()"
   ]
  },
  {
   "cell_type": "code",
   "execution_count": 27,
   "metadata": {
    "ExecuteTime": {
     "end_time": "2020-05-08T07:48:12.225838Z",
     "start_time": "2020-05-08T07:48:12.222784Z"
    }
   },
   "outputs": [
    {
     "data": {
      "text/plain": [
       "(7119, 13)"
      ]
     },
     "execution_count": 27,
     "metadata": {},
     "output_type": "execute_result"
    }
   ],
   "source": [
    "cataloghi_0.shape"
   ]
  },
  {
   "cell_type": "markdown",
   "metadata": {},
   "source": [
    "## Esplorando cataloghi\n",
    "\n",
    "Data not available for 2019."
   ]
  },
  {
   "cell_type": "markdown",
   "metadata": {},
   "source": [
    "## Esplorando Appalti - Appalti Specifici banditi su accordi quadro\n",
    "\n",
    "> Il dataset contiene informazioni di sintesi degli Appalti Specifici pubblicati nell’ambito di un Accordo Quadro. Il dataset consente di analizzare la domanda della PA in termini di: valore economico delle basi d’asta degli AS pubblicati, numero di AS pubblicati, numero di PA appaltanti, numero punti ordinanti, durata media della fornitura. I dati sono aggregati rispetto all’anno di riferimento, all’AQ e relativo Lotto, alla tipologia e alla provincia di appartenenza dell’amministrazione che ha pubblicato l’appalto specifico. Trattandosi di dati aggregati, non tutti gli indicatori sono additivi."
   ]
  },
  {
   "cell_type": "code",
   "execution_count": 28,
   "metadata": {
    "ExecuteTime": {
     "end_time": "2020-05-08T07:48:12.251193Z",
     "start_time": "2020-05-08T07:48:12.227053Z"
    }
   },
   "outputs": [
    {
     "data": {
      "text/html": [
       "<div>\n",
       "<style scoped>\n",
       "    .dataframe tbody tr th:only-of-type {\n",
       "        vertical-align: middle;\n",
       "    }\n",
       "\n",
       "    .dataframe tbody tr th {\n",
       "        vertical-align: top;\n",
       "    }\n",
       "\n",
       "    .dataframe thead th {\n",
       "        text-align: right;\n",
       "    }\n",
       "</style>\n",
       "<table border=\"1\" class=\"dataframe\">\n",
       "  <thead>\n",
       "    <tr style=\"text-align: right;\">\n",
       "      <th></th>\n",
       "      <th>#Anno_Riferimento</th>\n",
       "      <th>Tipologia_Amministrazione</th>\n",
       "      <th>AQ</th>\n",
       "      <th>Lotto</th>\n",
       "      <th>Regione_PA</th>\n",
       "      <th>Provincia_PA</th>\n",
       "      <th>Sigla_provincia_PA</th>\n",
       "      <th>Durata_media_fornitura</th>\n",
       "      <th>Valore_economico_Base_Asta</th>\n",
       "      <th>N_PA_Appaltanti</th>\n",
       "      <th>N_PO</th>\n",
       "      <th>N_AS_Pubblicati</th>\n",
       "    </tr>\n",
       "  </thead>\n",
       "  <tbody>\n",
       "    <tr>\n",
       "      <th>0</th>\n",
       "      <td>2019</td>\n",
       "      <td>COMUNI</td>\n",
       "      <td>SERVIZI APPLICATIVI</td>\n",
       "      <td>LOTTO 3 - SUD ITALIA E ISOLE</td>\n",
       "      <td>PUGLIA</td>\n",
       "      <td>BARI</td>\n",
       "      <td>BA</td>\n",
       "      <td>0</td>\n",
       "      <td>831236,1</td>\n",
       "      <td>1</td>\n",
       "      <td>1</td>\n",
       "      <td>3</td>\n",
       "    </tr>\n",
       "    <tr>\n",
       "      <th>1</th>\n",
       "      <td>2019</td>\n",
       "      <td>COMUNI</td>\n",
       "      <td>SERVIZI APPLICATIVI</td>\n",
       "      <td>LOTTO 3 - SUD ITALIA E ISOLE</td>\n",
       "      <td>PUGLIA</td>\n",
       "      <td>LECCE</td>\n",
       "      <td>LE</td>\n",
       "      <td>0</td>\n",
       "      <td>429585,6</td>\n",
       "      <td>1</td>\n",
       "      <td>1</td>\n",
       "      <td>1</td>\n",
       "    </tr>\n",
       "    <tr>\n",
       "      <th>2</th>\n",
       "      <td>2019</td>\n",
       "      <td>COMUNI</td>\n",
       "      <td>SERVIZI APPLICATIVI</td>\n",
       "      <td>LOTTO 3 - SUD ITALIA E ISOLE</td>\n",
       "      <td>SICILIA</td>\n",
       "      <td>CATANIA</td>\n",
       "      <td>CT</td>\n",
       "      <td>48</td>\n",
       "      <td>178014,38</td>\n",
       "      <td>1</td>\n",
       "      <td>1</td>\n",
       "      <td>1</td>\n",
       "    </tr>\n",
       "    <tr>\n",
       "      <th>3</th>\n",
       "      <td>2019</td>\n",
       "      <td>COMUNI</td>\n",
       "      <td>SERVIZI APPLICATIVI</td>\n",
       "      <td>LOTTO 3 - SUD ITALIA E ISOLE</td>\n",
       "      <td>SICILIA</td>\n",
       "      <td>MESSINA</td>\n",
       "      <td>ME</td>\n",
       "      <td>4,8</td>\n",
       "      <td>1757116,11</td>\n",
       "      <td>1</td>\n",
       "      <td>2</td>\n",
       "      <td>10</td>\n",
       "    </tr>\n",
       "    <tr>\n",
       "      <th>4</th>\n",
       "      <td>2019</td>\n",
       "      <td>COMUNI</td>\n",
       "      <td>SERVIZI APPLICATIVI</td>\n",
       "      <td>LOTTO 3 - SUD ITALIA E ISOLE</td>\n",
       "      <td>SICILIA</td>\n",
       "      <td>TRAPANI</td>\n",
       "      <td>TP</td>\n",
       "      <td>0</td>\n",
       "      <td>259000</td>\n",
       "      <td>1</td>\n",
       "      <td>1</td>\n",
       "      <td>1</td>\n",
       "    </tr>\n",
       "  </tbody>\n",
       "</table>\n",
       "</div>"
      ],
      "text/plain": [
       "   #Anno_Riferimento Tipologia_Amministrazione                   AQ  \\\n",
       "0               2019                    COMUNI  SERVIZI APPLICATIVI   \n",
       "1               2019                    COMUNI  SERVIZI APPLICATIVI   \n",
       "2               2019                    COMUNI  SERVIZI APPLICATIVI   \n",
       "3               2019                    COMUNI  SERVIZI APPLICATIVI   \n",
       "4               2019                    COMUNI  SERVIZI APPLICATIVI   \n",
       "\n",
       "                          Lotto Regione_PA Provincia_PA Sigla_provincia_PA  \\\n",
       "0  LOTTO 3 - SUD ITALIA E ISOLE     PUGLIA         BARI                 BA   \n",
       "1  LOTTO 3 - SUD ITALIA E ISOLE     PUGLIA        LECCE                 LE   \n",
       "2  LOTTO 3 - SUD ITALIA E ISOLE    SICILIA      CATANIA                 CT   \n",
       "3  LOTTO 3 - SUD ITALIA E ISOLE    SICILIA      MESSINA                 ME   \n",
       "4  LOTTO 3 - SUD ITALIA E ISOLE    SICILIA      TRAPANI                 TP   \n",
       "\n",
       "  Durata_media_fornitura Valore_economico_Base_Asta  N_PA_Appaltanti  N_PO  \\\n",
       "0                      0                   831236,1                1     1   \n",
       "1                      0                   429585,6                1     1   \n",
       "2                     48                  178014,38                1     1   \n",
       "3                    4,8                 1757116,11                1     2   \n",
       "4                      0                     259000                1     1   \n",
       "\n",
       "   N_AS_Pubblicati  \n",
       "0                3  \n",
       "1                1  \n",
       "2                1  \n",
       "3               10  \n",
       "4                1  "
      ]
     },
     "execution_count": 28,
     "metadata": {},
     "output_type": "execute_result"
    }
   ],
   "source": [
    "appalti_0 = pd.read_csv(\n",
    "    \"../input/as-aq-banditi-2019.csv\",\n",
    "    skiprows=0,\n",
    "    encoding=\"ISO-8859-1\",\n",
    "    low_memory=False,\n",
    ")\n",
    "appalti_0.head()"
   ]
  },
  {
   "cell_type": "code",
   "execution_count": 29,
   "metadata": {
    "ExecuteTime": {
     "end_time": "2020-05-08T07:48:12.255260Z",
     "start_time": "2020-05-08T07:48:12.252373Z"
    }
   },
   "outputs": [
    {
     "data": {
      "text/plain": [
       "(28, 12)"
      ]
     },
     "execution_count": 29,
     "metadata": {},
     "output_type": "execute_result"
    }
   ],
   "source": [
    "appalti_0.shape"
   ]
  },
  {
   "cell_type": "markdown",
   "metadata": {},
   "source": [
    "## Esplorando Appalti - Appalti specifici banditi su sistema dinamico di acquisizione\n",
    "\n",
    "> Il dataset contiene informazioni di sintesi degli Appalti Specifici pubblicati nell’ambito di un bando su Sistema Dinamico di Acquisizione. Il dataset consente di analizzare la domanda della PA in termini di: valore economico delle basi d’asta degli AS pubblicati, numero AS pubblicati, numero PA appaltanti, numero punti ordinanti, durata media della fornitura. I dati sono aggregati rispetto all’anno di riferimento, al Bando Istitutivo, alla tipologia e provincia di appartenenza dell’amministrazione che ha pubblicato l’AS. Trattandosi di dati aggregati, non tutti gli indicatori sono additivi."
   ]
  },
  {
   "cell_type": "code",
   "execution_count": 30,
   "metadata": {
    "ExecuteTime": {
     "end_time": "2020-05-08T07:48:12.281922Z",
     "start_time": "2020-05-08T07:48:12.256225Z"
    }
   },
   "outputs": [
    {
     "data": {
      "text/html": [
       "<div>\n",
       "<style scoped>\n",
       "    .dataframe tbody tr th:only-of-type {\n",
       "        vertical-align: middle;\n",
       "    }\n",
       "\n",
       "    .dataframe tbody tr th {\n",
       "        vertical-align: top;\n",
       "    }\n",
       "\n",
       "    .dataframe thead th {\n",
       "        text-align: right;\n",
       "    }\n",
       "</style>\n",
       "<table border=\"1\" class=\"dataframe\">\n",
       "  <thead>\n",
       "    <tr style=\"text-align: right;\">\n",
       "      <th></th>\n",
       "      <th>#Anno_Riferimento</th>\n",
       "      <th>Tipologia_Amministrazione</th>\n",
       "      <th>Regione_PA</th>\n",
       "      <th>Provincia_PA</th>\n",
       "      <th>Sigla_provincia_PA</th>\n",
       "      <th>Bando_SDA</th>\n",
       "      <th>Valore_economico_Base_Asta</th>\n",
       "      <th>Durata_media_fornitura</th>\n",
       "      <th>N_AS_Pubblicati</th>\n",
       "      <th>N_PA_Appaltanti</th>\n",
       "      <th>N_PO</th>\n",
       "    </tr>\n",
       "  </thead>\n",
       "  <tbody>\n",
       "    <tr>\n",
       "      <th>0</th>\n",
       "      <td>2019</td>\n",
       "      <td>COMUNI</td>\n",
       "      <td>LAZIO</td>\n",
       "      <td>ROMA</td>\n",
       "      <td>RM</td>\n",
       "      <td>ARREDI</td>\n",
       "      <td>725806,45</td>\n",
       "      <td>36</td>\n",
       "      <td>1</td>\n",
       "      <td>1</td>\n",
       "      <td>1</td>\n",
       "    </tr>\n",
       "    <tr>\n",
       "      <th>1</th>\n",
       "      <td>2019</td>\n",
       "      <td>COMUNI</td>\n",
       "      <td>LAZIO</td>\n",
       "      <td>ROMA</td>\n",
       "      <td>RM</td>\n",
       "      <td>ICT - SDAPA</td>\n",
       "      <td>420000</td>\n",
       "      <td>12</td>\n",
       "      <td>1</td>\n",
       "      <td>1</td>\n",
       "      <td>1</td>\n",
       "    </tr>\n",
       "    <tr>\n",
       "      <th>2</th>\n",
       "      <td>2019</td>\n",
       "      <td>COMUNI</td>\n",
       "      <td>LAZIO</td>\n",
       "      <td>ROMA</td>\n",
       "      <td>RM</td>\n",
       "      <td>SERVIZI DI PULIZIA E IGIENE AMBIENTALE</td>\n",
       "      <td>1146950,48</td>\n",
       "      <td>36</td>\n",
       "      <td>2</td>\n",
       "      <td>1</td>\n",
       "      <td>1</td>\n",
       "    </tr>\n",
       "    <tr>\n",
       "      <th>3</th>\n",
       "      <td>2019</td>\n",
       "      <td>COMUNI</td>\n",
       "      <td>LAZIO</td>\n",
       "      <td>ROMA</td>\n",
       "      <td>RM</td>\n",
       "      <td>SERVIZI POSTALI, SERVIZI DI CONSEGNA PLICHI E ...</td>\n",
       "      <td>472000</td>\n",
       "      <td>2</td>\n",
       "      <td>2</td>\n",
       "      <td>1</td>\n",
       "      <td>1</td>\n",
       "    </tr>\n",
       "    <tr>\n",
       "      <th>4</th>\n",
       "      <td>2019</td>\n",
       "      <td>COMUNI</td>\n",
       "      <td>ABRUZZO</td>\n",
       "      <td>L'AQUILA</td>\n",
       "      <td>AQ</td>\n",
       "      <td>SERVIZI DI MANUTENZIONE DEGLI IMPIANTI ELEVATORI</td>\n",
       "      <td>1389960</td>\n",
       "      <td>36</td>\n",
       "      <td>1</td>\n",
       "      <td>1</td>\n",
       "      <td>1</td>\n",
       "    </tr>\n",
       "  </tbody>\n",
       "</table>\n",
       "</div>"
      ],
      "text/plain": [
       "   #Anno_Riferimento Tipologia_Amministrazione Regione_PA Provincia_PA  \\\n",
       "0               2019                    COMUNI      LAZIO         ROMA   \n",
       "1               2019                    COMUNI      LAZIO         ROMA   \n",
       "2               2019                    COMUNI      LAZIO         ROMA   \n",
       "3               2019                    COMUNI      LAZIO         ROMA   \n",
       "4               2019                    COMUNI    ABRUZZO     L'AQUILA   \n",
       "\n",
       "  Sigla_provincia_PA                                          Bando_SDA  \\\n",
       "0                 RM                                             ARREDI   \n",
       "1                 RM                                        ICT - SDAPA   \n",
       "2                 RM             SERVIZI DI PULIZIA E IGIENE AMBIENTALE   \n",
       "3                 RM  SERVIZI POSTALI, SERVIZI DI CONSEGNA PLICHI E ...   \n",
       "4                 AQ   SERVIZI DI MANUTENZIONE DEGLI IMPIANTI ELEVATORI   \n",
       "\n",
       "  Valore_economico_Base_Asta Durata_media_fornitura  N_AS_Pubblicati  \\\n",
       "0                  725806,45                     36                1   \n",
       "1                     420000                     12                1   \n",
       "2                 1146950,48                     36                2   \n",
       "3                     472000                      2                2   \n",
       "4                    1389960                     36                1   \n",
       "\n",
       "   N_PA_Appaltanti  N_PO  \n",
       "0                1     1  \n",
       "1                1     1  \n",
       "2                1     1  \n",
       "3                1     1  \n",
       "4                1     1  "
      ]
     },
     "execution_count": 30,
     "metadata": {},
     "output_type": "execute_result"
    }
   ],
   "source": [
    "appalti_1 = pd.read_csv(\n",
    "    \"../input/as-sda-banditi-2019.csv\",\n",
    "    skiprows=0,\n",
    "    encoding=\"ISO-8859-1\",\n",
    "    low_memory=False,\n",
    ")\n",
    "appalti_1.head()"
   ]
  },
  {
   "cell_type": "code",
   "execution_count": 31,
   "metadata": {
    "ExecuteTime": {
     "end_time": "2020-05-08T07:48:12.285751Z",
     "start_time": "2020-05-08T07:48:12.283087Z"
    }
   },
   "outputs": [
    {
     "data": {
      "text/plain": [
       "(190, 11)"
      ]
     },
     "execution_count": 31,
     "metadata": {},
     "output_type": "execute_result"
    }
   ],
   "source": [
    "appalti_1.shape"
   ]
  },
  {
   "cell_type": "markdown",
   "metadata": {},
   "source": [
    "## Esplorando Appalti - Beni e servizi richiesti\n",
    "\n",
    "> Il dataset contiene informazioni di sintesi dei beni e servizi richiesti dalle PA tramite RdO/TD bandite sul Mepa. Il dataset consente di analizzare la domanda della PA in termini di: numero PA appaltanti, numero punti ordinanti, numero RdO/TD pubblicate. I dati sono aggregati rispetto all’anno di riferimento, alla tipologia e provincia dell’amministrazione che ha pubblicato RdO/TD, alla classificazione CPV dei beni e servizi, al bando Mepa e relativa categoria di abilitazione su cui sono disponibili tali beni e servizi, al tipo negoziazione (RdO/TD). Trattandosi di dati aggregati, non tutti gli indicatori sono additivi."
   ]
  },
  {
   "cell_type": "code",
   "execution_count": 32,
   "metadata": {
    "ExecuteTime": {
     "end_time": "2020-05-08T07:48:12.524357Z",
     "start_time": "2020-05-08T07:48:12.286935Z"
    }
   },
   "outputs": [
    {
     "data": {
      "text/html": [
       "<div>\n",
       "<style scoped>\n",
       "    .dataframe tbody tr th:only-of-type {\n",
       "        vertical-align: middle;\n",
       "    }\n",
       "\n",
       "    .dataframe tbody tr th {\n",
       "        vertical-align: top;\n",
       "    }\n",
       "\n",
       "    .dataframe thead th {\n",
       "        text-align: right;\n",
       "    }\n",
       "</style>\n",
       "<table border=\"1\" class=\"dataframe\">\n",
       "  <thead>\n",
       "    <tr style=\"text-align: right;\">\n",
       "      <th></th>\n",
       "      <th>#Anno_Riferimento</th>\n",
       "      <th>Tipologia_Amministrazione</th>\n",
       "      <th>Regione_PA</th>\n",
       "      <th>Provincia_PA</th>\n",
       "      <th>Sigla_provincia_PA</th>\n",
       "      <th>Tipo_negoziazione</th>\n",
       "      <th>Bando_Mepa</th>\n",
       "      <th>Categoria_abilitazione</th>\n",
       "      <th>bene_servizio</th>\n",
       "      <th>codice_CPV</th>\n",
       "      <th>descrizione_CPV</th>\n",
       "      <th>N_Negoziazioni_pubblicate</th>\n",
       "      <th>N_PA_Appaltanti</th>\n",
       "      <th>N_PO</th>\n",
       "    </tr>\n",
       "  </thead>\n",
       "  <tbody>\n",
       "    <tr>\n",
       "      <th>0</th>\n",
       "      <td>2019</td>\n",
       "      <td>AZIENDE OSPEDALIERE, POLICLINICI, IRCCS e ISTI...</td>\n",
       "      <td>LAZIO</td>\n",
       "      <td>ROMA</td>\n",
       "      <td>RM</td>\n",
       "      <td>TD</td>\n",
       "      <td>BENI</td>\n",
       "      <td>CANCELLERIA, CARTA, CONSUMABILI DA STAMPA E PR...</td>\n",
       "      <td>FOGLIETTI RIPOSIZIONABILI</td>\n",
       "      <td>22816300-6</td>\n",
       "      <td>BLOCCHETTI PER APPUNTI CON FOGLI ADESIVI</td>\n",
       "      <td>6</td>\n",
       "      <td>1</td>\n",
       "      <td>1</td>\n",
       "    </tr>\n",
       "    <tr>\n",
       "      <th>1</th>\n",
       "      <td>2019</td>\n",
       "      <td>AZIENDE OSPEDALIERE, POLICLINICI, IRCCS e ISTI...</td>\n",
       "      <td>LAZIO</td>\n",
       "      <td>ROMA</td>\n",
       "      <td>RM</td>\n",
       "      <td>TD</td>\n",
       "      <td>BENI</td>\n",
       "      <td>CANCELLERIA, CARTA, CONSUMABILI DA STAMPA E PR...</td>\n",
       "      <td>BUSTE IN PLASTICA CON E SENZA FORATURA UNIVERSALE</td>\n",
       "      <td>30199230-1</td>\n",
       "      <td>BUSTE</td>\n",
       "      <td>1</td>\n",
       "      <td>1</td>\n",
       "      <td>1</td>\n",
       "    </tr>\n",
       "    <tr>\n",
       "      <th>2</th>\n",
       "      <td>2019</td>\n",
       "      <td>AZIENDE OSPEDALIERE, POLICLINICI, IRCCS e ISTI...</td>\n",
       "      <td>SICILIA</td>\n",
       "      <td>MESSINA</td>\n",
       "      <td>ME</td>\n",
       "      <td>TD</td>\n",
       "      <td>BENI</td>\n",
       "      <td>CANCELLERIA, CARTA, CONSUMABILI DA STAMPA E PR...</td>\n",
       "      <td>BUSTE IN PLASTICA CON E SENZA FORATURA UNIVERSALE</td>\n",
       "      <td>30199230-1</td>\n",
       "      <td>BUSTE</td>\n",
       "      <td>1</td>\n",
       "      <td>1</td>\n",
       "      <td>1</td>\n",
       "    </tr>\n",
       "    <tr>\n",
       "      <th>3</th>\n",
       "      <td>2019</td>\n",
       "      <td>AZIENDE OSPEDALIERE, POLICLINICI, IRCCS e ISTI...</td>\n",
       "      <td>TOSCANA</td>\n",
       "      <td>FIRENZE</td>\n",
       "      <td>FI</td>\n",
       "      <td>TD</td>\n",
       "      <td>BENI</td>\n",
       "      <td>CANCELLERIA, CARTA, CONSUMABILI DA STAMPA E PR...</td>\n",
       "      <td>BUSTE IN PLASTICA CON E SENZA FORATURA UNIVERSALE</td>\n",
       "      <td>30199230-1</td>\n",
       "      <td>BUSTE</td>\n",
       "      <td>1</td>\n",
       "      <td>1</td>\n",
       "      <td>1</td>\n",
       "    </tr>\n",
       "    <tr>\n",
       "      <th>4</th>\n",
       "      <td>2019</td>\n",
       "      <td>AZIENDE OSPEDALIERE, POLICLINICI, IRCCS e ISTI...</td>\n",
       "      <td>UMBRIA</td>\n",
       "      <td>PERUGIA</td>\n",
       "      <td>PG</td>\n",
       "      <td>TD</td>\n",
       "      <td>BENI</td>\n",
       "      <td>CANCELLERIA, CARTA, CONSUMABILI DA STAMPA E PR...</td>\n",
       "      <td>CASSETTE BACK-UP</td>\n",
       "      <td>30234000-8</td>\n",
       "      <td>SUPPORTI DI MEMORIZZAZIONE</td>\n",
       "      <td>1</td>\n",
       "      <td>1</td>\n",
       "      <td>1</td>\n",
       "    </tr>\n",
       "  </tbody>\n",
       "</table>\n",
       "</div>"
      ],
      "text/plain": [
       "   #Anno_Riferimento                          Tipologia_Amministrazione  \\\n",
       "0               2019  AZIENDE OSPEDALIERE, POLICLINICI, IRCCS e ISTI...   \n",
       "1               2019  AZIENDE OSPEDALIERE, POLICLINICI, IRCCS e ISTI...   \n",
       "2               2019  AZIENDE OSPEDALIERE, POLICLINICI, IRCCS e ISTI...   \n",
       "3               2019  AZIENDE OSPEDALIERE, POLICLINICI, IRCCS e ISTI...   \n",
       "4               2019  AZIENDE OSPEDALIERE, POLICLINICI, IRCCS e ISTI...   \n",
       "\n",
       "  Regione_PA Provincia_PA Sigla_provincia_PA Tipo_negoziazione Bando_Mepa  \\\n",
       "0      LAZIO         ROMA                 RM                TD       BENI   \n",
       "1      LAZIO         ROMA                 RM                TD       BENI   \n",
       "2    SICILIA      MESSINA                 ME                TD       BENI   \n",
       "3    TOSCANA      FIRENZE                 FI                TD       BENI   \n",
       "4     UMBRIA      PERUGIA                 PG                TD       BENI   \n",
       "\n",
       "                              Categoria_abilitazione  \\\n",
       "0  CANCELLERIA, CARTA, CONSUMABILI DA STAMPA E PR...   \n",
       "1  CANCELLERIA, CARTA, CONSUMABILI DA STAMPA E PR...   \n",
       "2  CANCELLERIA, CARTA, CONSUMABILI DA STAMPA E PR...   \n",
       "3  CANCELLERIA, CARTA, CONSUMABILI DA STAMPA E PR...   \n",
       "4  CANCELLERIA, CARTA, CONSUMABILI DA STAMPA E PR...   \n",
       "\n",
       "                                       bene_servizio  codice_CPV  \\\n",
       "0                          FOGLIETTI RIPOSIZIONABILI  22816300-6   \n",
       "1  BUSTE IN PLASTICA CON E SENZA FORATURA UNIVERSALE  30199230-1   \n",
       "2  BUSTE IN PLASTICA CON E SENZA FORATURA UNIVERSALE  30199230-1   \n",
       "3  BUSTE IN PLASTICA CON E SENZA FORATURA UNIVERSALE  30199230-1   \n",
       "4                                   CASSETTE BACK-UP  30234000-8   \n",
       "\n",
       "                            descrizione_CPV  N_Negoziazioni_pubblicate  \\\n",
       "0  BLOCCHETTI PER APPUNTI CON FOGLI ADESIVI                          6   \n",
       "1                                     BUSTE                          1   \n",
       "2                                     BUSTE                          1   \n",
       "3                                     BUSTE                          1   \n",
       "4                SUPPORTI DI MEMORIZZAZIONE                          1   \n",
       "\n",
       "   N_PA_Appaltanti  N_PO  \n",
       "0                1     1  \n",
       "1                1     1  \n",
       "2                1     1  \n",
       "3                1     1  \n",
       "4                1     1  "
      ]
     },
     "execution_count": 32,
     "metadata": {},
     "output_type": "execute_result"
    }
   ],
   "source": [
    "appalti_2 = pd.read_csv(\n",
    "    \"../input/beni-servizi-rdo-td-bandite-mepa-2019.csv\",\n",
    "    skiprows=0,\n",
    "    encoding=\"ISO-8859-1\",\n",
    "    low_memory=False,\n",
    ")\n",
    "appalti_2.head()"
   ]
  },
  {
   "cell_type": "code",
   "execution_count": 33,
   "metadata": {
    "ExecuteTime": {
     "end_time": "2020-05-08T07:48:12.528380Z",
     "start_time": "2020-05-08T07:48:12.525577Z"
    }
   },
   "outputs": [
    {
     "data": {
      "text/plain": [
       "(113760, 14)"
      ]
     },
     "execution_count": 33,
     "metadata": {},
     "output_type": "execute_result"
    }
   ],
   "source": [
    "appalti_2.shape"
   ]
  },
  {
   "cell_type": "markdown",
   "metadata": {},
   "source": [
    "## Esplorando Appalti - Richiesta di offerta/trattativa sul MEPA"
   ]
  },
  {
   "cell_type": "code",
   "execution_count": 34,
   "metadata": {
    "ExecuteTime": {
     "end_time": "2020-05-08T07:48:12.563884Z",
     "start_time": "2020-05-08T07:48:12.529629Z"
    }
   },
   "outputs": [
    {
     "data": {
      "text/html": [
       "<div>\n",
       "<style scoped>\n",
       "    .dataframe tbody tr th:only-of-type {\n",
       "        vertical-align: middle;\n",
       "    }\n",
       "\n",
       "    .dataframe tbody tr th {\n",
       "        vertical-align: top;\n",
       "    }\n",
       "\n",
       "    .dataframe thead th {\n",
       "        text-align: right;\n",
       "    }\n",
       "</style>\n",
       "<table border=\"1\" class=\"dataframe\">\n",
       "  <thead>\n",
       "    <tr style=\"text-align: right;\">\n",
       "      <th></th>\n",
       "      <th>#Anno_Riferimento</th>\n",
       "      <th>Tipologia_Amministrazione</th>\n",
       "      <th>Regione_PA</th>\n",
       "      <th>Provincia_PA</th>\n",
       "      <th>Sigla_provincia_PA</th>\n",
       "      <th>Tipo_negoziazione</th>\n",
       "      <th>N_Negoziazioni_Pubblicate</th>\n",
       "      <th>Valore_economico_Base_Asta</th>\n",
       "      <th>Perc_Negoziazioni_base_asta</th>\n",
       "      <th>Perc_RdO_con_invito_selettivo</th>\n",
       "      <th>N_medio_fornitori_invitati</th>\n",
       "      <th>Tempo_medio_offerte</th>\n",
       "      <th>N_PA_Appaltanti</th>\n",
       "      <th>N_PO</th>\n",
       "    </tr>\n",
       "  </thead>\n",
       "  <tbody>\n",
       "    <tr>\n",
       "      <th>0</th>\n",
       "      <td>2019</td>\n",
       "      <td>COMUNI</td>\n",
       "      <td>LAZIO</td>\n",
       "      <td>FROSINONE</td>\n",
       "      <td>FR</td>\n",
       "      <td>RdO</td>\n",
       "      <td>106</td>\n",
       "      <td>5400325,14</td>\n",
       "      <td>NaN</td>\n",
       "      <td>74,5283018867924</td>\n",
       "      <td>3,44303797468354</td>\n",
       "      <td>8,57</td>\n",
       "      <td>26</td>\n",
       "      <td>40</td>\n",
       "    </tr>\n",
       "    <tr>\n",
       "      <th>1</th>\n",
       "      <td>2019</td>\n",
       "      <td>COMUNI</td>\n",
       "      <td>LAZIO</td>\n",
       "      <td>LATINA</td>\n",
       "      <td>LT</td>\n",
       "      <td>RdO</td>\n",
       "      <td>282</td>\n",
       "      <td>29067916,81</td>\n",
       "      <td>NaN</td>\n",
       "      <td>72,027972027972</td>\n",
       "      <td>49,2330097087379</td>\n",
       "      <td>15,53</td>\n",
       "      <td>27</td>\n",
       "      <td>74</td>\n",
       "    </tr>\n",
       "    <tr>\n",
       "      <th>2</th>\n",
       "      <td>2019</td>\n",
       "      <td>COMUNI</td>\n",
       "      <td>LAZIO</td>\n",
       "      <td>RIETI</td>\n",
       "      <td>RI</td>\n",
       "      <td>RdO</td>\n",
       "      <td>61</td>\n",
       "      <td>2764668,6</td>\n",
       "      <td>NaN</td>\n",
       "      <td>85,2459016393443</td>\n",
       "      <td>3,84615384615385</td>\n",
       "      <td>9,25</td>\n",
       "      <td>17</td>\n",
       "      <td>24</td>\n",
       "    </tr>\n",
       "    <tr>\n",
       "      <th>3</th>\n",
       "      <td>2019</td>\n",
       "      <td>COMUNI</td>\n",
       "      <td>LAZIO</td>\n",
       "      <td>ROMA</td>\n",
       "      <td>RM</td>\n",
       "      <td>RdO</td>\n",
       "      <td>1610</td>\n",
       "      <td>224445617,47</td>\n",
       "      <td>NaN</td>\n",
       "      <td>83,3022967101179</td>\n",
       "      <td>458,715350223547</td>\n",
       "      <td>17,33</td>\n",
       "      <td>73</td>\n",
       "      <td>265</td>\n",
       "    </tr>\n",
       "    <tr>\n",
       "      <th>4</th>\n",
       "      <td>2019</td>\n",
       "      <td>COMUNI</td>\n",
       "      <td>LAZIO</td>\n",
       "      <td>VITERBO</td>\n",
       "      <td>VT</td>\n",
       "      <td>RdO</td>\n",
       "      <td>192</td>\n",
       "      <td>4560158,09</td>\n",
       "      <td>NaN</td>\n",
       "      <td>78,6458333333333</td>\n",
       "      <td>10,2251655629139</td>\n",
       "      <td>9,82</td>\n",
       "      <td>32</td>\n",
       "      <td>63</td>\n",
       "    </tr>\n",
       "  </tbody>\n",
       "</table>\n",
       "</div>"
      ],
      "text/plain": [
       "   #Anno_Riferimento Tipologia_Amministrazione Regione_PA Provincia_PA  \\\n",
       "0               2019                    COMUNI      LAZIO    FROSINONE   \n",
       "1               2019                    COMUNI      LAZIO       LATINA   \n",
       "2               2019                    COMUNI      LAZIO        RIETI   \n",
       "3               2019                    COMUNI      LAZIO         ROMA   \n",
       "4               2019                    COMUNI      LAZIO      VITERBO   \n",
       "\n",
       "  Sigla_provincia_PA Tipo_negoziazione  N_Negoziazioni_Pubblicate  \\\n",
       "0                 FR               RdO                        106   \n",
       "1                 LT               RdO                        282   \n",
       "2                 RI               RdO                         61   \n",
       "3                 RM               RdO                       1610   \n",
       "4                 VT               RdO                        192   \n",
       "\n",
       "  Valore_economico_Base_Asta Perc_Negoziazioni_base_asta  \\\n",
       "0                 5400325,14                         NaN   \n",
       "1                29067916,81                         NaN   \n",
       "2                  2764668,6                         NaN   \n",
       "3               224445617,47                         NaN   \n",
       "4                 4560158,09                         NaN   \n",
       "\n",
       "  Perc_RdO_con_invito_selettivo N_medio_fornitori_invitati  \\\n",
       "0              74,5283018867924           3,44303797468354   \n",
       "1               72,027972027972           49,2330097087379   \n",
       "2              85,2459016393443           3,84615384615385   \n",
       "3              83,3022967101179           458,715350223547   \n",
       "4              78,6458333333333           10,2251655629139   \n",
       "\n",
       "  Tempo_medio_offerte  N_PA_Appaltanti  N_PO  \n",
       "0                8,57               26    40  \n",
       "1               15,53               27    74  \n",
       "2                9,25               17    24  \n",
       "3               17,33               73   265  \n",
       "4                9,82               32    63  "
      ]
     },
     "execution_count": 34,
     "metadata": {},
     "output_type": "execute_result"
    }
   ],
   "source": [
    "appalti_3 = pd.read_csv(\n",
    "    \"../input/rdo-td-bandite-mepa-2019.csv\",\n",
    "    skiprows=0,\n",
    "    encoding=\"ISO-8859-1\",\n",
    "    low_memory=False,\n",
    ")\n",
    "appalti_3.head()"
   ]
  },
  {
   "cell_type": "code",
   "execution_count": 35,
   "metadata": {
    "ExecuteTime": {
     "end_time": "2020-05-08T07:48:12.568467Z",
     "start_time": "2020-05-08T07:48:12.565179Z"
    }
   },
   "outputs": [
    {
     "data": {
      "text/plain": [
       "(2435, 14)"
      ]
     },
     "execution_count": 35,
     "metadata": {},
     "output_type": "execute_result"
    }
   ],
   "source": [
    "appalti_3.shape"
   ]
  },
  {
   "cell_type": "markdown",
   "metadata": {},
   "source": [
    "# Prime considerazioni\n",
    "\n",
    "Dopo aver esaminato i dati, uno studio in termini di serie temporali non e' possibile: solo due anni (e due mesi). Quindi non si puo' rispondere con confidenza a domande sull'andamento generale delle spese della PA. Peraltro, mi pare di capire che i dati siano solo relativi ad alcune amministrazioni che sono \n",
    "\n",
    "> registrate al progetto di razionalizzazione degli acquisti \n",
    "\n",
    "(dal tooltip sul dataset ``Amministrazioni``). Il fatto che la registrazione sia avvenuta su base volontaria o sia basata su procedura di campionamento non e' descritto chiaramente. Quindi, non si possono trarre conclusioni sull'intera PA."
   ]
  },
  {
   "cell_type": "markdown",
   "metadata": {},
   "source": [
    "# Esplorando\n",
    "\n",
    "* Adversarial validation: 2018, 2019?"
   ]
  },
  {
   "cell_type": "code",
   "execution_count": null,
   "metadata": {},
   "outputs": [],
   "source": []
  }
 ],
 "metadata": {
  "kernelspec": {
   "display_name": "Python 3",
   "language": "python",
   "name": "python3"
  },
  "language_info": {
   "codemirror_mode": {
    "name": "ipython",
    "version": 3
   },
   "file_extension": ".py",
   "mimetype": "text/x-python",
   "name": "python",
   "nbconvert_exporter": "python",
   "pygments_lexer": "ipython3",
   "version": "3.6.9"
  },
  "toc": {
   "base_numbering": 1,
   "nav_menu": {},
   "number_sections": true,
   "sideBar": true,
   "skip_h1_title": false,
   "title_cell": "Table of Contents",
   "title_sidebar": "Contents",
   "toc_cell": true,
   "toc_position": {},
   "toc_section_display": true,
   "toc_window_display": false
  }
 },
 "nbformat": 4,
 "nbformat_minor": 4
}
